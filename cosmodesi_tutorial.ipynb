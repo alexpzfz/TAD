{
 "cells": [
  {
   "cell_type": "markdown",
   "id": "b956db09-9708-4f4a-a6f9-21a692138f37",
   "metadata": {},
   "source": [
    "# cosmodesi tutorial"
   ]
  },
  {
   "cell_type": "markdown",
   "id": "887344c6-bcb9-4d87-9590-d2dd72d9de39",
   "metadata": {},
   "source": [
    "## Overview\n",
    "\n",
    "This tutorial builds on Arnaud's tutorial (), but it was thought\n",
    "\n",
    "The main objective is to give a hands-on introduction to the different tools within the pipeline."
   ]
  },
  {
   "cell_type": "markdown",
   "id": "960734a6-a9b6-42c7-9bed-764f038d6f2d",
   "metadata": {},
   "source": [
    "## cosmoprimo\n",
    "\n",
    "Primordial cosmology package. Provides a consistent way to call and interact with your favourite Boltzmann codes (CAMB & CLASS). However it is more than just a wrapper!"
   ]
  },
  {
   "cell_type": "code",
   "execution_count": 1,
   "id": "b3b8e479-041a-40a8-a4b2-d4c184be075a",
   "metadata": {
    "tags": []
   },
   "outputs": [
    {
     "name": "stderr",
     "output_type": "stream",
     "text": [
      "No GPU/TPU found, falling back to CPU. (Set TF_CPP_MIN_LOG_LEVEL=0 and rerun for more info.)\n"
     ]
    },
    {
     "data": {
      "text/plain": [
       "cosmoprimo.cosmology.Cosmology"
      ]
     },
     "execution_count": 1,
     "metadata": {},
     "output_type": "execute_result"
    }
   ],
   "source": [
    "from cosmoprimo import Cosmology, fiducial\n",
    "\n",
    "# DESI fiducial cosmology\n",
    "cosmo = fiducial.DESI()\n",
    "type(cosmo)"
   ]
  },
  {
   "cell_type": "code",
   "execution_count": 2,
   "id": "c158747d-90c0-4351-a933-c317b2f29ef0",
   "metadata": {
    "tags": []
   },
   "outputs": [
    {
     "name": "stdout",
     "output_type": "stream",
     "text": [
      "Help on Cosmology in module cosmoprimo.cosmology object:\n",
      "\n",
      "class Cosmology(BaseCosmology)\n",
      " |  Cosmology(engine=None, extra_params=None, **params)\n",
      " |  \n",
      " |  Cosmology, defined as a set of parameters (and possibly a current engine attached to it).\n",
      " |  \n",
      " |  Method resolution order:\n",
      " |      Cosmology\n",
      " |      BaseCosmology\n",
      " |      cosmoprimo.utils.BaseClass\n",
      " |      builtins.object\n",
      " |  \n",
      " |  Methods defined here:\n",
      " |  \n",
      " |  __dir__(self)\n",
      " |      List of non-duplicate members from all sections.\n",
      " |      Adapted from https://github.com/bccp/nbodykit/blob/master/nbodykit/cosmology/cosmology.py.\n",
      " |  \n",
      " |  __eq__(self, other)\n",
      " |      Is ``other`` same as ``self``?\n",
      " |  \n",
      " |  __getattr__(self, name)\n",
      " |      Find the proper section, initialize it, and return its attribute.\n",
      " |      For example, calling ``cosmo.comoving_radial_distance`` will actually return ``cosmo.get_background().comoving_radial_distance``.\n",
      " |      Adapted from https://github.com/bccp/nbodykit/blob/master/nbodykit/cosmology/cosmology.py.\n",
      " |  \n",
      " |  __getstate__(self)\n",
      " |      Return this class state dictionary.\n",
      " |  \n",
      " |  __init__(self, engine=None, extra_params=None, **params)\n",
      " |      Initialize :class:`Cosmology`.\n",
      " |      \n",
      " |      Note\n",
      " |      ----\n",
      " |      If ``Omega_m`` (or ``omega_m``) is provided, ``Omega_cdm`` is infered by subtracting ``Omega_b`` and the non-relativistic part of ``Omega_ncdm``\n",
      " |      from ``Omega_m``.\n",
      " |      Massive neutrinos can be provided e.g. through ``m_ncdm`` or ``Omega_ncdm``/``omega_ncdm`` with their temperatures w.r.t. CMB ``T_ncdm_over_cmb``.\n",
      " |      In the case of ``Omega_ncdm``, the neutrino energy density (see :func:`_compute_ncdm_momenta`) will be inverted to recover ``m_ncdm``.\n",
      " |      If a single value for ``m_ncdm`` or ``Omega_ncdm`` is provided, ``neutrino_hierarchy`` can be set to ``None`` (default, single massive neutrino)\n",
      " |      or 'normal', 'inverted', 'degenerate' (all neutrinos with same mass), which will determine the masses of the 3 neutrinos.\n",
      " |      If the number of relativistic species ``N_ur`` is not provided (or ``None``), it will be determined\n",
      " |      from the desired effective number of neutrinos ``N_eff`` (typically kept at 3.044 for 3 neutrinos whatever ``m_ncdm`` or ``Omega_ncdm``/``omega_ncdm``)\n",
      " |      and the number of massless neutrinos (:math:`m \\leq 0.00017`), which are then removed from the list ``m_ncdm``.\n",
      " |      Parameter ``Omega_ncdm``/``omega_ncdm`` (accessed as ``cosmo['Omega_ncdm']``/``cosmo['omega_ncdm']``)\n",
      " |      will always provide the total energy density of neutrinos (single value).\n",
      " |      The pivot scale ``k_pivot`` is in :math:`\\mathrm{Mpc}^{-1}`.`\n",
      " |      \n",
      " |      Parameters\n",
      " |      ----------\n",
      " |      engine : string, default=None\n",
      " |          Engine name, one of ['class', 'camb', 'eisenstein_hu', 'eisenstein_hu_nowiggle', 'bbks'].\n",
      " |          If ``None``, no engine is set.\n",
      " |      \n",
      " |      extra_params : dict, default=None\n",
      " |          Extra engine parameters, typically precision parameters.\n",
      " |      \n",
      " |      params : dict\n",
      " |          Cosmological and calculation parameters which take priority over the default ones.\n",
      " |  \n",
      " |  __setstate__(self, state)\n",
      " |      Set the class state dictionary.\n",
      " |  \n",
      " |  clone(self, base=None, engine=None, extra_params=None, **params)\n",
      " |      Clone current cosmology instance, optionally updating engine and parameters.\n",
      " |      \n",
      " |      Parameters\n",
      " |      ----------\n",
      " |      base : string, default=None\n",
      " |          If 'input', update input parameters.\n",
      " |          Else, update parameters in the internal :math:`h, \\Omega, m_{cdm}` basis.\n",
      " |          If, e.g. input parameters are :math:`h, \\omega_{b}, \\omega_{cdm}`, ``clone(h=0.7)``\n",
      " |          returns the same cosmology, but with :math:`h = 0.7`; since :math:`\\Omega_{b}, \\Omega_{cdm}` are kept fixed,\n",
      " |          :math:`\\omega_{b}, \\omega_{cdm}` are modified.\n",
      " |          Instead, with ``clone(h=0.7, base='input')`` :math:`\\omega_{b}, \\omega_{cdm}` are left unchanged,\n",
      " |          but :math:`\\Omega_{b}, \\Omega_{cdm}` are modified.\n",
      " |      \n",
      " |      engine : string, default=None\n",
      " |          Engine name, one of ['class', 'camb', 'eisenstein_hu', 'eisenstein_hu_nowiggle', 'bbks'].\n",
      " |          If ``None``, use same engine (class) as current instance.\n",
      " |      \n",
      " |      extra_params : dict, default=None\n",
      " |          Extra engine parameters, typically precision parameters.\n",
      " |      \n",
      " |      params : dict\n",
      " |          Cosmological and calculation parameters which take priority over the current ones.\n",
      " |      \n",
      " |      Returns\n",
      " |      -------\n",
      " |      new : Cosmology\n",
      " |          Copy of current instance, with updated engine and parameters.\n",
      " |  \n",
      " |  get_background = getter(self, engine=None, set_engine=True, **extra_params)\n",
      " |      Get background.\n",
      " |      \n",
      " |      Parameters\n",
      " |      ----------\n",
      " |      engine : string, default=None\n",
      " |          Engine name, one of ['class', 'camb', 'eisenstein_hu', 'eisenstein_hu_nowiggle', 'eisenstein_hu_variants', 'bbks'].\n",
      " |          If ``None``, returns current :attr:`Cosmology.engine`.\n",
      " |      \n",
      " |      set_engine : bool, default=True\n",
      " |          Whether to attach returned engine to ``cosmology``.\n",
      " |          (Set ``False`` if e.g. you want to use this engine for a single calculation).\n",
      " |      \n",
      " |      extra_params : dict\n",
      " |          Extra engine parameters, typically precision parameters.\n",
      " |  \n",
      " |  get_fourier = getter(self, engine=None, set_engine=True, **extra_params)\n",
      " |      Get fourier.\n",
      " |      \n",
      " |      Parameters\n",
      " |      ----------\n",
      " |      engine : string, default=None\n",
      " |          Engine name, one of ['class', 'camb', 'eisenstein_hu', 'eisenstein_hu_nowiggle', 'eisenstein_hu_variants', 'bbks'].\n",
      " |          If ``None``, returns current :attr:`Cosmology.engine`.\n",
      " |      \n",
      " |      set_engine : bool, default=True\n",
      " |          Whether to attach returned engine to ``cosmology``.\n",
      " |          (Set ``False`` if e.g. you want to use this engine for a single calculation).\n",
      " |      \n",
      " |      extra_params : dict\n",
      " |          Extra engine parameters, typically precision parameters.\n",
      " |  \n",
      " |  get_harmonic = getter(self, engine=None, set_engine=True, **extra_params)\n",
      " |      Get harmonic.\n",
      " |      \n",
      " |      Parameters\n",
      " |      ----------\n",
      " |      engine : string, default=None\n",
      " |          Engine name, one of ['class', 'camb', 'eisenstein_hu', 'eisenstein_hu_nowiggle', 'eisenstein_hu_variants', 'bbks'].\n",
      " |          If ``None``, returns current :attr:`Cosmology.engine`.\n",
      " |      \n",
      " |      set_engine : bool, default=True\n",
      " |          Whether to attach returned engine to ``cosmology``.\n",
      " |          (Set ``False`` if e.g. you want to use this engine for a single calculation).\n",
      " |      \n",
      " |      extra_params : dict\n",
      " |          Extra engine parameters, typically precision parameters.\n",
      " |  \n",
      " |  get_perturbations = getter(self, engine=None, set_engine=True, **extra_params)\n",
      " |      Get perturbations.\n",
      " |      \n",
      " |      Parameters\n",
      " |      ----------\n",
      " |      engine : string, default=None\n",
      " |          Engine name, one of ['class', 'camb', 'eisenstein_hu', 'eisenstein_hu_nowiggle', 'eisenstein_hu_variants', 'bbks'].\n",
      " |          If ``None``, returns current :attr:`Cosmology.engine`.\n",
      " |      \n",
      " |      set_engine : bool, default=True\n",
      " |          Whether to attach returned engine to ``cosmology``.\n",
      " |          (Set ``False`` if e.g. you want to use this engine for a single calculation).\n",
      " |      \n",
      " |      extra_params : dict\n",
      " |          Extra engine parameters, typically precision parameters.\n",
      " |  \n",
      " |  get_primordial = getter(self, engine=None, set_engine=True, **extra_params)\n",
      " |      Get primordial.\n",
      " |      \n",
      " |      Parameters\n",
      " |      ----------\n",
      " |      engine : string, default=None\n",
      " |          Engine name, one of ['class', 'camb', 'eisenstein_hu', 'eisenstein_hu_nowiggle', 'eisenstein_hu_variants', 'bbks'].\n",
      " |          If ``None``, returns current :attr:`Cosmology.engine`.\n",
      " |      \n",
      " |      set_engine : bool, default=True\n",
      " |          Whether to attach returned engine to ``cosmology``.\n",
      " |          (Set ``False`` if e.g. you want to use this engine for a single calculation).\n",
      " |      \n",
      " |      extra_params : dict\n",
      " |          Extra engine parameters, typically precision parameters.\n",
      " |  \n",
      " |  get_thermodynamics = getter(self, engine=None, set_engine=True, **extra_params)\n",
      " |      Get thermodynamics.\n",
      " |      \n",
      " |      Parameters\n",
      " |      ----------\n",
      " |      engine : string, default=None\n",
      " |          Engine name, one of ['class', 'camb', 'eisenstein_hu', 'eisenstein_hu_nowiggle', 'eisenstein_hu_variants', 'bbks'].\n",
      " |          If ``None``, returns current :attr:`Cosmology.engine`.\n",
      " |      \n",
      " |      set_engine : bool, default=True\n",
      " |          Whether to attach returned engine to ``cosmology``.\n",
      " |          (Set ``False`` if e.g. you want to use this engine for a single calculation).\n",
      " |      \n",
      " |      extra_params : dict\n",
      " |          Extra engine parameters, typically precision parameters.\n",
      " |  \n",
      " |  get_transfer = getter(self, engine=None, set_engine=True, **extra_params)\n",
      " |      Get transfer.\n",
      " |      \n",
      " |      Parameters\n",
      " |      ----------\n",
      " |      engine : string, default=None\n",
      " |          Engine name, one of ['class', 'camb', 'eisenstein_hu', 'eisenstein_hu_nowiggle', 'eisenstein_hu_variants', 'bbks'].\n",
      " |          If ``None``, returns current :attr:`Cosmology.engine`.\n",
      " |      \n",
      " |      set_engine : bool, default=True\n",
      " |          Whether to attach returned engine to ``cosmology``.\n",
      " |          (Set ``False`` if e.g. you want to use this engine for a single calculation).\n",
      " |      \n",
      " |      extra_params : dict\n",
      " |          Extra engine parameters, typically precision parameters.\n",
      " |  \n",
      " |  save(self, filename)\n",
      " |      Save class to disk.\n",
      " |  \n",
      " |  set_engine(self, engine, set_engine=True, **extra_params)\n",
      " |      Set engine for cosmological calculation.\n",
      " |      \n",
      " |      Parameters\n",
      " |      ----------\n",
      " |      engine : string\n",
      " |          Engine name, one of ['class', 'camb', 'eisenstein_hu', 'eisenstein_hu_nowiggle', 'bbks'].\n",
      " |      \n",
      " |      set_engine : bool, default=True\n",
      " |          Whether to attach returned engine to ``cosmology``.\n",
      " |          (Set ``False`` if e.g. you want to use this engine for a single calculation).\n",
      " |      \n",
      " |      extra_params : dict\n",
      " |          Extra engine parameters, typically precision parameters.\n",
      " |  \n",
      " |  ----------------------------------------------------------------------\n",
      " |  Class methods defined here:\n",
      " |  \n",
      " |  from_state(state) from builtins.type\n",
      " |      Instantiate and initalise class with state dictionary.\n",
      " |  \n",
      " |  get_default_parameters(of=None, include_conflicts=True) from builtins.type\n",
      " |      Return default input parameters.\n",
      " |      \n",
      " |      Parameters\n",
      " |      ----------\n",
      " |      of : string, default=None\n",
      " |          One of ['cosmology','calculation'].\n",
      " |          If ``None``, returns all parameters.\n",
      " |      \n",
      " |      include_conflicts : bool, default=True\n",
      " |          Whether to include conflicting parameters (then all accepted parameters).\n",
      " |      \n",
      " |      Returns\n",
      " |      -------\n",
      " |      params : dict\n",
      " |          Dictionary of default parameters.\n",
      " |  \n",
      " |  load(filename) from builtins.type\n",
      " |      Load class from disk.\n",
      " |  \n",
      " |  ----------------------------------------------------------------------\n",
      " |  Readonly properties defined here:\n",
      " |  \n",
      " |  engine\n",
      " |  \n",
      " |  params\n",
      " |  \n",
      " |  ----------------------------------------------------------------------\n",
      " |  Data and other attributes defined here:\n",
      " |  \n",
      " |  __hash__ = None\n",
      " |  \n",
      " |  ----------------------------------------------------------------------\n",
      " |  Methods inherited from BaseCosmology:\n",
      " |  \n",
      " |  __getitem__(self, name)\n",
      " |      Return an input (or easily derived) parameter.\n",
      " |  \n",
      " |  get(self, *args, **kwargs)\n",
      " |      Return an input (or easily derived) parameter.\n",
      " |  \n",
      " |  ----------------------------------------------------------------------\n",
      " |  Methods inherited from cosmoprimo.utils.BaseClass:\n",
      " |  \n",
      " |  __copy__(self)\n",
      " |      Return shallow copy of ``self``.\n",
      " |  \n",
      " |  copy(self)\n",
      " |  \n",
      " |  ----------------------------------------------------------------------\n",
      " |  Data descriptors inherited from cosmoprimo.utils.BaseClass:\n",
      " |  \n",
      " |  __dict__\n",
      " |      dictionary for instance variables (if defined)\n",
      " |  \n",
      " |  __weakref__\n",
      " |      list of weak references to the object (if defined)\n",
      "\n"
     ]
    }
   ],
   "source": [
    "# explore some features\n",
    "help(cosmo)"
   ]
  },
  {
   "cell_type": "code",
   "execution_count": 3,
   "id": "2945ebd2-a2a3-4ca4-91f7-7dd87580622c",
   "metadata": {
    "tags": []
   },
   "outputs": [],
   "source": [
    "cosmo_new = Cosmology(engine='camb', **cosmo.params.copy())"
   ]
  },
  {
   "cell_type": "code",
   "execution_count": 4,
   "id": "04c05204-39c9-4e4d-a01a-a423aa7f2531",
   "metadata": {
    "tags": []
   },
   "outputs": [
    {
     "data": {
      "text/plain": [
       "Text(0.5, 0, '$\\\\ell$')"
      ]
     },
     "execution_count": 4,
     "metadata": {},
     "output_type": "execute_result"
    },
    {
     "data": {
      "image/png": "[encoded data removed]",
      "text/plain": [
       "<Figure size 640x480 with 1 Axes>"
      ]
     },
     "metadata": {},
     "output_type": "display_data"
    }
   ],
   "source": [
    "import matplotlib.pyplot as plt\n",
    "\n",
    "fig, ax = plt.subplots()\n",
    "unCl = cosmo_new.unlensed_cl()\n",
    "ell, tt = unCl['ell'], unCl['tt']\n",
    "ax.plot(ell, ell * (ell + 1) * tt)\n",
    "ax.set_xlabel(r'$\\ell$')"
   ]
  },
  {
   "cell_type": "markdown",
   "id": "3990da05-1c89-4aae-ad29-24014f4d6fb0",
   "metadata": {
    "jp-MarkdownHeadingCollapsed": true,
    "tags": []
   },
   "source": [
    "#### Exercise\n",
    "Create a cosmology instance with the same parameters as the DESI fiducial cosmology but with 10% more baryons. Plot the luminous distance for both cosmologies as a function of z."
   ]
  },
  {
   "cell_type": "markdown",
   "id": "6ccead0f-595a-4427-85a4-caac3f3d34d9",
   "metadata": {
    "tags": []
   },
   "source": [
    "## pypower\n",
    "Power spectrum computation. Partly a re-implementation of some of nbodykit code, but with much more features!"
   ]
  },
  {
   "cell_type": "code",
   "execution_count": 5,
   "id": "9338a36e-f5bd-46c9-be32-8b017e213bbd",
   "metadata": {
    "tags": []
   },
   "outputs": [],
   "source": [
    "from mockfactory import Catalog\n",
    "import fitsio\n",
    "import numpy as np"
   ]
  },
  {
   "cell_type": "code",
   "execution_count": 6,
   "id": "1101cff6-e4d1-4c7a-9e89-26288f5da73b",
   "metadata": {},
   "outputs": [
    {
     "data": {
      "text/plain": [
       "array([[1.02509156e+00, 9.95701004e+02, 9.88857284e+01],\n",
       "       [2.53079416e+00, 2.17009176e+00, 2.46750674e+02],\n",
       "       [9.97101107e+02, 9.93153205e+02, 3.78629646e+02],\n",
       "       ...,\n",
       "       [7.21251439e-02, 7.25624385e+00, 6.16206805e+02],\n",
       "       [9.93954261e+02, 6.21134904e-02, 8.03775985e+02],\n",
       "       [9.97612892e+02, 9.99989342e+02, 8.13936803e+02]])"
      ]
     },
     "execution_count": 6,
     "metadata": {},
     "output_type": "execute_result"
    }
   ],
   "source": [
    "data = fitsio.read('mock_catalog.fits')\n",
    "data['Position']"
   ]
  },
  {
   "cell_type": "code",
   "execution_count": 13,
   "id": "d8b3622d-862b-459a-b1b4-fd28aaab050d",
   "metadata": {
    "tags": []
   },
   "outputs": [],
   "source": [
    "data['Position'][:, 2] = data['Position'][:, 2] % 1000."
   ]
  },
  {
   "cell_type": "code",
   "execution_count": 14,
   "id": "93baa9c9-b043-4b51-b571-d35a6bdbff6b",
   "metadata": {
    "tags": []
   },
   "outputs": [],
   "source": [
    "from pypower import CatalogFFTPower, PowerSpectrumMultipoles, setup_logging\n",
    "setup_logging()"
   ]
  },
  {
   "cell_type": "code",
   "execution_count": 15,
   "id": "dd6016e0-9252-4241-a19c-a02dc57a24b1",
   "metadata": {},
   "outputs": [
    {
     "name": "stdout",
     "output_type": "stream",
     "text": [
      "[000000.59]  08-11 15:17  CatalogFFTPower              INFO     Painting catalog 1 to mesh CatalogMesh(nmesh=[128 128 128], boxsize=[1000. 1000. 1000.], boxcenter=[500. 500. 500.], dtype=float64).\n",
      "[000000.63]  08-11 15:17  CatalogMesh                  INFO     Slab 0 ~ 4194304 / 999029.\n",
      "[000001.29]  08-11 15:17  CatalogMesh                  INFO     Painted 999029 out of 999029 objects to mesh.\n",
      "[000001.29]  08-11 15:17  CatalogMesh                  INFO     Running interlacing at order 2.\n",
      "[000001.37]  08-11 15:17  CatalogMesh                  INFO     Slab 0 ~ 4194304 / 999029.\n",
      "[000001.97]  08-11 15:17  CatalogMesh                  INFO     Painted 999029 out of 999029 objects to mesh.\n",
      "[000002.10]  08-11 15:17  CatalogFFTPower              INFO     Done painting catalog 1 to mesh.\n",
      "[000002.10]  08-11 15:17  CatalogFFTPower              INFO     Using 402 k-bins between 0.000 and 0.402.\n",
      "[000002.10]  08-11 15:17  CatalogFFTPower              INFO     Meshes prepared in elapsed time 1.51 s.\n",
      "[000002.10]  08-11 15:17  CatalogFFTPower              INFO     Running mesh calculation.\n",
      "[000002.38]  08-11 15:17  CatalogFFTPower              INFO     Mesh calculations performed in elapsed time 0.28 s.\n",
      "[000002.38]  08-11 15:17  CatalogFFTPower              INFO     Power spectrum computed in elapsed time 1.79 s.\n"
     ]
    }
   ],
   "source": [
    "power = CatalogFFTPower(data_positions1=data['Position'],\n",
    "                        boxsize=1000., boxcenter=500.,\n",
    "                        interlacing = 2, los='z',\n",
    "                        edges={'step': 0.001}, ells=(0, 2),\n",
    "                        position_type='pos', nmesh=128)"
   ]
  },
  {
   "cell_type": "code",
   "execution_count": 16,
   "id": "423e4f39-f4d0-4a94-a233-0f990d7e63c9",
   "metadata": {
    "tags": []
   },
   "outputs": [
    {
     "data": {
      "text/plain": [
       "<Axes: xlabel='$k$ [$h/\\\\mathrm{Mpc}$]', ylabel='$k P_{\\\\ell}(k)$ [$(\\\\mathrm{Mpc}/h)^{2}$]'>"
      ]
     },
     "execution_count": 16,
     "metadata": {},
     "output_type": "execute_result"
    },
    {
     "data": {
      "image/png": "[encoded data removed]",
      "text/plain": [
       "<Figure size 640x480 with 1 Axes>"
      ]
     },
     "metadata": {},
     "output_type": "display_data"
    }
   ],
   "source": [
    "power.poles.plot()"
   ]
  },
  {
   "cell_type": "markdown",
   "id": "88352ea4-65ef-4926-b625-80a2275f0d9d",
   "metadata": {},
   "source": [
    "#### Exercise\n",
    "Rebin the power spectrum to dk=0.005 and compare the multipoles."
   ]
  },
  {
   "cell_type": "markdown",
   "id": "95ead800-696d-4a87-b5be-3309d02e3e83",
   "metadata": {},
   "source": [
    "## pyrecon (?)"
   ]
  },
  {
   "cell_type": "markdown",
   "id": "e2429b86-b160-4e8b-a479-c1a60adfa6e9",
   "metadata": {
    "tags": []
   },
   "source": [
    "# desilike"
   ]
  },
  {
   "cell_type": "code",
   "execution_count": 43,
   "id": "174272b0-6cce-4dda-b754-c7281177d3bb",
   "metadata": {},
   "outputs": [],
   "source": [
    "from desilike.theories.galaxy_clustering import LPTVelocileptorsTracerCorrelationFunctionMultipoles\n",
    "from desilike.observables.galaxy_clustering import TracerCorrelationFunctionMultipolesObservable\n",
    "from desilike.likelihoods import ObservablesGaussianLikelihood\n",
    "from desilike.emulators import EmulatedCalculator"
   ]
  },
  {
   "cell_type": "markdown",
   "id": "0202044d-a6e3-43f2-8559-2abc1257e2da",
   "metadata": {},
   "source": [
    "### Emulators"
   ]
  },
  {
   "cell_type": "code",
   "execution_count": null,
   "id": "21bdc387-5d56-4193-981d-5aeb2f21bc1f",
   "metadata": {},
   "outputs": [],
   "source": []
  }
 ],
 "metadata": {
  "kernelspec": {
   "display_name": "cosmodesi-main",
   "language": "python",
   "name": "cosmodesi-main"
  },
  "language_info": {
   "codemirror_mode": {
    "name": "ipython",
    "version": 3
   },
   "file_extension": ".py",
   "mimetype": "text/x-python",
   "name": "python",
   "nbconvert_exporter": "python",
   "pygments_lexer": "ipython3",
   "version": "3.10.12"
  }
 },
 "nbformat": 4,
 "nbformat_minor": 5
}
