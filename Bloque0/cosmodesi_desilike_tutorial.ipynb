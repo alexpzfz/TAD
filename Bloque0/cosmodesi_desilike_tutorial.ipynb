{
 "cells": [
  {
   "cell_type": "markdown",
   "id": "b956db09-9708-4f4a-a6f9-21a692138f37",
   "metadata": {},
   "source": [
    "# cosmodesi+desilike tutorial\n"
   ]
  },
  {
   "cell_type": "markdown",
   "id": "887344c6-bcb9-4d87-9590-d2dd72d9de39",
   "metadata": {
    "tags": []
   },
   "source": [
    "## Perspectiva general\n",
    "Este tutorial tiene una estructura general similar al tutorial presentado por Aranud en el DESI Summer Collaboration Meeting 2023 \n",
    "(https://github.com/cosmodesi/cosmodesi-tutorials). También está inspirado en algunos de los notebooks de ejemplo, y en el tutorial de desilike (https://github.com/cosmodesi/desilike-tutorial).\n",
    "\n",
    "El objetivo es dar una introducción a la sintaxis del código, mostrar un ejemplo de cómo correr el pipeline para hacer un fit de clustering de principio a fin y dar a los asistentes las noción general de la paquetería. Se asume que los participantes tienen nociones elementales de los diferentes elementos que conforman el pipeline y la física detrás (códigos de Boltzmann, función de correlación, espectro de potencias, BAO, full shape fit, etc.)\n",
    "\n",
    "El notebook está pensado para trabajarse de la siguiente forma: Cada parte de la paquetería se introduce de forma breve, se muestran algunas característcas y funcionalidades. Posteriormente sigue un ejercicio pensando para resolverse en conjunto con los participantes de forma guiada.\n",
    "\n",
    "## Contenido\n",
    "- **cosmoprimo**: Cosmología primordial\n",
    "- **pypower**: Computo de espectro de potencias\n",
    "- **pycorr**: Computo de fución de correlación.\n",
    "- **desilike**: Templates, teorías, observables, likelihoods y fits.\n",
    "\n",
    "\n",
    "#### Recordatorio antes de comenzar..\n",
    "Tomado del tutorial de Arnaud: *None of this is part of the \"DESI project\", i.e. everything relies on volunteering / service work.*\n"
   ]
  },
  {
   "cell_type": "markdown",
   "id": "960734a6-a9b6-42c7-9bed-764f038d6f2d",
   "metadata": {},
   "source": [
    "## cosmoprimo\n",
    "- Documentación: https://cosmoprimo.readthedocs.io/en/latest/index.html\n",
    "- Notebook de ejemplo: https://github.com/cosmodesi/cosmoprimo/blob/main/nb/examples.ipynb\n",
    "\n",
    "Cosmología primordial. Trabaja con camb/CLASS de fondo, pero con un \"framework\" consistente."
   ]
  },
  {
   "cell_type": "code",
   "execution_count": null,
   "id": "b3b8e479-041a-40a8-a4b2-d4c184be075a",
   "metadata": {
    "tags": []
   },
   "outputs": [],
   "source": [
    "from cosmoprimo import Cosmology, fiducial\n",
    "\n",
    "# DESI fiducial cosmology\n",
    "cosmo = fiducial.DESI()\n",
    "type(cosmo)"
   ]
  },
  {
   "cell_type": "code",
   "execution_count": null,
   "id": "c158747d-90c0-4351-a933-c317b2f29ef0",
   "metadata": {
    "tags": []
   },
   "outputs": [],
   "source": [
    "# explore some features\n",
    "help(cosmo)"
   ]
  },
  {
   "cell_type": "code",
   "execution_count": null,
   "id": "6ee45c70-be43-4fb3-9dac-c1d2778e5ee1",
   "metadata": {
    "tags": []
   },
   "outputs": [],
   "source": [
    "# print parameter dictionary\n",
    "print(cosmo.get_default_parameters())\n",
    "print('\\n')\n",
    "print(cosmo.get_default_parameters(include_conflicts=False))"
   ]
  },
  {
   "cell_type": "code",
   "execution_count": null,
   "id": "2945ebd2-a2a3-4ca4-91f7-7dd87580622c",
   "metadata": {
    "tags": []
   },
   "outputs": [],
   "source": [
    "# Use camb or class(default) as the engine for cosmological calculations\n",
    "#(Background, Thermodynamics, Primordial, Perturbations, Transfer, Harmonic, Fourier)\n",
    "cosmo_camb = Cosmology(engine='camb', **cosmo.params.copy())\n",
    "ba = cosmo_camb.get_background()"
   ]
  },
  {
   "cell_type": "code",
   "execution_count": null,
   "id": "34a07699-8296-47b0-9ad0-bef3de308528",
   "metadata": {
    "tags": []
   },
   "outputs": [],
   "source": [
    "# Calculate background products\n",
    "ba.angular_diameter_distance(0.1)"
   ]
  },
  {
   "cell_type": "code",
   "execution_count": null,
   "id": "b9fc8849-2010-4bc4-aa1b-a67b3ff10a28",
   "metadata": {
    "tags": []
   },
   "outputs": [],
   "source": [
    "# engine can be changed \"in-place\"\n",
    "print(cosmo.get_background(engine='class').angular_diameter_distance(0.1))\n",
    "print(cosmo.get_background(engine='camb').angular_diameter_distance(0.1))"
   ]
  },
  {
   "cell_type": "code",
   "execution_count": null,
   "id": "04c05204-39c9-4e4d-a01a-a423aa7f2531",
   "metadata": {
    "tags": []
   },
   "outputs": [],
   "source": [
    "# One can use some shortcuts directly\n",
    "unCl = cosmo_camb.unlensed_cl()\n",
    "\n",
    "import matplotlib.pyplot as plt\n",
    "import numpy as np\n",
    "\n",
    "fig, ax = plt.subplots()\n",
    "ell, tt = unCl['ell'], unCl['tt']\n",
    "ax.plot(ell, ell * (ell + 1) / (2 * np.pi) * tt)\n",
    "ax.set_xlabel(r'$\\ell$')\n",
    "ax.set_ylabel(r'$\\ell(\\ell+1)C_{\\ell}/(2\\pi)$')"
   ]
  },
  {
   "cell_type": "code",
   "execution_count": null,
   "id": "70cd667f-d377-4aa0-b54b-4d9dd6b6ecf1",
   "metadata": {
    "tags": []
   },
   "outputs": [],
   "source": [
    "# Instead of using the shorcuts, one can use one of the underlying classes\n",
    "from cosmoprimo import Background, Thermodynamics, Primordial, Transfer, Harmonic, Fourier"
   ]
  },
  {
   "cell_type": "code",
   "execution_count": null,
   "id": "272bb261-abea-4408-bef5-e4045c221886",
   "metadata": {
    "tags": []
   },
   "outputs": [],
   "source": [
    "fo = Fourier(cosmo, engine='class')\n",
    "z = 0.0\n",
    "pk = fo.pk_interpolator().to_1d(z=z)\n",
    "pk_cross = fo.pk_interpolator(of=('delta_cb', 'theta_cb')).to_1d(z=z)\n",
    "k = np.logspace(-3, 2, 1000)\n",
    "fig, ax = plt.subplots()\n",
    "ax.plot(k, pk(k), label=r'$P_m$')\n",
    "ax.plot(k, pk_cross(k), label=r'$P_{\\delta_{cb}\\theta_{cb}}$')\n",
    "\n",
    "\n",
    "ax.set_xscale('log')\n",
    "ax.set_yscale('log')\n",
    "ax.set_xlabel(r'$k$ [$h/\\mathrm{Mpc}$]')\n",
    "ax.set_ylabel(r'$P(k)$ [$(\\mathrm{Mpc}/h)^{3}$]')\n",
    "ax.legend()"
   ]
  },
  {
   "cell_type": "markdown",
   "id": "3990da05-1c89-4aae-ad29-24014f4d6fb0",
   "metadata": {
    "tags": []
   },
   "source": [
    "#### Ejercicio\n",
    "Create a cosmology instance with the same parameters as the Planck2018 cosmology but with 20% more cold dark matter. Plot the luminous distance for both cosmologies as a function of z."
   ]
  },
  {
   "cell_type": "markdown",
   "id": "6ccead0f-595a-4427-85a4-caac3f3d34d9",
   "metadata": {
    "tags": []
   },
   "source": [
    "## pypower\n",
    "- Documentación: https://pypower.readthedocs.io/en/latest/\n",
    "- Notebooks de ejemplo: https://github.com/cosmodesi/pypower/tree/main/nb\n",
    "\n",
    "\n",
    "Computo de espectro de potencias. Algunas reimplentaciones basadas en nbodykit pero con muchas más funcionalidades."
   ]
  },
  {
   "cell_type": "code",
   "execution_count": null,
   "id": "9338a36e-f5bd-46c9-be32-8b017e213bbd",
   "metadata": {
    "tags": []
   },
   "outputs": [],
   "source": [
    "# First let us load a mock galaxy catalog\n",
    "from mockfactory import Catalog\n",
    "import fitsio\n",
    "import numpy as np"
   ]
  },
  {
   "cell_type": "code",
   "execution_count": null,
   "id": "1101cff6-e4d1-4c7a-9e89-26288f5da73b",
   "metadata": {},
   "outputs": [],
   "source": [
    "# This catalog corresponds to a cubic box of side lenght = 1000 Mpc/h\n",
    "# positions are x, y, z coordinates, z coordinate includes RSD\n",
    "data = fitsio.read('mock_catalog_bias2.0_z0.8.fits')\n",
    "data['Position']"
   ]
  },
  {
   "cell_type": "code",
   "execution_count": null,
   "id": "da22c4bd-08a4-40c1-a18a-27542dfa8378",
   "metadata": {
    "tags": []
   },
   "outputs": [],
   "source": [
    "print(np.min(data['Position'][:,0]), np.max(data['Position'][:,0]))\n",
    "print(np.min(data['Position'][:,1]), np.max(data['Position'][:,1]))\n",
    "print(np.min(data['Position'][:,2]), np.max(data['Position'][:,2]))"
   ]
  },
  {
   "cell_type": "code",
   "execution_count": null,
   "id": "d8b3622d-862b-459a-b1b4-fd28aaab050d",
   "metadata": {
    "tags": []
   },
   "outputs": [],
   "source": [
    "# wrap z coordinate around\n",
    "data['Position'][:, 2] = data['Position'][:, 2] % 1000."
   ]
  },
  {
   "cell_type": "code",
   "execution_count": null,
   "id": "93baa9c9-b043-4b51-b571-d35a6bdbff6b",
   "metadata": {
    "tags": []
   },
   "outputs": [],
   "source": [
    "from pypower import CatalogFFTPower, PowerSpectrumMultipoles, setup_logging\n",
    "setup_logging()"
   ]
  },
  {
   "cell_type": "code",
   "execution_count": null,
   "id": "dd6016e0-9252-4241-a19c-a02dc57a24b1",
   "metadata": {},
   "outputs": [],
   "source": [
    "# Most of the time it's easier to use the high-level interface\n",
    "power = CatalogFFTPower(data_positions1=data['Position'],\n",
    "                        boxsize=1000., boxcenter=500.,\n",
    "                        interlacing = 2, los='z', resampler='tsc',\n",
    "                        edges={'step': 0.001}, ells=(0, 2),\n",
    "                        position_type='pos', nmesh=256)"
   ]
  },
  {
   "cell_type": "code",
   "execution_count": null,
   "id": "423e4f39-f4d0-4a94-a233-0f990d7e63c9",
   "metadata": {
    "tags": []
   },
   "outputs": [],
   "source": [
    "type(power)"
   ]
  },
  {
   "cell_type": "code",
   "execution_count": null,
   "id": "efbb8ddf-6360-4ab3-b514-9a76083b3b06",
   "metadata": {
    "tags": []
   },
   "outputs": [],
   "source": [
    "poles = power.poles\n",
    "type(poles)"
   ]
  },
  {
   "cell_type": "code",
   "execution_count": null,
   "id": "7cf6f9f1-5a58-422b-beff-dbb3a9d0234d",
   "metadata": {
    "tags": []
   },
   "outputs": [],
   "source": [
    "poles.plot()"
   ]
  },
  {
   "cell_type": "code",
   "execution_count": null,
   "id": "4a28b2cd-4cd9-4eff-8efc-c190c478347d",
   "metadata": {
    "tags": []
   },
   "outputs": [],
   "source": [
    "# Check attributes\n",
    "poles.attrs"
   ]
  },
  {
   "cell_type": "code",
   "execution_count": null,
   "id": "905b7194-8fbc-434f-bc17-c47979f50569",
   "metadata": {
    "tags": []
   },
   "outputs": [],
   "source": [
    "# Rebinning\n",
    "print('Initial k-modes:\\n', poles.kavg)\n",
    "#First truncate\n",
    "poles.slice(slice(0, 500))\n",
    "#Then rebin\n",
    "poles.rebin(5)\n",
    "print('After rebinning:\\n', poles.kavg)"
   ]
  },
  {
   "cell_type": "code",
   "execution_count": null,
   "id": "f0ed4fc7-8515-45d9-9a97-1be25cf92b56",
   "metadata": {
    "tags": []
   },
   "outputs": [],
   "source": [
    "poles.plot()"
   ]
  },
  {
   "cell_type": "code",
   "execution_count": null,
   "id": "da50a7ca-3933-4a1d-9896-bfb03bbb0c78",
   "metadata": {
    "tags": []
   },
   "outputs": [],
   "source": [
    "# Save your results\n",
    "poles.save('pk_multipoles')\n",
    "# As a txt file\n",
    "poles.save_txt('pk_multipoles.txt', complex=False)"
   ]
  },
  {
   "cell_type": "code",
   "execution_count": null,
   "id": "a6a7711e-a0c3-4c38-b6a8-4799a380e45b",
   "metadata": {
    "tags": []
   },
   "outputs": [],
   "source": [
    "# load npy file\n",
    "poles = PowerSpectrumMultipoles.load('pk_multipoles.npy')"
   ]
  },
  {
   "cell_type": "markdown",
   "id": "88352ea4-65ef-4926-b625-80a2275f0d9d",
   "metadata": {},
   "source": [
    "#### Ejercicio\n",
    "Calcular primero un `CatalogMesh` y calcular el power spectrum a partir de este (como en nbodykit). Utilizar `resampler=ngp` y comparar con el resultado previo."
   ]
  },
  {
   "cell_type": "markdown",
   "id": "95ead800-696d-4a87-b5be-3309d02e3e83",
   "metadata": {},
   "source": [
    "## pycorr\n",
    "- Documentación: https://py2pcf.readthedocs.io/en/latest/index.html\n",
    "- Notebooks de ejemplo: https://github.com/cosmodesi/pycorr/tree/main/nb\n",
    "\n",
    "Computo de función de correlación. El engine de fondo es `corrfunc`."
   ]
  },
  {
   "cell_type": "code",
   "execution_count": null,
   "id": "e77b95e0-8486-488b-986d-ad8935022e6d",
   "metadata": {},
   "outputs": [],
   "source": [
    "from pycorr import TwoPointCorrelationFunction\n",
    "\n",
    "# high-level interface similar to pypower\n",
    "# for a periodic box we can simply use the natural estimator\n",
    "result = TwoPointCorrelationFunction(mode='smu', data_positions1=data['Position'],\n",
    "                                     boxsize=1000., boxcenter=500., los='z',\n",
    "                                     edges=(np.linspace(0., 200., 201), np.linspace(-1., 1., 201)),\n",
    "                                     position_type='pos', dtype='f8')"
   ]
  },
  {
   "cell_type": "code",
   "execution_count": null,
   "id": "22691865-e173-4219-a760-606004457c58",
   "metadata": {
    "tags": []
   },
   "outputs": [],
   "source": [
    "result.plot(mode='poles')"
   ]
  },
  {
   "cell_type": "markdown",
   "id": "e2429b86-b160-4e8b-a479-c1a60adfa6e9",
   "metadata": {
    "tags": []
   },
   "source": [
    "# desilike\n",
    "- Documentación: https://desilike.readthedocs.io/en/latest/index.html\n",
    "- Notebooks de ejemplo: https://github.com/cosmodesi/desilike/tree/main/nb\n",
    "\n",
    "Provee un 'framework' consistente para el pipeline de DESI: *teorías, emuladores, observables, likelihoods, samplers, profilers*."
   ]
  },
  {
   "cell_type": "code",
   "execution_count": null,
   "id": "5cfc3cd1-2e39-45f2-93da-2e81bddc9f1a",
   "metadata": {
    "tags": []
   },
   "outputs": [],
   "source": [
    "from desilike import setup_logging\n",
    "setup_logging()"
   ]
  },
  {
   "cell_type": "markdown",
   "id": "3978137e-7baf-49ee-b16e-b964ce321767",
   "metadata": {},
   "source": [
    "### Theories"
   ]
  },
  {
   "cell_type": "code",
   "execution_count": null,
   "id": "c834b0ed-71b9-43c8-b83e-76c424abe683",
   "metadata": {
    "tags": []
   },
   "outputs": [],
   "source": [
    "from desilike.theories.galaxy_clustering import (DirectPowerSpectrumTemplate, KaiserTracerPowerSpectrumMultipoles,\n",
    "                                                 FOLPSTracerPowerSpectrumMultipoles, DampedBAOWigglesTracerPowerSpectrumMultipoles,\n",
    "                                                 StandardPowerSpectrumTemplate)"
   ]
  },
  {
   "cell_type": "code",
   "execution_count": null,
   "id": "71dfe0bf-908f-42c1-b29f-f12a0c32d71a",
   "metadata": {
    "tags": []
   },
   "outputs": [],
   "source": [
    "# Direct power spectrum template\n",
    "template = DirectPowerSpectrumTemplate(z=0.8, fiducial='DESI')\n",
    "theory = FOLPSTracerPowerSpectrumMultipoles(template=template)"
   ]
  },
  {
   "cell_type": "code",
   "execution_count": null,
   "id": "cd23b8c7-eb56-4c4f-bbb2-46c07addb301",
   "metadata": {
    "tags": []
   },
   "outputs": [],
   "source": [
    "# Template and theory parameters\n",
    "print(template.params)\n",
    "print(theory.params)\n",
    "print(theory.all_params)"
   ]
  },
  {
   "cell_type": "code",
   "execution_count": null,
   "id": "dbc89c68-01b4-46cb-aadd-3ab1dc80dc4a",
   "metadata": {
    "tags": []
   },
   "outputs": [],
   "source": [
    "# Standard compression\n",
    "template = StandardPowerSpectrumTemplate(z=0.8, fiducial='DESI')\n",
    "print(template.params)\n",
    "theory = FOLPSTracerPowerSpectrumMultipoles(template=template)\n",
    "print(theory.params)"
   ]
  },
  {
   "cell_type": "code",
   "execution_count": null,
   "id": "3f71b1cc-f643-48c0-8cfc-81da9a39cfaf",
   "metadata": {
    "tags": []
   },
   "outputs": [],
   "source": [
    "# just for fun...\n",
    "# how does the AP parameters change the clustering\n",
    "cmap = plt.get_cmap('jet', 5)\n",
    "fig, axes = plt.subplots(1, 2, figsize=(10, 4))\n",
    "values = np.linspace(0.98, 1.2, 5)\n",
    "for j, param in enumerate(['qpar', 'qper']):\n",
    "    for ivalue, value in enumerate(values):\n",
    "        pk_poles = theory(**{param:value})\n",
    "        for ill, ell in enumerate(theory.ells):\n",
    "            label = value if ill==0 else None\n",
    "            axes[j].plot(theory.k, theory.k * pk_poles[ill], color=cmap(ivalue), label=label)\n",
    "            axes[j].legend()\n",
    "axes[0].set_title(r'$q_\\parallel$')\n",
    "axes[1].set_title(r'$q_\\perp$')"
   ]
  },
  {
   "cell_type": "code",
   "execution_count": null,
   "id": "4f180bad-d4fa-488f-a071-b61e9ca080d6",
   "metadata": {},
   "outputs": [],
   "source": [
    "# For the following fits we will use the Kaiser power spectrum as the model\n",
    "# To ensure computation times are reasonable\n",
    "template = DirectPowerSpectrumTemplate(z=0.8, fiducial='DESI')\n",
    "for param in ['omega_b', 'n_s']: template.params[param].update(fixed=True)\n",
    "theory = KaiserTracerPowerSpectrumMultipoles(template=template)\n",
    "theory.params['b1'].update(value=2.)"
   ]
  },
  {
   "cell_type": "markdown",
   "id": "4352996e-03e8-4d9b-8199-9f9465b1ab60",
   "metadata": {},
   "source": [
    "### Observable and Likelihood"
   ]
  },
  {
   "cell_type": "code",
   "execution_count": null,
   "id": "14b0c909-1b40-4f5c-9fd2-dc9b9863581b",
   "metadata": {
    "tags": []
   },
   "outputs": [],
   "source": [
    "# first load covariance matrix\n",
    "covariance = np.load('covariance_pk.npy')"
   ]
  },
  {
   "cell_type": "code",
   "execution_count": null,
   "id": "fb4e5787-f8fd-4f6d-af36-c2e54c1f6f72",
   "metadata": {
    "tags": []
   },
   "outputs": [],
   "source": [
    "# Arnaud's function to cut covariance\n",
    "def cut_matrix(cov, xcov, ellscov, xlim):\n",
    "    import numpy as np\n",
    "    assert len(cov) == len(xcov) * len(ellscov), 'Input matrix has size {}, different than {} x {}'.format(len(cov), len(xcov), len(ellscov))\n",
    "    indices = []\n",
    "    for ell, xlim in xlim.items():\n",
    "        index = ellscov.index(ell) * len(xcov) + np.arange(len(xcov))\n",
    "        index = index[(xcov >= xlim[0]) & (xcov <= xlim[1])]\n",
    "        indices.append(index)\n",
    "    indices = np.concatenate(indices, axis=0)\n",
    "    return cov[np.ix_(indices, indices)]"
   ]
  },
  {
   "cell_type": "code",
   "execution_count": null,
   "id": "13e6d750-c49d-47aa-bdf1-62827ecb0a69",
   "metadata": {
    "tags": []
   },
   "outputs": [],
   "source": [
    "klim={0: [0.02, 0.2], 2: [0.02, 0.2]} # dictionary of ranges\n",
    "k = 1/2 * (poles.kedges[1:] + poles.kedges[:-1])\n",
    "covariance = cut_matrix(covariance, k, (0, 2, 4), klim)"
   ]
  },
  {
   "cell_type": "code",
   "execution_count": null,
   "id": "5f256f73-2e44-4b5b-aa89-45eefe335377",
   "metadata": {
    "tags": []
   },
   "outputs": [],
   "source": [
    "from desilike.observables.galaxy_clustering import TracerPowerSpectrumMultipolesObservable\n",
    "from desilike.likelihoods import ObservablesGaussianLikelihood\n",
    "# Define observable\n",
    "# one could also use the correlation funcition multipoles\n",
    "observable = TracerPowerSpectrumMultipolesObservable(data=poles, covariance=covariance,\n",
    "                                                     klim=klim, \n",
    "                                                     theory=theory)\n",
    "\n",
    "likelihood = ObservablesGaussianLikelihood(observables=[observable])\n",
    "#itinialise the likelihood\n",
    "likelihood()"
   ]
  },
  {
   "cell_type": "markdown",
   "id": "0202044d-a6e3-43f2-8559-2abc1257e2da",
   "metadata": {},
   "source": [
    "### Emulators"
   ]
  },
  {
   "cell_type": "code",
   "execution_count": null,
   "id": "124e1b2a-c562-48b9-875c-fb890a026da2",
   "metadata": {
    "tags": []
   },
   "outputs": [],
   "source": [
    "from desilike.emulators import EmulatedCalculator, Emulator, TaylorEmulatorEngine"
   ]
  },
  {
   "cell_type": "code",
   "execution_count": null,
   "id": "5d2e2f4c-00e9-476b-9ce0-8191279d0307",
   "metadata": {
    "tags": []
   },
   "outputs": [],
   "source": [
    "# Use Taylor expansion emulator (with finate differences)\n",
    "# Alternativaly use mlp emulator\n",
    "emulator = Emulator(theory, engine=TaylorEmulatorEngine(order={'*': 2, 'sn0': 1}))  # order 2 except for sn0 \n",
    "emulator.set_samples()\n",
    "emulator.fit()"
   ]
  },
  {
   "cell_type": "code",
   "execution_count": null,
   "id": "695b21b5-62d1-4adf-ae7a-14a68c73335a",
   "metadata": {
    "tags": []
   },
   "outputs": [],
   "source": [
    "emulator.save('emulator_kaiser')"
   ]
  },
  {
   "cell_type": "code",
   "execution_count": null,
   "id": "841fadcc-47fa-48a4-80ce-42bac7a3c8f8",
   "metadata": {
    "tags": []
   },
   "outputs": [],
   "source": [
    "# update observable to use the emulator instead of using theory directly\n",
    "observable.init.update(theory=emulator.to_calculator())"
   ]
  },
  {
   "cell_type": "markdown",
   "id": "064d2ebb-d97c-43ac-b8f4-6b766896e194",
   "metadata": {},
   "source": [
    "### Profilers"
   ]
  },
  {
   "cell_type": "code",
   "execution_count": null,
   "id": "12397f72-7a3c-45ab-8db7-b80e719b22d2",
   "metadata": {
    "tags": []
   },
   "outputs": [],
   "source": [
    "from desilike.profilers import MinuitProfiler\n",
    "\n",
    "# Cern's Minuit optimiser\n",
    "profiler = MinuitProfiler(likelihood, seed=42)\n",
    "\n",
    "#print('something went wrong!')\n",
    "profiles = profiler.maximize(niterations=1)"
   ]
  },
  {
   "cell_type": "code",
   "execution_count": null,
   "id": "7ea1d9e3-eec1-4c58-8f4b-a856bfa59c78",
   "metadata": {
    "tags": []
   },
   "outputs": [],
   "source": [
    "# print statistics\n",
    "print(profiler.profiles.to_stats(tablefmt='pretty'))"
   ]
  },
  {
   "cell_type": "code",
   "execution_count": null,
   "id": "a375a51a-2577-4fc2-a68c-88cda02e9898",
   "metadata": {
    "tags": []
   },
   "outputs": [],
   "source": [
    "# Evaluate likelihood at bestfit params and plot observable\n",
    "print(likelihood(**profiler.profiles.bestfit.choice(params=likelihood.varied_params)))\n",
    "observable.plot()"
   ]
  },
  {
   "cell_type": "markdown",
   "id": "0e2768b1-d897-4ce6-8c6a-c1f8525bce63",
   "metadata": {},
   "source": [
    "### Samplers"
   ]
  },
  {
   "cell_type": "code",
   "execution_count": null,
   "id": "ade11ba0-57cd-4799-80a9-828da71fb75d",
   "metadata": {
    "tags": []
   },
   "outputs": [],
   "source": [
    "# Now let us run an MCMC\n",
    "\n",
    "# First let us reduced the parameter space by fixing some params\n",
    "# to the values we obtained above\n",
    "likelihood.all_params.update(name='logA', value=2.72, fixed=True)\n",
    "likelihood.all_params.update(name='b1', value=2.3, fixed=True)\n",
    "likelihood.all_params.update(name='sn0', value=0.094, fixed=True)"
   ]
  },
  {
   "cell_type": "code",
   "execution_count": null,
   "id": "860fa441-fa7b-43fe-b651-7766b2b290c1",
   "metadata": {
    "tags": []
   },
   "outputs": [],
   "source": [
    "likelihood.varied_params.basenames"
   ]
  },
  {
   "cell_type": "code",
   "execution_count": null,
   "id": "bba9c9c0-3b55-4d30-83ee-52940722d566",
   "metadata": {
    "tags": []
   },
   "outputs": [],
   "source": [
    "# Let us use the Emcee Sampler\n",
    "from desilike.samplers import EmceeSampler\n",
    "\n",
    "sampler = EmceeSampler(likelihood, save_fn='chain_fs_kaiser_*.npy', seed=42)\n",
    "sampler.run(max_iterations=3000, check={'max_eigen_gr': 0.03})"
   ]
  },
  {
   "cell_type": "code",
   "execution_count": null,
   "id": "f04a0d1a-59dd-496d-a103-24fc5045ecc3",
   "metadata": {
    "tags": []
   },
   "outputs": [],
   "source": [
    "chain = sampler.chains[0].remove_burnin(0.3)\n",
    "print(chain.to_stats(tablefmt='pretty'))"
   ]
  },
  {
   "cell_type": "code",
   "execution_count": null,
   "id": "ba09978c-b185-44db-b3b7-942ddd16ff36",
   "metadata": {
    "tags": []
   },
   "outputs": [],
   "source": [
    "from desilike.samples import plotting\n",
    "%matplotlib inline\n",
    "%config InlineBackend.figure_format = 'retina'\n",
    "import getdist\n",
    "import IPython\n",
    "plotting.plot_triangle(chain, markers={'Omega_m': cosmo.Omega0_m, 'h': cosmo.h});"
   ]
  },
  {
   "cell_type": "markdown",
   "id": "d1174cad-7c8a-4c1e-9d7f-fcc759e8458e",
   "metadata": {},
   "source": [
    "#### Ejercicio\n",
    "Correr un fit standard de BAO utilizando (o alguna otra sugerencia) el `MinuitProfiler` con los mismos datos anteriores."
   ]
  },
  {
   "cell_type": "code",
   "execution_count": null,
   "id": "58f6c013-7a80-48f6-822a-556ae7b4c054",
   "metadata": {},
   "outputs": [],
   "source": []
  }
 ],
 "metadata": {
  "kernelspec": {
   "display_name": "cosmodesi-main",
   "language": "python",
   "name": "cosmodesi-main"
  },
  "language_info": {
   "codemirror_mode": {
    "name": "ipython",
    "version": 3
   },
   "file_extension": ".py",
   "mimetype": "text/x-python",
   "name": "python",
   "nbconvert_exporter": "python",
   "pygments_lexer": "ipython3",
   "version": "3.10.12"
  }
 },
 "nbformat": 4,
 "nbformat_minor": 5
}
