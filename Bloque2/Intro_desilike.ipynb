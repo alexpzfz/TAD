{
 "cells": [
  {
   "cell_type": "markdown",
   "id": "3cff2fa7",
   "metadata": {
    "slideshow": {
     "slide_type": "slide"
    }
   },
   "source": [
    "# desilike\n",
    "\n",
    "## Código común para especificar likelihoods de DESI (clustering)\n",
    "\n",
    "### Introducción general"
   ]
  },
  {
   "cell_type": "markdown",
   "id": "604e9057",
   "metadata": {
    "slideshow": {
     "slide_type": "slide"
    }
   },
   "source": [
    "# [Un poco de] Contexto\n",
    "\n",
    "En los tiempos de BOSS/eBOSS ($\\leq$ 2020), los códigos para análisis \"estándares\" básicamente eran construidos por individuos (o un equipo dedicado muy pequeño), resultando en publicaciones con primera autoría.\n",
    "\n",
    "Mucho trabajo (desde mitigación de efectos sistemáticos observacionales hasta estimación de parámetros cosmológicos), concentrado en pocos individuos."
   ]
  },
  {
   "cell_type": "markdown",
   "id": "453ddc80",
   "metadata": {
    "slideshow": {
     "slide_type": "fragment"
    }
   },
   "source": [
    "$\\Rightarrow$ análisis estándar de un set de datos espectroscópicos = 3 años de trabajo para un estudiante de doctorado"
   ]
  },
  {
   "cell_type": "markdown",
   "id": "346fdba0",
   "metadata": {
    "slideshow": {
     "slide_type": "fragment"
    }
   },
   "source": [
    "Este nivel de organización solía ser suficiente... porque la incertidumbre estadística era la fuente de error predominante"
   ]
  },
  {
   "cell_type": "markdown",
   "id": "4f91222c",
   "metadata": {
    "slideshow": {
     "slide_type": "slide"
    }
   },
   "source": [
    "# DESI\n",
    "\n",
    "DESI está recolectando 10x más datos que todos los experimentos espectroscópicos previos combinados."
   ]
  },
  {
   "cell_type": "markdown",
   "id": "c6831bd1",
   "metadata": {
    "slideshow": {
     "slide_type": "fragment"
    }
   },
   "source": [
    "$\\Rightarrow$ Los resultados obtenidos con DESI tendrán un impacto importante en el panorama cosmológico. Tienen el respaldo de toda la colabotación. En práctica, los análisis estándar resultarán en publicaciones alfabéticas como parte de los proyectos clave de DESI."
   ]
  },
  {
   "cell_type": "markdown",
   "id": "8b56cceb",
   "metadata": {
    "slideshow": {
     "slide_type": "subslide"
    }
   },
   "source": [
    "El trabajo necesario para considerar apropiadamente los errores sistemáticos que se encuentran por debajo de los errores estadísticos es mucho más pesado. Este trabajo se distribuirá entre muchas personas.\n",
    "\n",
    "El proyecto DESI es más largo que un doctorado. Queremos reducir al mínimo la cantidad de tiempo necesaria para que una contribución valga la pena en DESI a meses, no años. Para esto, debemos asegurarnos de que cualquier trabajo novedoso se beneficie de, y se base en, trabajo previo. "
   ]
  },
  {
   "cell_type": "markdown",
   "id": "c6b4264a",
   "metadata": {
    "slideshow": {
     "slide_type": "fragment"
    }
   },
   "source": [
    "$\\Rightarrow$ Debemos organizarnos de una manera distinta que antes: tener herramientas estándares compartidas para nuestros códigos de análisis, y que los colaboradores puedan trabajar con ellas y mejorarlas. \n",
    "\n",
    "La idea es que hacer estudios específicos y mejorar los códigos lleven a publicaciones de primer autoría, mientras que el análisis completo con el código estándar sea el pilar para las publicaciones alfabéticas. "
   ]
  },
  {
   "cell_type": "markdown",
   "id": "0c8638f0",
   "metadata": {
    "slideshow": {
     "slide_type": "subslide"
    }
   },
   "source": [
    "Un análisis básico estándar que antes tomaba 6 meses construir desde cero, ahora toma $\\ll$ 1 mes para un estudiante nuevo de doctorado con herramientas a la mano."
   ]
  },
  {
   "cell_type": "markdown",
   "id": "8edc1452",
   "metadata": {
    "slideshow": {
     "slide_type": "slide"
    }
   },
   "source": [
    "# Comunidad\n",
    "\n",
    "En años recientes, la comunidad ha puesto énfasis en la reproducibilidad (por ejemplo, código público, revistas que requieran acceso a los datos, la política de publicaciones de DESI requiere que los códigos utilizados para reproducir figuras/gráficos sean hechos públicos, etc.).\n",
    "\n",
    "DESI será juzgado por la comunidad científica de acuerdo a la reproducibilidad de los resultados de sus análisis estándar --- los cuales serán usados por la comunidad como base para comenzar estudios más profundos, no estándares."
   ]
  },
  {
   "cell_type": "markdown",
   "id": "a08822f7",
   "metadata": {
    "slideshow": {
     "slide_type": "fragment"
    }
   },
   "source": [
    "$\\Rightarrow$ Necesitamos preparar herramientas y códigos que estén suficientemente bien documentados, y sean fáciles de manejar, para que nuestrxs compañerxs en cosmología puedan reproducir los resultados de análisis de DESI."
   ]
  },
  {
   "cell_type": "markdown",
   "id": "f96cbf42",
   "metadata": {
    "slideshow": {
     "slide_type": "slide"
    }
   },
   "source": [
    "# Lo que tenemos hasta ahora\n",
    "\n",
    "Un ambiente, configurado en NERSC, que contiene [la mayoría de] los paquetes requeridos para correr los análisis estándares de DESI Y1 (disponible públicamente en https://github.com/cosmodesi)\n",
    "\n",
    "```\n",
    "source /global/common/software/desi/users/adematti/cosmodesi_environment.sh main  # cargar el ambiente\n",
    "# Es posible que también se quiera configurar el kernel para uso en Jupyter para reproducir gráficas\n",
    "${COSMODESIMODULES}/install_jupyter_kernel.sh main  # Esto sólo es necesario hacerlo una vez\n",
    "```"
   ]
  },
  {
   "cell_type": "markdown",
   "id": "69832f5b",
   "metadata": {
    "slideshow": {
     "slide_type": "fragment"
    }
   },
   "source": [
    "Contains (in addition to standard Python packages):\n",
    "- [cosmoprimo](https://github.com/cosmodesi/cosmoprimo): primordial cosmology (class, camb, isitgr, fftlog, interpolator, BAO filtering)\n",
    "- [pycorr](https://github.com/cosmodesi/pycorr): correlation function estimation\n",
    "- [pypower](https://github.com/cosmodesi/pypower): power spectrum (and window function) estimation\n",
    "- [pyrecon](https://github.com/cosmodesi/pyrecon): standard BAO reconstruction\n",
    "- [mockfactory](https://github.com/cosmodesi/mockfactory): tools to be build fast mocks\n",
    "- [desilike](https://github.com/cosmodesi/desilike): DESI likelihoods, Fisher, bindings with cosmological samplers (Cobaya, CosmoSIS, MontePython)\n",
    "- Cobaya, CosmoSIS (standard library), CLASS, Planck likelihoods, etc.\n",
    "\n",
    "Next in line are pipelining tools (e.g. [https://github.com/adematti/desipipe](https://github.com/adematti/desipipe))."
   ]
  },
  {
   "cell_type": "markdown",
   "id": "abbed5e7",
   "metadata": {
    "slideshow": {
     "slide_type": "slide"
    }
   },
   "source": [
    "# desilike"
   ]
  },
  {
   "cell_type": "markdown",
   "id": "c00b7b88",
   "metadata": {
    "slideshow": {
     "slide_type": "subslide"
    }
   },
   "source": [
    "## Misión #1: Especificar las likelihoods (estándar) de DESI \n",
    "- Fits comprimidos y directos, $P(k)$ and $\\xi(s)$.\n",
    "\n",
    "- Tomar en cuenta matrices ventana, colisión de fibras, etc.\n",
    "\n",
    "- Todo hecho en Python.\n",
    "\n",
    "- Automático / fácil de conectar a códigos populares de inferencia cosmológica (MontePython, CosmoSIS, Cobaya)\n",
    "\n",
    "$\\Rightarrow$ Equivalente, por ejemplo, al paquete de likelihoods de Planck"
   ]
  },
  {
   "cell_type": "markdown",
   "id": "c3b35cc9",
   "metadata": {
    "slideshow": {
     "slide_type": "subslide"
    }
   },
   "source": [
    "## Misión #2: Coordinar el trabajo de inferencia cosmológica\n",
    "\n",
    "Hacer que la interfaz entre colaboradores trabajando en modelos de teoría, sistemáticos observacionales (como las colisiones entre las fibras ópticas), blinding, etc."
   ]
  },
  {
   "cell_type": "markdown",
   "id": "3fe89630",
   "metadata": {
    "slideshow": {
     "slide_type": "fragment"
    }
   },
   "source": [
    "Para esto: optimizadores, samplers, emuladores, marginalización analítica, análisis de Fisher, muestreo de importancia, todo usando MPI"
   ]
  },
  {
   "cell_type": "markdown",
   "id": "f9145e06",
   "metadata": {
    "slideshow": {
     "slide_type": "slide"
    }
   },
   "source": [
    "# desilike - pensando en el futuro\n",
    "\n",
    "- Y1 es solamente... 1/5 de DESI!\n",
    "\n",
    "- En Y3, los análisis estándar deben incluir cross-correlations y estadísticas más allá de 2-pt\n",
    "\n",
    "- En Y5, los análisis estándar deben incluir constraints combinados de clustering, weak lensing y peculiar velocities.\n",
    "\n",
    "Necesitamos una estructura común para definir y combinar todos estos observables.\n",
    "**desilike** fue diseñado con este propósito."
   ]
  },
  {
   "cell_type": "markdown",
   "id": "41fdc79c",
   "metadata": {
    "slideshow": {
     "slide_type": "slide"
    }
   },
   "source": [
    "# desilike - en resumen\n",
    "\n",
    "Para especificar una likelihood para el espectro de potencias o los multipolos de la función de correlación, sólo hay que elegir:\n",
    "- template\n",
    "\n",
    "- teoría\n",
    "\n",
    "- observable"
   ]
  },
  {
   "cell_type": "markdown",
   "id": "0161bb4b",
   "metadata": {
    "slideshow": {
     "slide_type": "slide"
    }
   },
   "source": [
    "# desilike - Trabajo actual y próximo\n",
    "\n",
    "- Validación de la implementación de modelos de perturbación (FOLPS, velocileptors, pybird)\n",
    "\n",
    "<div>\n",
    "<center>\n",
    "<img src=\"figures/comparison_desilike_folps_shapefit.png\" width=\"200\"/>\n",
    "<center>\n",
    "</div>\n",
    "\n",
    "\n",
    "- Una vez se encuentren disponibles los mocks de segunda generación, estaremos listxs para investigar la combinación de mediciones de estadísticas de 2 puntos pre y post reconstrucción\n",
    "\n",
    "- Preparación para Y3: cross-correlations, 3-pt, etc.\n",
    "\n",
    "- Además, análisis no estándares: [turn-over scale](https://github.com/cosmodesi/desilike/blob/main/nb/turnover_examples.ipynb)"
   ]
  }
 ],
 "metadata": {
  "celltoolbar": "Diaporama",
  "kernelspec": {
   "display_name": "desi",
   "language": "python",
   "name": "python3"
  },
  "language_info": {
   "codemirror_mode": {
    "name": "ipython",
    "version": 3
   },
   "file_extension": ".py",
   "mimetype": "text/x-python",
   "name": "python",
   "nbconvert_exporter": "python",
   "pygments_lexer": "ipython3",
   "version": "3.8.10"
  }
 },
 "nbformat": 4,
 "nbformat_minor": 5
}
