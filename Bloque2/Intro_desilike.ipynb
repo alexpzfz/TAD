{
 "cells": [
  {
   "cell_type": "markdown",
   "id": "3cff2fa7",
   "metadata": {
    "slideshow": {
     "slide_type": "slide"
    }
   },
   "source": [
    "# desilike\n",
    "\n",
    "## Código común para especificar likelihoods de DESI (clustering)\n",
    "\n",
    "### Introducción general"
   ]
  },
  {
   "cell_type": "markdown",
   "id": "604e9057",
   "metadata": {
    "slideshow": {
     "slide_type": "slide"
    }
   },
   "source": [
    "# [Un poco de] Contexto\n",
    "\n",
    "En los tiempos de BOSS/eBOSS ($\\leq$ 2020), los códigos para análisis \"estándares\" básicamente eran construidos por individuos (o un equipo dedicado muy pequeño), resultando en publicaciones con primera autoría.\n",
    "\n",
    "Mucho trabajo (desde mitigación de efectos sistemáticos observacionales hasta estimación de parámetros cosmológicos), concentrado en pocos individuos."
   ]
  },
  {
   "cell_type": "markdown",
   "id": "453ddc80",
   "metadata": {
    "slideshow": {
     "slide_type": "fragment"
    }
   },
   "source": [
    "$\\Rightarrow$ análisis estándar de un set de datos espectroscópicos = 3 años de trabajo para un estudiante de doctorado"
   ]
  },
  {
   "cell_type": "markdown",
   "id": "346fdba0",
   "metadata": {
    "slideshow": {
     "slide_type": "fragment"
    }
   },
   "source": [
    "Este nivel de organización solía ser suficiente... porque la incertidumbre estadística era la fuente de error predominante"
   ]
  },
  {
   "cell_type": "markdown",
   "id": "4f91222c",
   "metadata": {
    "slideshow": {
     "slide_type": "slide"
    }
   },
   "source": [
    "# DESI\n",
    "\n",
    "DESI está recolectando 10x más datos que todos los experimentos espectroscópicos previos combinados."
   ]
  },
  {
   "cell_type": "markdown",
   "id": "c6831bd1",
   "metadata": {
    "slideshow": {
     "slide_type": "fragment"
    }
   },
   "source": [
    "$\\Rightarrow$ Los resultados obtenidos con DESI tendrán un impacto importante en el panorama cosmológico. Tienen el respaldo de toda la colabotación. En práctica, los análisis estándar resultarán en publicaciones alfabéticas como parte de los proyectos clave de DESI."
   ]
  },
  {
   "cell_type": "markdown",
   "id": "8b56cceb",
   "metadata": {
    "slideshow": {
     "slide_type": "subslide"
    }
   },
   "source": [
    "El trabajo necesario para considerar apropiadamente los errores sistemáticos que se encuentran por debajo de los errores estadísticos es mucho más pesado. Este trabajo se distribuirá entre muchas personas.\n",
    "\n",
    "El proyecto DESI es más largo que un doctorado. Queremos reducir al mínimo la cantidad de tiempo necesaria para que una contribución valga la pena en DESI a meses, no años. Para esto, debemos asegurarnos de que cualquier trabajo novedoso se beneficie de, y se base en, trabajo previo. "
   ]
  },
  {
   "cell_type": "markdown",
   "id": "c6b4264a",
   "metadata": {
    "slideshow": {
     "slide_type": "fragment"
    }
   },
   "source": [
    "$\\Rightarrow$ Debemos organizarnos de una manera distinta que antes: tener herramientas estándares compartidas para nuestros códigos de análisis, y que los colaboradores puedan trabajar con ellas y mejorarlas. \n",
    "\n",
    "La idea es que hacer estudios específicos y mejorar los códigos lleven a publicaciones de primer autoría, mientras que el análisis completo con el código estándar sea el pilar para las publicaciones alfabéticas. "
   ]
  },
  {
   "cell_type": "markdown",
   "id": "0c8638f0",
   "metadata": {
    "slideshow": {
     "slide_type": "subslide"
    }
   },
   "source": [
    "Un análisis básico estándar que antes tomaba 6 meses construir desde cero, ahora toma $\\ll$ 1 mes para un estudiante nuevo de doctorado con herramientas a la mano."
   ]
  },
  {
   "cell_type": "markdown",
   "id": "8edc1452",
   "metadata": {
    "slideshow": {
     "slide_type": "slide"
    }
   },
   "source": [
    "# Comunidad\n",
    "\n",
    "En años recientes, la comunidad ha puesto énfasis en la reproducibilidad (por ejemplo, código público, revistas que requieran acceso a los datos, la política de publicaciones de DESI requiere que los códigos utilizados para reproducir figuras/gráficos sean hechos públicos, etc.).\n",
    "\n",
    "DESI será juzgado por la comunidad científica de acuerdo a la reproducibilidad de los resultados de sus análisis estándar --- los cuales serán usados por la comunidad como base para comenzar estudios más profundos, no estándares."
   ]
  },
  {
   "cell_type": "markdown",
   "id": "a08822f7",
   "metadata": {
    "slideshow": {
     "slide_type": "fragment"
    }
   },
   "source": [
    "$\\Rightarrow$ Necesitamos preparar herramientas y códigos que estén suficientemente bien documentados, y sean fáciles de manejar, para que nuestrxs compañerxs en cosmología puedan reproducir los resultados de análisis de DESI."
   ]
  },
  {
   "cell_type": "markdown",
   "id": "f96cbf42",
   "metadata": {
    "slideshow": {
     "slide_type": "slide"
    }
   },
   "source": [
    "# Lo que tenemos hasta ahora\n",
    "\n",
    "Un ambiente, configurado en NERSC, que contiene [la mayoría de] los paquetes requeridos para correr los análisis estándares de DESI Y1 (disponible públicamente en https://github.com/cosmodesi)\n",
    "\n",
    "```\n",
    "source /global/common/software/desi/users/adematti/cosmodesi_environment.sh main  # cargar el ambiente\n",
    "# Es posible que también se quiera configurar el kernel para uso en Jupyter para reproducir gráficas\n",
    "${COSMODESIMODULES}/install_jupyter_kernel.sh main  # Esto sólo es necesario hacerlo una vez\n",
    "```"
   ]
  },
  {
   "cell_type": "markdown",
   "id": "69832f5b",
   "metadata": {
    "slideshow": {
     "slide_type": "fragment"
    }
   },
   "source": [
    "Contains (in addition to standard Python packages):\n",
    "- [cosmoprimo](https://github.com/cosmodesi/cosmoprimo): primordial cosmology (class, camb, isitgr, fftlog, interpolator, BAO filtering)\n",
    "- [pycorr](https://github.com/cosmodesi/pycorr): correlation function estimation\n",
    "- [pypower](https://github.com/cosmodesi/pypower): power spectrum (and window function) estimation\n",
    "- [pyrecon](https://github.com/cosmodesi/pyrecon): standard BAO reconstruction\n",
    "- [mockfactory](https://github.com/cosmodesi/mockfactory): tools to be build fast mocks\n",
    "- [desilike](https://github.com/cosmodesi/desilike): DESI likelihoods, Fisher, bindings with cosmological samplers (Cobaya, CosmoSIS, MontePython)\n",
    "- Cobaya, CosmoSIS (standard library), CLASS, Planck likelihoods, etc.\n",
    "\n",
    "Next in line are pipelining tools (e.g. [https://github.com/adematti/desipipe](https://github.com/adematti/desipipe))."
   ]
  },
  {
   "cell_type": "markdown",
   "id": "abbed5e7",
   "metadata": {
    "slideshow": {
     "slide_type": "slide"
    }
   },
   "source": [
    "# desilike"
   ]
  },
  {
   "cell_type": "markdown",
   "id": "c00b7b88",
   "metadata": {
    "slideshow": {
     "slide_type": "subslide"
    }
   },
   "source": [
    "## Misión #1: Especificar las likelihoods (estándar) de DESI \n",
    "- Fits comprimidos y directos, $P(k)$ and $\\xi(s)$.\n",
    "\n",
    "- Tomar en cuenta matrices ventana, colisión de fibras, etc.\n",
    "\n",
    "- Todo hecho en Python.\n",
    "\n",
    "- Automático / fácil de conectar a códigos populares de inferencia cosmológica (MontePython, CosmoSIS, Cobaya)\n",
    "\n",
    "$\\Rightarrow$ Equivalente, por ejemplo, al paquete de likelihoods de Planck"
   ]
  },
  {
   "cell_type": "markdown",
   "id": "c3b35cc9",
   "metadata": {
    "slideshow": {
     "slide_type": "subslide"
    }
   },
   "source": [
    "## Mission #2: Coordinar el trabajo de inferencia cosmológica\n",
    "\n",
    "Hacer que la interfaz entre colaboradores trabajando en modelos de teoría, sistemáticos observacionales (como las colisiones entre las fibras ópticas), blinding, etc."
   ]
  },
  {
   "cell_type": "markdown",
   "id": "3fe89630",
   "metadata": {
    "slideshow": {
     "slide_type": "fragment"
    }
   },
   "source": [
    "Para esto: optimizadores, samplers, emuladores, marginalización analítica, análisis de Fisher, muestreo de importancia, todo usando MPI"
   ]
  },
  {
   "cell_type": "markdown",
   "id": "f9145e06",
   "metadata": {
    "slideshow": {
     "slide_type": "slide"
    }
   },
   "source": [
    "# desilike - pensando en el futuro\n",
    "\n",
    "- Y1 es solamente... 1/5 de DESI!\n",
    "\n",
    "- En Y3, los análisis estándar deben incluir cross-correlations y estadísticas más allá de 2-pt\n",
    "\n",
    "- En Y5, los análisis estándar deben incluir constraints combinados de clustering, weak lensing y peculiar velocities.\n",
    "\n",
    "Necesitamos una estructura común para definir y combinar todos estos observables.\n",
    "**desilike** fue diseñado con este propósito."
   ]
  },
  {
   "cell_type": "markdown",
   "id": "41fdc79c",
   "metadata": {
    "slideshow": {
     "slide_type": "slide"
    }
   },
   "source": [
    "# desilike - en resumen\n",
    "\n",
    "Para especificar una likelihood para el espectro de potencias o los multipolos de la función de correlación, sólo hay que elegir:\n",
    "- template\n",
    "\n",
    "- teoría\n",
    "\n",
    "- observable"
   ]
  },
  {
   "cell_type": "markdown",
   "id": "fdf9cbcb",
   "metadata": {
    "slideshow": {
     "slide_type": "subslide"
    }
   },
   "source": [
    "## Template\n",
    "\n",
    "- Directo: DirectPowerSpectrumTemplate\n",
    "\n",
    "- BAO: BAOPowerSpectrumTemplate\n",
    "\n",
    "- ShapeFit: ShapeFitPowerSpectrumTemplate\n",
    "\n",
    "- Standard (à la BOSS/eBOSS): StandardPowerSpectrumTemplate\n",
    "\n",
    "- WiggleSplit (BAO wiggles shifted independently from AP): WiggleSplitPowerSpectrumTemplate\n",
    "\n",
    "- $P_{\\theta\\theta}$ (band power linear velocity power spectrum): BandVelocityPowerSpectrumTemplate"
   ]
  },
  {
   "cell_type": "markdown",
   "id": "07f8b136",
   "metadata": {
    "slideshow": {
     "slide_type": "subslide"
    }
   },
   "source": [
    "## Teoría\n",
    "\n",
    "Actualmente disponibles (para la mayoría de ellos, la contraparte en función de correlación es cambiar PowerSpectrum por CorrelationFunction: ...PowerSpectrumMultipoles $\\Rightarrow$ ...CorrelationFunctionMultipoles):\n",
    "\n",
    "- Simple Kaiser model: KaiserTracerPowerSpectrumMultipoles\n",
    "\n",
    "- Velocileptors: LPTVelocileptorsTracerPowerSpectrumMultipoles (plus other flavors)\n",
    "\n",
    "- PyBird: PyBirdTracerPowerSpectrumMultipoles\n",
    "\n",
    "- FOLPS: FOLPSTracerPowerSpectrumMultipoles\n",
    "\n",
    "- TNS 1 loop: TNSTracerPowerSpectrumMultipoles\n",
    "\n",
    "- empirical BAO: DampedBAOWigglesPowerSpectrumMultipoles\n",
    "\n",
    "- PNG (scale-dependent bias): PNGTracerPowerSpectrumMultipoles\n",
    "\n",
    "- ¡Ingrese su código propio aquí!"
   ]
  },
  {
   "cell_type": "markdown",
   "id": "ee226a0e",
   "metadata": {
    "slideshow": {
     "slide_type": "subslide"
    }
   },
   "source": [
    "## Observable\n",
    "\n",
    "- Multipolos del espectro de potencias: TracerPowerSpectrumMultipolesObservable\n",
    "\n",
    "- Multipolos de la función de correlación: TracerCorrelationFunctionMultipolesObservable\n",
    "    \n",
    "Para re-utilizar mediciones comprimidas:\n",
    "\n",
    "- BAO compression: BAOCompressionObservable\n",
    "\n",
    "- ShapeFit compression: ShapeFitCompressionObservable\n",
    "\n",
    "- standard compression: StandardCompressionObservable\n",
    "\n",
    "- WiggleSplit compression: WiggleSplitCompressionObservable\n",
    "\n",
    "- $P_{\\theta\\theta}$ compression: BandVelocityCompressionObservable"
   ]
  },
  {
   "cell_type": "markdown",
   "id": "619f14af",
   "metadata": {
    "slideshow": {
     "slide_type": "slide"
    }
   },
   "source": [
    "## Ejemplo: fit LRG con mocks de primera generación de caja cúbica\n",
    "\n",
    "Ver [https://github.com/cosmodesi/desi-y1-kp7/tree/main/mock_challenge_y1](https://github.com/cosmodesi/desi-y1-kp7/tree/main/mock_challenge_y1) para un ejemplo ejecutable"
   ]
  },
  {
   "cell_type": "markdown",
   "id": "f7862f35",
   "metadata": {
    "slideshow": {
     "slide_type": "subslide"
    }
   },
   "source": [
    "### Definir la likelihood"
   ]
  },
  {
   "cell_type": "code",
   "execution_count": null,
   "id": "563cc4eb",
   "metadata": {
    "slideshow": {
     "slide_type": "fragment"
    }
   },
   "outputs": [],
   "source": [
    "from desilike.theories.galaxy_clustering import ShapeFitPowerSpectrumTemplate,\\\n",
    "                                                FOLPSTracerPowerSpectrumMultipoles\n",
    "from desilike.observables.galaxy_clustering import TracerPowerSpectrumMultipolesObservable\n",
    "from desilike.likelihoods import ObservablesGaussianLikelihood\n",
    "\n",
    "template = ShapeFitPowerSpectrumTemplate(z=0.8)\n",
    "theory = FOLPSTracerPowerSpectrumMultipoles(template=template)\n",
    "observable = TracerPowerSpectrumMultipolesObservable(klim={0: [0.02, 0.18, 0.005], 2: [0.02, 0.18, 0.005]},\n",
    "                                                     data='/global/cfs/cdirs/desi/cosmosim/KP45/MC/Clustering/AbacusSummit/CubicBox/LRG/Pk/Pre/jmena/nmesh_512/pypower_format/Pk_AbacusSummit_base_*.npy',\n",
    "                                                     covariance='/global/cfs/cdirs/desi/cosmosim/KP45/MC/Clustering/EZmock/CubicBox/LRG/Pk/jmena/nmesh_512/pypower_format/Pk_EZmock_B2000G512Z0.8N8015724_b0.385d4r169c0.3_seed*.npy',\n",
    "                                                     wmatrix='/global/cfs/cdirs/desi/users/adematti/desi_mock_challenge/FirstGenMocks/AbacusSummit/CubicBox/ELG/z1.100/window_nmesh512_los-x.npy',\n",
    "                                                     kinlim=(0., 0.25),  # just to restrict input theory k's\n",
    "                                                     theory=theory)\n",
    "# Here we could give a list of several observables + joint covariance matrix\n",
    "likelihood = ObservablesGaussianLikelihood(observables=[observable],\n",
    "                                           scale_covariance=1. / 25.)\n",
    "# We can also sum up independent likelihoods (likelihood1 + likelihood2)\n",
    "# Call likelihood\n",
    "likelihood(qpar=0.99, qper=1.01)"
   ]
  },
  {
   "cell_type": "markdown",
   "id": "347a9bc6",
   "metadata": {
    "slideshow": {
     "slide_type": "subslide"
    }
   },
   "source": [
    "### Emular la teoría\n",
    "\n",
    "Tip: Ejecutar con varios procesos MPI!"
   ]
  },
  {
   "cell_type": "code",
   "execution_count": null,
   "id": "9ad089a6",
   "metadata": {
    "slideshow": {
     "slide_type": "fragment"
    }
   },
   "outputs": [],
   "source": [
    "from desilike.emulators import Emulator, TaylorEmulatorEngine, EmulatedCalculator\n",
    "\n",
    "# theory.pt = Parte de teoría de perturbación, sólo depende de los parámetros del template (qpar, qper, df, dm)\n",
    "emulator = Emulator(theory.pt, engine=TaylorEmulatorEngine(method='finite', order=4))\n",
    "emulator.set_samples()\n",
    "emulator.fit()\n",
    "pt = emulator.to_calculator()\n",
    "# emulator.save(emulator_fn); pt = EmulatedCalculator.load(emulator_fn)\n",
    "\n",
    "# Reemplazar la parte de teoría de perturbación con la nueva!\n",
    "theory.init.update(pt=pt)"
   ]
  },
  {
   "cell_type": "markdown",
   "id": "b137ac40",
   "metadata": {
    "slideshow": {
     "slide_type": "subslide"
    }
   },
   "source": [
    "### Sample\n",
    "\n",
    "Tip: Ejecutar con varios procesos MPI!"
   ]
  },
  {
   "cell_type": "code",
   "execution_count": null,
   "id": "26606b68",
   "metadata": {
    "slideshow": {
     "slide_type": "fragment"
    }
   },
   "outputs": [],
   "source": [
    "from desilike.samplers import EmceeSampler\n",
    "\n",
    "sampler = EmceeSampler(likelihood, chains=8, nwalkers=40, seed=42, save_fn='chain_*.npy')\n",
    "chains = sampler.run(min_iterations=2000, check={'max_eigen_gr': 0.03})"
   ]
  },
  {
   "cell_type": "code",
   "execution_count": null,
   "id": "9bfbf2fc",
   "metadata": {
    "slideshow": {
     "slide_type": "fragment"
    }
   },
   "outputs": [],
   "source": [
    "### Re-cargar las chains y concatenarlas\n",
    "from desilike.samples import Chain\n",
    "\n",
    "chain = Chain.concatenate([Chain.load('chain_{:d}.npy'.format(i)).remove_burnin(0.5)[::10]\n",
    "                           for i in range(8)])\n",
    "# Si se desea convertir a formato GetDist:\n",
    "chain.to_getdist()"
   ]
  },
  {
   "cell_type": "markdown",
   "id": "b9ec35c6",
   "metadata": {
    "slideshow": {
     "slide_type": "subslide"
    }
   },
   "source": [
    "### Usar las mediciones con compresión para hacer inferencia de las posteriors"
   ]
  },
  {
   "cell_type": "code",
   "execution_count": null,
   "id": "b902bac0",
   "metadata": {
    "slideshow": {
     "slide_type": "fragment"
    }
   },
   "outputs": [],
   "source": [
    "from desilike.observables.galaxy_clustering import ShapeFitCompressionObservable\n",
    "\n",
    "observable = ShapeFitCompressionObservable(data=chain, covariance=chain,\n",
    "                                           params=['qpar', 'qper', 'dm', 'df'], z=0.8)\n",
    "likelihood = ObservablesGaussianLikelihood(observables=[observable])\n",
    "\n",
    "sampler = EmceeSampler(likelihood, chains=8, nwalkers=40, seed=42, save_fn='chain_shapefit_*.npy')\n",
    "chains = sampler.run(min_iterations=2000, check={'max_eigen_gr': 0.03})"
   ]
  },
  {
   "cell_type": "markdown",
   "id": "0161bb4b",
   "metadata": {
    "slideshow": {
     "slide_type": "slide"
    }
   },
   "source": [
    "# desilike - Trabajo actual y próximo\n",
    "\n",
    "- Validación de la implementación de modelos de perturbación (FOLPS, velocileptors, pybird)\n",
    "\n",
    "<div>\n",
    "<center>\n",
    "<img src=\"figures/comparison_desilike_folps_shapefit.png\" width=\"200\"/>\n",
    "<center>\n",
    "</div>\n",
    "\n",
    "\n",
    "- Una vez se encuentren disponibles los mocks de segunda generación, estaremos listxs para investigar la combinación de mediciones de estadísticas de 2 puntos pre y post reconstrucción\n",
    "\n",
    "- Preparación para Y3: cross-correlations, 3-pt, etc.\n",
    "\n",
    "- Además, análisis no estándares: [turn-over scale](https://github.com/cosmodesi/desilike/blob/main/nb/turnover_examples.ipynb)"
   ]
  },
  {
   "cell_type": "markdown",
   "id": "9c006b84",
   "metadata": {
    "slideshow": {
     "slide_type": "slide"
    }
   },
   "source": [
    "# Material\n",
    "\n",
    "This tutorial in [https://github.com/cosmodesi/desilike-tutorials](https://github.com/cosmodesi/desilike-tutorials)\n",
    "\n",
    "[desilike docs](https://desilike.readthedocs.io/), en particular [getting started](https://desilike.readthedocs.io/en/latest/user/getting_started.html)\n",
    "\n",
    "[desilike notebooks](https://github.com/cosmodesi/desilike/tree/main/nb)\n",
    "\n",
    "Aplicaciones prácticas: Ejemplos de los beneficios de MPI!\n",
    "\n",
    "[Aplicación al mock challenge (velocileptors, pybird, folps)](https://github.com/cosmodesi/desi-y1-kp7/tree/main/mock_challenge_y1)\n",
    "\n",
    "[Aplicación de inferenica cosmológica con los mocks de Y1](https://github.com/cosmodesi/desi-y1-kp7/tree/main/mock_y1)\n",
    "\n",
    "[Aplicación a los forecasts de DESI Y5/Y1](https://github.com/cosmodesi/desilike/tree/main/nb) (Uendert Andrade)\n",
    "\n",
    "[Aplicación a la validación del blinding](https://github.com/cosmodesi/desi-y1-kp45/tree/main/blinding) (Uendert Andrade & Edmond Chaussidon for fnl)\n",
    " \n",
    "[Aplicación a las pruebas de las colisiones de fibras](https://github.com/mathildepinon/desi_fiber_collisions) (Mathilde Pinon)"
   ]
  },
  {
   "cell_type": "markdown",
   "id": "32e4bdc2",
   "metadata": {
    "slideshow": {
     "slide_type": "slide"
    }
   },
   "source": [
    "# Acknowledgments\n",
    "\n",
    "[Contributions (direct or indirect) from many collaborators](https://github.com/cosmodesi/desilike/tree/main#acknowledgments)"
   ]
  }
 ],
 "metadata": {
  "celltoolbar": "Diaporama",
  "kernelspec": {
   "display_name": "desi",
   "language": "python",
   "name": "python3"
  },
  "language_info": {
   "codemirror_mode": {
    "name": "ipython",
    "version": 3
   },
   "file_extension": ".py",
   "mimetype": "text/x-python",
   "name": "python",
   "nbconvert_exporter": "python",
   "pygments_lexer": "ipython3",
   "version": "3.8.10"
  }
 },
 "nbformat": 4,
 "nbformat_minor": 5
}
