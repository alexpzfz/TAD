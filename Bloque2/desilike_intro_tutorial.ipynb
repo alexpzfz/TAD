{
 "cells": [
  {
   "cell_type": "markdown",
   "id": "3cff2fa7",
   "metadata": {
    "slideshow": {
     "slide_type": "slide"
    }
   },
   "source": [
    "# desilike\n",
    "\n",
    "## Código para especificar likelihoods de DESI\n",
    "\n",
    "### Tutorial #1: likelihoods, emuladores, samplers, profilers, Fisher"
   ]
  },
  {
   "cell_type": "markdown",
   "id": "604e9057",
   "metadata": {
    "slideshow": {
     "slide_type": "slide"
    }
   },
   "source": [
    "# Metas\n",
    "Al final de este tutorial sabrás:\n",
    "- Cómo escribir likelihoods de clustering\n",
    "- Cómo emular su teoría\n",
    "- Cómo correr inferencia (sampling, profiling, Fisher)\n"
   ]
  },
  {
   "cell_type": "markdown",
   "id": "6acfb391",
   "metadata": {
    "slideshow": {
     "slide_type": "slide"
    }
   },
   "source": [
    "# Environment\n",
    "\n",
    "Para ejecutar los siguientes ejemplos de desilike, sólo necesitas tener instalado **desilike** (el cual requiere **cosmoprimo**) con:\n",
    "```\n",
    "python -m pip install git+https://github.com/cosmodesi/desilike#egg=desilike\n",
    "```\n",
    "Para el solucionador analítico:\n",
    "```\n",
    "python -m pip install jax[cpu]\n",
    "```\n",
    "Sin embargo, la manera más fácil es usar el environment de cosmodesi en NERSC:\n",
    "```\n",
    "source /global/common/software/desi/users/adematti/cosmodesi_environment.sh main  # cargar el environment\n",
    "${COSMODESIMODULES}/install_jupyter_kernel.sh main  # Esto sólo es necesario hacerlo una vez\n",
    "```\n",
    "NB: Para remover el kernel anterior:\n",
    "```\n",
    "rm -rf ${HOME}/.local/share/jupyter/kernels/cosmodesi-main\n",
    "```"
   ]
  },
  {
   "cell_type": "markdown",
   "id": "9c006b84",
   "metadata": {
    "slideshow": {
     "slide_type": "subslide"
    }
   },
   "source": [
    "# Material\n",
    "\n",
    "Este tutorial\n",
    "\n",
    "[desilike docs](https://desilike.readthedocs.io/), en particular [getting started](https://desilike.readthedocs.io/en/latest/user/getting_started.html)\n",
    "\n",
    "[desilike notebooks](https://github.com/cosmodesi/desilike/tree/main/nb)\n",
    "\n",
    "Aplicaciones prácticas: Ejemplos de los beneficios de MPI!\n",
    "\n",
    "[Aplicación al mock challenge (velocileptors, pybird, folps)](https://github.com/cosmodesi/desi-y1-kp7/tree/main/mock_challenge_y1)\n",
    "\n",
    "[Aplicación de inferenica cosmológica con los mocks de Y1](https://github.com/cosmodesi/desi-y1-kp7/tree/main/mock_y1)\n",
    "\n",
    "[Aplicación a los forecasts de DESI Y5/Y1](https://github.com/cosmodesi/desilike/tree/main/nb) (Uendert Andrade)\n",
    "\n",
    "[Aplicación a la validación del blinding](https://github.com/cosmodesi/desi-y1-kp45/tree/main/blinding) (Uendert Andrade & Edmond Chaussidon for fnl)\n",
    " \n",
    "[Aplicación a las pruebas de las colisiones de fibras](https://github.com/mathildepinon/desi_fiber_collisions) (Mathilde Pinon)"
   ]
  },
  {
   "cell_type": "markdown",
   "id": "32e4bdc2",
   "metadata": {},
   "source": [
    "# Agradecimientos\n",
    "\n",
    "[Contribuciones (directas o indirectas) de muchas personas](https://github.com/cosmodesi/desilike/tree/main#acknowledgments)"
   ]
  },
  {
   "cell_type": "markdown",
   "id": "e9651f22",
   "metadata": {
    "slideshow": {
     "slide_type": "slide"
    }
   },
   "source": [
    "# Clustering likelihood\n",
    "\n",
    "Describamos cómo especificar el likelihood para los multipolos de un espectro de potencias o una función de correlación \n",
    "- template\n",
    "- teoría\n",
    "- observable"
   ]
  },
  {
   "cell_type": "markdown",
   "id": "e566e4f5",
   "metadata": {
    "slideshow": {
     "slide_type": "subslide"
    }
   },
   "source": [
    "## Template\n",
    "\n",
    "Cómo se parametriza el espectro de potencias lineal como input de los códigos de teoría. Varias opciones son posibles, entre ellas:\n",
    "\n",
    "### Parametrización estándar (como en BOSS/eBOSS) \n",
    "en términos de:\n",
    "- parámetros de escala $q_{\\parallel}$, $q_{\\perp}$\n",
    "- variación del growth rate of structure $df = f / f^{\\mathrm{fid}}$"
   ]
  },
  {
   "cell_type": "code",
   "execution_count": null,
   "id": "b19eb119",
   "metadata": {
    "slideshow": {
     "slide_type": "skip"
    }
   },
   "outputs": [],
   "source": [
    "import warnings\n",
    "warnings.filterwarnings('ignore')\n",
    "import jax; jax.config.update('jax_platform_name', 'cpu')\n",
    "%matplotlib inline"
   ]
  },
  {
   "cell_type": "code",
   "execution_count": null,
   "id": "02f96eb2",
   "metadata": {
    "slideshow": {
     "slide_type": "fragment"
    }
   },
   "outputs": [],
   "source": [
    "from desilike.theories.galaxy_clustering import\\\n",
    "StandardPowerSpectrumTemplate\n",
    "\n",
    "template = StandardPowerSpectrumTemplate(z=1.1)\n",
    "# Esto muestra todos los parámetros, después de que hayan sido inicializados\n",
    "print(template.all_params)"
   ]
  },
  {
   "cell_type": "markdown",
   "id": "edf239bc",
   "metadata": {
    "slideshow": {
     "slide_type": "subslide"
    }
   },
   "source": [
    "Si se quiere $q_{\\parallel}$, $q_{\\perp}$ en términos del parámetro isotrópico $q_{\\mathrm{iso}}$ y de escalamiento AP $q_{\\mathrm{ap}}$"
   ]
  },
  {
   "cell_type": "code",
   "execution_count": null,
   "id": "4a3315e0",
   "metadata": {
    "slideshow": {
     "slide_type": "fragment"
    }
   },
   "outputs": [],
   "source": [
    "template = StandardPowerSpectrumTemplate(z=1.1, apmode='qisoqap')\n",
    "print(template.all_params)"
   ]
  },
  {
   "cell_type": "markdown",
   "id": "08060d7f",
   "metadata": {
    "slideshow": {
     "slide_type": "subslide"
    }
   },
   "source": [
    "### Parametrización [ShapeFit](https://arxiv.org/abs/2106.07641)\n",
    "En términos de:\n",
    "- Parámetros de escala $q_{\\parallel}$, $q_{\\perp}$\n",
    "- Variación en el growth rate of structure $df = f / f^{\\mathrm{fid}}$\n",
    "- Parámetro de tilt de ShapeFit $dm$"
   ]
  },
  {
   "cell_type": "code",
   "execution_count": null,
   "id": "b99dede4",
   "metadata": {
    "slideshow": {
     "slide_type": "fragment"
    }
   },
   "outputs": [],
   "source": [
    "from desilike.theories.galaxy_clustering import\\\n",
    "ShapeFitPowerSpectrumTemplate\n",
    "\n",
    "template = ShapeFitPowerSpectrumTemplate(z=1.1)\n",
    "# Esto muestra todos los parámetros, una vez hayan sido inicializados\n",
    "print(template.all_params)"
   ]
  },
  {
   "cell_type": "code",
   "execution_count": null,
   "id": "2e623352",
   "metadata": {
    "slideshow": {
     "slide_type": "skip"
    }
   },
   "outputs": [],
   "source": [
    "import numpy as np\n",
    "from matplotlib import colors, cm\n",
    "from mpl_toolkits.axes_grid1 import make_axes_locatable\n",
    "from matplotlib import pyplot as plt\n",
    "\n",
    "from desilike.theories.galaxy_clustering import  KaiserTracerPowerSpectrumMultipoles, ShapeFitPowerSpectrumTemplate, WiggleSplitPowerSpectrumTemplate, BandVelocityPowerSpectrumTemplate\n",
    "\n",
    "z, b1 = 1.1, 2.\n",
    "\n",
    "def get_theory(template):\n",
    "    template.init.update({'z': z, 'fiducial': 'DESI'})\n",
    "    theory = KaiserTracerPowerSpectrumMultipoles(template=template)\n",
    "    theory.params['b1'].update(fixed=False, value=b1)\n",
    "    theory.params['sn0'].update(fixed=False, value=0.)\n",
    "    return theory\n",
    "\n",
    "n = 5\n",
    "cmap = plt.get_cmap('jet', n)\n",
    "\n",
    "def plot(template, template_name, params):\n",
    "    theory_compression = get_theory(template=template)\n",
    "    theory_compression()\n",
    "    center_params = theory_compression.runtime_info.pipeline.input_values\n",
    "    fig, lax = plt.subplots(1, len(params), sharex=False, sharey=True, figsize=(4 * len(params), 4))\n",
    "    lax = lax.flatten()\n",
    "    fig.subplots_adjust(wspace=0.25)\n",
    "    \n",
    "    for iax, (param, values) in enumerate(params.items()):\n",
    "        theory_compression(**center_params)\n",
    "        ax = lax[iax]\n",
    "        for ivalue, value in enumerate(values):\n",
    "            poles = theory_compression(**{param: value})\n",
    "            for ill, ell in enumerate(theory_compression.ells):\n",
    "                ax.plot(theory_compression.k, theory_compression.k * poles[ill], color=cmap(ivalue))\n",
    "        ax.set_xlabel(r'$k$ [$h/\\mathrm{Mpc}$]')\n",
    "        ax.set_ylabel(r'$k P_{\\ell}(k)$ [$(\\mathrm{Mpc}/h)^{2}$]')\n",
    "        ax.grid(True)\n",
    "        norm = colors.Normalize(vmin=values[0], vmax=values[-1])\n",
    "        sm = cm.ScalarMappable(cmap=cmap, norm=norm)\n",
    "        divider = make_axes_locatable(ax)\n",
    "        cax = divider.new_vertical(size='5%', pad = 0.5)\n",
    "        fig.add_axes(cax)\n",
    "        cbar = plt.colorbar(sm, cax=cax, ax=ax, orientation='horizontal')\n",
    "        cbar.set_label(theory_compression.all_params[param].latex(inline=True), rotation=0)\n",
    "    plt.show()"
   ]
  },
  {
   "cell_type": "code",
   "execution_count": null,
   "id": "82e04bd5",
   "metadata": {
    "hidePrompt": true,
    "slideshow": {
     "slide_type": "subslide"
    }
   },
   "outputs": [],
   "source": [
    "plot(ShapeFitPowerSpectrumTemplate(), 'shapefit',\\\n",
    "{'df': np.linspace(0.9, 1.1, n), 'dm': np.linspace(-0.1, 0.1, n), 'qpar': np.linspace(0.98, 1.02, n), 'qper': np.linspace(0.98, 1.02, n)})"
   ]
  },
  {
   "cell_type": "markdown",
   "id": "dec7595a",
   "metadata": {
    "slideshow": {
     "slide_type": "subslide"
    }
   },
   "source": [
    "### Parametrización Directa\n",
    "\n",
    "En términos de los parámetros cosmológicos base"
   ]
  },
  {
   "cell_type": "code",
   "execution_count": null,
   "id": "b6c70b9e",
   "metadata": {
    "slideshow": {
     "slide_type": "fragment"
    }
   },
   "outputs": [],
   "source": [
    "from desilike.theories.galaxy_clustering import\\\n",
    "DirectPowerSpectrumTemplate\n",
    "\n",
    "template = DirectPowerSpectrumTemplate(z=1.1)\n",
    "# Esto muestra todos los parámetros, una vez haya sido inicializado el calculador\n",
    "print(template.all_params)"
   ]
  },
  {
   "cell_type": "code",
   "execution_count": null,
   "id": "2198703c",
   "metadata": {
    "hidePrompt": true,
    "slideshow": {
     "slide_type": "subslide"
    }
   },
   "outputs": [],
   "source": [
    "plot(DirectPowerSpectrumTemplate(),\n",
    "'direct', {'Omega_m': np.linspace(0.28, 0.32, n), 'logA': np.linspace(2.8, 3.2, n), 'h': np.linspace(0.65, 0.75, n)})"
   ]
  },
  {
   "cell_type": "code",
   "execution_count": null,
   "id": "09a91fdf",
   "metadata": {
    "slideshow": {
     "slide_type": "subslide"
    }
   },
   "outputs": [],
   "source": [
    "from desilike.theories import Cosmoprimo\n",
    "\n",
    "cosmo = Cosmoprimo(fiducial='DESI')\n",
    "# Los parámetros default están específicados en formato .yaml, pero pueden ser actualizados:\n",
    "print(cosmo.init.params)\n",
    "# Cambios a cosmo.init.params impactan cualquier calculador que dependa de cosmo\n",
    "# Changes a cosmo.all_params impactan sólo a este calculador\n",
    "\n",
    "del cosmo.init.params['omega_cdm']\n",
    "cosmo.init.params['Omega_m'] = { \n",
    "        'prior': {'limits': [0.01, 0.99]},\n",
    "        'ref': {'dist': 'norm', 'loc': 0.3, 'scale': 0.01},\n",
    "        'latex': r'\\Omega_{m}',\n",
    "        'delta': 0.005}\n",
    "for name in ['n_s', 'tau_reio']:\n",
    "    cosmo.init.params[name].update(fixed=True)\n",
    "template = DirectPowerSpectrumTemplate(cosmo=cosmo, z=1.1)\n",
    "print(template.all_params['Omega_m'].ref.loc)"
   ]
  },
  {
   "cell_type": "markdown",
   "id": "75c0ac56",
   "metadata": {
    "slideshow": {
     "slide_type": "subslide"
    }
   },
   "source": [
    "Ver `desilike.theories.galaxy_clustering.power_template` para todos los templates."
   ]
  },
  {
   "cell_type": "markdown",
   "id": "e966b748",
   "metadata": {
    "slideshow": {
     "slide_type": "slide"
    }
   },
   "source": [
    "## Interludio: Es hora de pedir ayuda!"
   ]
  },
  {
   "cell_type": "code",
   "execution_count": null,
   "id": "e0089aaf",
   "metadata": {
    "slideshow": {
     "slide_type": "fragment"
    }
   },
   "outputs": [],
   "source": [
    "help(ShapeFitPowerSpectrumTemplate)"
   ]
  },
  {
   "cell_type": "markdown",
   "id": "a513c3a1",
   "metadata": {
    "slideshow": {
     "slide_type": "slide"
    }
   },
   "source": [
    "## Teoría\n",
    "\n",
    "Actualmente disponibles (para la mayoría de ellos, la contraparte en función de correlación es cambiar PowerSpectrum por CorrelationFunction: ...PowerSpectrumMultipoles $\\Rightarrow$ ...CorrelationFunctionMultipoles):\n",
    "\n",
    "- Simple Kaiser model: KaiserTracerPowerSpectrumMultipoles\n",
    "\n",
    "- Velocileptors: LPTVelocileptorsTracerPowerSpectrumMultipoles (plus other flavors)\n",
    "\n",
    "- PyBird: PyBirdTracerPowerSpectrumMultipoles\n",
    "\n",
    "- FOLPS: FOLPSTracerPowerSpectrumMultipoles\n",
    "\n",
    "- TNS 1 loop: TNSTracerPowerSpectrumMultipoles\n",
    "\n",
    "- empirical BAO: DampedBAOWigglesPowerSpectrumMultipoles\n",
    "\n",
    "- PNG (scale-dependent bias): PNGTracerPowerSpectrumMultipoles\n",
    "\n",
    "- ¡Ingrese su código propio aquí!"
   ]
  },
  {
   "cell_type": "code",
   "execution_count": null,
   "id": "8e91a8a9",
   "metadata": {
    "slideshow": {
     "slide_type": "subslide"
    }
   },
   "outputs": [],
   "source": [
    "from desilike.theories.galaxy_clustering import KaiserTracerPowerSpectrumMultipoles, LPTVelocileptorsTracerPowerSpectrumMultipoles, PyBirdTracerPowerSpectrumMultipoles\n",
    "\n",
    "# O LPTVelocileptorsTracerPowerSpectrumMultipoles, PyBirdTracerPowerSpectrumMultipoles, etc.\n",
    "theory = KaiserTracerPowerSpectrumMultipoles(template=template)\n",
    "# Esta es la manera en que cualquier calculador (template, teoría, etc.) puede ser llamado\n",
    "power = theory(b1=1.8)\n",
    "fig, ax = plt.subplots(1, 1, sharex=False, sharey=True, figsize=(5, 3), squeeze=True)\n",
    "for ill, ell in enumerate(theory.ells):\n",
    "    ax.plot(theory.k, theory.k * theory.power[ill], label=r'$\\ell = {:d}$'.format(ell))\n",
    "ax.legend()\n",
    "ax.set_xlabel(r'$k$ [$h/\\mathrm{Mpc}$]')\n",
    "ax.set_ylabel(r'$k P_{\\ell}(k)$ [$(\\mathrm{Mpc}/h)^{2}$]');"
   ]
  },
  {
   "cell_type": "markdown",
   "id": "e4959869",
   "metadata": {
    "slideshow": {
     "slide_type": "subslide"
    }
   },
   "source": [
    "For correlation function, change \"PowerSpectrumMultipoles\" for \"CorrelationFunctionMultipoles\"."
   ]
  },
  {
   "cell_type": "code",
   "execution_count": null,
   "id": "86142bdc",
   "metadata": {
    "slideshow": {
     "slide_type": "subslide"
    }
   },
   "outputs": [],
   "source": [
    "from desilike.theories.galaxy_clustering import KaiserTracerCorrelationFunctionMultipoles, LPTVelocileptorsTracerCorrelationFunctionMultipoles, PyBirdTracerCorrelationFunctionMultipoles\n",
    "\n",
    "# Or PyBirdTracerCorrelationFunctionMultipoles, LPTVelocileptorsTracerCorrelationFunctionMultipoles, etc.\n",
    "theory = KaiserTracerCorrelationFunctionMultipoles(template=template)\n",
    "# This is how to get all varied parameters\n",
    "print(theory.varied_params)\n",
    "corr = theory(b1=1.8, h=0.69)\n",
    "fig, ax = plt.subplots(1, 1, sharex=False, sharey=True, figsize=(5, 3), squeeze=True)\n",
    "for ill, ell in enumerate(theory.ells):\n",
    "    ax.plot(theory.s, theory.s**2 * corr[ill], label=r'$\\ell = {:d}$'.format(ell))\n",
    "ax.legend()\n",
    "ax.set_xlabel(r'$s$ [$\\mathrm{Mpc}/h$]')\n",
    "ax.set_ylabel(r'$s^{2} \\xi_{\\ell}(s)$ [$(\\mathrm{Mpc}/h)^{2}$]');"
   ]
  },
  {
   "cell_type": "markdown",
   "id": "4965dcd5",
   "metadata": {
    "slideshow": {
     "slide_type": "slide"
    }
   },
   "source": [
    "## Interludio: instala cualquier calculador! (y sampler y profiler)"
   ]
  },
  {
   "cell_type": "code",
   "execution_count": null,
   "id": "f2bb3b65",
   "metadata": {
    "slideshow": {
     "slide_type": "fragment"
    }
   },
   "outputs": [],
   "source": [
    "from desilike import setup_logging\n",
    "\n",
    "setup_logging()  # set logging\n",
    "\n",
    "from desilike import Installer\n",
    "\n",
    "theory = LPTVelocileptorsTracerCorrelationFunctionMultipoles(template=template)\n",
    "installer = Installer(user=True)\n",
    "installer(theory)"
   ]
  },
  {
   "cell_type": "markdown",
   "id": "e2535839",
   "metadata": {
    "slideshow": {
     "slide_type": "slide"
    }
   },
   "source": [
    "## Observable\n",
    "\n",
    "Entonces, queremos comparar la teoría con los datos (un *observable*), típicamente:\n",
    "\n",
    "- multipolos del espectro de potencias, con `TracerPowerSpectrumMultipolesObservable`\n",
    "- multipolos de la función de correlación, con `TracerCorrelationFunctionMultipolesObservable`"
   ]
  },
  {
   "cell_type": "code",
   "execution_count": null,
   "id": "82bbc2b8",
   "metadata": {
    "slideshow": {
     "slide_type": "subslide"
    }
   },
   "outputs": [],
   "source": [
    "from desilike.observables.galaxy_clustering import TracerPowerSpectrumMultipolesObservable, TracerCorrelationFunctionMultipolesObservable\n",
    "\n",
    "template = ShapeFitPowerSpectrumTemplate(z=1.1)\n",
    "b1 = 1.5\n",
    "theory = KaiserTracerPowerSpectrumMultipoles(template=template)\n",
    "observable = TracerPowerSpectrumMultipolesObservable(\\\n",
    "             data={'b1': b1},  # un (o lista de) (path a) objeto PowerSpectrumStatistics, array plano, o diccionario de parámetros\n",
    "             covariance=None,  # un (o lista de) (path a) mock, array (matriz de covarianzas), o None\n",
    "             klim={0: [0.01, 0.2, 0.005], 2: [0.01, 0.2, 0.005]},  # límites de k, entre 0.01 y 0.2 h/Mpc con pasos de 0.005 h/Mpc\n",
    "             theory=theory)  # teoría definida previamente\n",
    "# Ver ayuda: help(TracerPowerSpectrumMultipolesObservable)\n",
    "# para más opciones (para proveer ells, k en lugar de klim, shotnoise...)\n",
    "# además, https://github.com/cosmodesi/desilike/blob/main/nb/bao_examples.ipynb"
   ]
  },
  {
   "cell_type": "markdown",
   "id": "ef27ed4c",
   "metadata": {
    "slideshow": {
     "slide_type": "subslide"
    }
   },
   "source": [
    "Nota: Aún no tenemos una matriz de covarianzas, a calcularla (Gaussiana y sin aproximación de ventana)"
   ]
  },
  {
   "cell_type": "code",
   "execution_count": null,
   "id": "74b0a583",
   "metadata": {
    "slideshow": {
     "slide_type": "subslide"
    }
   },
   "outputs": [],
   "source": [
    "from desilike.observables.galaxy_clustering import BoxFootprint, ObservablesCovarianceMatrix\n",
    "\n",
    "footprint = BoxFootprint(volume=5e9, nbar=1e-4)  # caja con volumen de 5 (Gpc/h)^3 y densidad de 1e-4 (h/Mpc)^3\n",
    "covariance = ObservablesCovarianceMatrix(observables=[observable], footprints=[footprint])\n",
    "cov = covariance(b1=b1)   # evaluar matriz de covarianza con este parámetro"
   ]
  },
  {
   "cell_type": "markdown",
   "id": "4b0a74b2",
   "metadata": {
    "slideshow": {
     "slide_type": "slide"
    }
   },
   "source": [
    "## Likelihood"
   ]
  },
  {
   "cell_type": "code",
   "execution_count": null,
   "id": "3b96fccd",
   "metadata": {
    "slideshow": {
     "slide_type": "subslide"
    }
   },
   "outputs": [],
   "source": [
    "from desilike.likelihoods import ObservablesGaussianLikelihood\n",
    "\n",
    "# No hay necesidad de especificar la covarianza si ya fue definida en el observable (TracerPowerSpectrumMultipolesObservable)\n",
    "# Si hay mocks dados para cada observable, la matriz de covarianza del likelihood se computa sobre la marcha,\n",
    "# usando mocks de cada observable (tomando en cuenta correlaciones)\n",
    "likelihood = ObservablesGaussianLikelihood(observables=observable, covariance=cov)\n",
    "print(likelihood(b1=b1))  # en realidad logposterior = likelihood.loglikelihood + likelihood.logprior"
   ]
  },
  {
   "cell_type": "code",
   "execution_count": null,
   "id": "7df40fea",
   "metadata": {
    "slideshow": {
     "slide_type": "subslide"
    }
   },
   "outputs": [],
   "source": [
    "observable.plot_covariance_matrix();"
   ]
  },
  {
   "cell_type": "code",
   "execution_count": null,
   "id": "f775289a",
   "metadata": {
    "slideshow": {
     "slide_type": "subslide"
    }
   },
   "outputs": [],
   "source": [
    "observable.plot();"
   ]
  },
  {
   "cell_type": "markdown",
   "id": "8ccdd804",
   "metadata": {
    "slideshow": {
     "slide_type": "subslide"
    }
   },
   "source": [
    "La likelihood (o cualquier otro calculador) pueden ser llamados en cualquier punto con"
   ]
  },
  {
   "cell_type": "code",
   "execution_count": null,
   "id": "ae0882b3",
   "metadata": {
    "slideshow": {
     "slide_type": "fragment"
    }
   },
   "outputs": [],
   "source": [
    "likelihood(b1=1., sn0=1000.)  # Actualizar bias lineal b1, y shot noise sn0\n",
    "likelihood(qpar=0.99)  #  Actualizar parámetro de escala qpar; b1 y sn0 se mantienen fijos en 1. y 1000.\n",
    "likelihood(sn0=100.)  # Actualizar shot noise, el remplate debe ser re-calculado\n",
    "\n",
    "theory.power  # Contiene multipolos del espectro de potencias, evaluado en b1=1., qpar=0.99 y sn0=100.\n",
    "theory(sn0=1000.);  # Recomputa la teoría en sn0=1000."
   ]
  },
  {
   "cell_type": "markdown",
   "id": "c192c82f",
   "metadata": {
    "slideshow": {
     "slide_type": "subslide"
    }
   },
   "source": [
    "La likelihood (o cualquier otro calculador) pueden ser reparametrizados siguiendo, por ejemplo;"
   ]
  },
  {
   "cell_type": "code",
   "execution_count": null,
   "id": "12f5898f",
   "metadata": {
    "slideshow": {
     "slide_type": "fragment"
    }
   },
   "outputs": [],
   "source": [
    "likelihood.all_params['qpar'].update(derived='{qiso} * {qap}**(2. / 3.)')\n",
    "likelihood.all_params['qper'].update(derived='{qiso} * {qap}**(- 1. / 3.)')\n",
    "# Luego agregar qiso, qap a la colección de parámetros\n",
    "likelihood.all_params['qiso'] = {'prior': {'limits': [0.9, 1.1]}, 'latex': 'q_{\\mathrm{iso}}'}\n",
    "likelihood.all_params['qap'] = {'prior': {'limits': [0.9, 1.1]}, 'latex': 'q_{\\mathrm{ap}}'}\n",
    "# Ahora la likelihood tiene como parámetros a variar\n",
    "likelihood.varied_params  # b1, sn0, df, dm, qiso, qap"
   ]
  },
  {
   "cell_type": "markdown",
   "id": "950f16e4",
   "metadata": {
    "slideshow": {
     "slide_type": "subslide"
    }
   },
   "source": [
    "Es posible actualizar cualquier calculador con `calculator.init.update`"
   ]
  },
  {
   "cell_type": "code",
   "execution_count": null,
   "id": "ee437134",
   "metadata": {
    "slideshow": {
     "slide_type": "fragment"
    }
   },
   "outputs": [],
   "source": [
    "template = DirectPowerSpectrumTemplate(z=1.1)\n",
    "theory.init.update(template=template)  # Esto impacta cualquier calculador que dependa en teoría\n",
    "likelihood.varied_params"
   ]
  },
  {
   "cell_type": "markdown",
   "id": "b4d14628",
   "metadata": {
    "slideshow": {
     "slide_type": "subslide"
    }
   },
   "source": [
    "## Combinando observables"
   ]
  },
  {
   "cell_type": "code",
   "execution_count": null,
   "id": "62677b28",
   "metadata": {
    "slideshow": {
     "slide_type": "fragment"
    }
   },
   "outputs": [],
   "source": [
    "theory_xi = KaiserTracerCorrelationFunctionMultipoles(template=template)\n",
    "observable_xi = TracerCorrelationFunctionMultipolesObservable(\\\n",
    "                data={'b1': b1},\n",
    "                covariance=None,\n",
    "                slim={0: [20., 150., 5.], 2: [20., 150., 5.]},\n",
    "                theory=theory_xi)"
   ]
  },
  {
   "cell_type": "code",
   "execution_count": null,
   "id": "e14691ee",
   "metadata": {
    "slideshow": {
     "slide_type": "subslide"
    }
   },
   "outputs": [],
   "source": [
    "covariance_pk_xi = ObservablesCovarianceMatrix(\\\n",
    "                   observables=[observable, observable_xi],\n",
    "                   footprints=footprint)\n",
    "likelihood = ObservablesGaussianLikelihood(\\\n",
    "                    observables=[observable, observable_xi],\n",
    "                    covariance=covariance_pk_xi(b1=b1))\n",
    "likelihood()\n",
    "likelihood.plot_covariance_matrix();"
   ]
  },
  {
   "cell_type": "markdown",
   "id": "26cca19d",
   "metadata": {
    "slideshow": {
     "slide_type": "subslide"
    }
   },
   "source": [
    "## Sumando likelihoods"
   ]
  },
  {
   "cell_type": "code",
   "execution_count": null,
   "id": "cc16d745",
   "metadata": {
    "slideshow": {
     "slide_type": "fragment"
    }
   },
   "outputs": [],
   "source": [
    "theory2 = theory.deepcopy()\n",
    "for name in ['b1', 'sn0']:\n",
    "    theory2.init.params[name].update(namespace='tracer2')\n",
    "observable2 = TracerPowerSpectrumMultipolesObservable(\\\n",
    "             data={'tracer2.b1': 2.},\n",
    "             covariance=covariance(b1=2),\n",
    "             klim={0: [0.01, 0.2, 0.005], 2: [0.01, 0.2, 0.005]},\n",
    "             theory=theory2)\n",
    "likelihood2 = ObservablesGaussianLikelihood(observables=observable2)\n",
    "like = likelihood + likelihood2\n",
    "like.varied_params"
   ]
  },
  {
   "cell_type": "markdown",
   "id": "9869a2f5",
   "metadata": {
    "slideshow": {
     "slide_type": "subslide"
    }
   },
   "source": [
    "La likelihood puede ser marginalizada analíticamente sobre los parámetros lineales (aquí `sn0`, `tracer2.sn0`)"
   ]
  },
  {
   "cell_type": "code",
   "execution_count": null,
   "id": "94931005",
   "metadata": {
    "slideshow": {
     "slide_type": "fragment"
    }
   },
   "outputs": [],
   "source": [
    "# '.best': establecer sn0 en su best fit\n",
    "# '.marg': marginalización, asumiendo likelihood Gaussiana\n",
    "# '.auto': automáticamente elegir entre '.best' (likelihood profiling) y '.marg' (likelihood sampling)\n",
    "for param in like.all_params.select(name='*sn0'):\n",
    "    param.update(derived='.auto')\n",
    "# Ahora la likelihood tiene para varios parámetros variados (no sn0)\n",
    "like.varied_params"
   ]
  },
  {
   "cell_type": "markdown",
   "id": "9a9b320e",
   "metadata": {
    "slideshow": {
     "slide_type": "subslide"
    }
   },
   "source": [
    "## Parámetros comprimidos\n",
    "Interpretación de los parámetros comprimidos (por ejemplo, $q_{\\parallel}$, $q_{\\perp}$, $df$, $dm$) en inferencia de parámetros cosmológicos."
   ]
  },
  {
   "cell_type": "code",
   "execution_count": null,
   "id": "1c41df3b",
   "metadata": {
    "slideshow": {
     "slide_type": "fragment"
    }
   },
   "outputs": [],
   "source": [
    "# data temporal y covarianza: estos pueden ser computados con samplers o herramientas Fishers con wrappers en desilike\n",
    "from desilike.observables.galaxy_clustering import BAOCompressionObservable,\\\n",
    "StandardCompressionObservable, ShapeFitCompressionObservable\n",
    "\n",
    "observable = ShapeFitCompressionObservable(data=[1., 1., 0., 1.],\n",
    "                                           covariance=np.diag([0.01, 0.01, 0.0001, 0.01]),\n",
    "                                           quantities=['qpar', 'qper', 'dm', 'df'], z=1.1)\n",
    "likelihood = ObservablesGaussianLikelihood(observables=[observable])\n",
    "print(likelihood.varied_params)"
   ]
  },
  {
   "cell_type": "markdown",
   "id": "cfac3cf1",
   "metadata": {
    "slideshow": {
     "slide_type": "slide"
    }
   },
   "source": [
    "# Bindings\n",
    "\n",
    "Ahora tenemos nuestro likelihood, podemos hacer un binding con un código de inferencia cosmológica externo (Cobaya, CosmoSIS y MontePython)."
   ]
  },
  {
   "cell_type": "markdown",
   "id": "c52b99e5",
   "metadata": {
    "slideshow": {
     "slide_type": "subslide"
    }
   },
   "source": [
    "Recapitulemos la definición de la likelihood en una función"
   ]
  },
  {
   "cell_type": "code",
   "execution_count": null,
   "id": "a4dd98bc",
   "metadata": {
    "slideshow": {
     "slide_type": "fragment"
    }
   },
   "outputs": [],
   "source": [
    "def MyLikelihood():\n",
    "\n",
    "    from desilike.theories.galaxy_clustering import DirectPowerSpectrumTemplate, KaiserTracerPowerSpectrumMultipoles\n",
    "    from desilike.observables.galaxy_clustering import TracerPowerSpectrumMultipolesObservable, BoxFootprint, ObservablesCovarianceMatrix\n",
    "    from desilike.likelihoods import ObservablesGaussianLikelihood\n",
    "\n",
    "    # 'external' significa \"obtiene cantidades primordiales de un código externo, como cobaya\"\n",
    "    template = DirectPowerSpectrumTemplate(z=1.1, cosmo='external')\n",
    "    theory = KaiserTracerPowerSpectrumMultipoles(template=template)\n",
    "    observable = TracerPowerSpectrumMultipolesObservable(data={'b1': 1.2}, covariance=None,\n",
    "                                                         klim={0: [0.01, 0.2, 0.005], 2: [0.01, 0.2, 0.005]}, theory=theory)\n",
    "    footprint = BoxFootprint(volume=1e9, nbar=1e-3)\n",
    "    covariance = ObservablesCovarianceMatrix(observables=observable, footprints=footprint)\n",
    "    cov = covariance(b1=1.2)\n",
    "    return ObservablesGaussianLikelihood(observables=observable, covariance=cov)"
   ]
  },
  {
   "cell_type": "markdown",
   "id": "3240b8fd",
   "metadata": {
    "slideshow": {
     "slide_type": "subslide"
    }
   },
   "source": [
    "Pasemos esta función a los generadores que escribirán los archivos necesarios\n",
    "para importarla como una likelihood externa en Cobaya, CosmoSIS y Montepython\n",
    "\n",
    "Se puede dar `name_like` para asignarle un nombre a la likelihood  que sea distinto a `MyLikelihood`\n",
    "y `kw_like` para pasar argumentos opcionales a `MyLikelihood`."
   ]
  },
  {
   "cell_type": "code",
   "execution_count": null,
   "id": "a39b80b2",
   "metadata": {
    "slideshow": {
     "slide_type": "fragment"
    }
   },
   "outputs": [],
   "source": [
    "from desilike.bindings import CobayaLikelihoodGenerator, CosmoSISLikelihoodGenerator, MontePythonLikelihoodGenerator\n",
    "## NOTAAAAA: Esto solo jala en archivos .py\n",
    "CobayaLikelihoodGenerator()(MyLikelihood)\n",
    "CosmoSISLikelihoodGenerator()(MyLikelihood)\n",
    "MontePythonLikelihoodGenerator()(MyLikelihood)"
   ]
  },
  {
   "cell_type": "markdown",
   "id": "34c2ec22",
   "metadata": {
    "slideshow": {
     "slide_type": "slide"
    }
   },
   "source": [
    "# Emuladores"
   ]
  },
  {
   "cell_type": "markdown",
   "id": "7c366989",
   "metadata": {
    "slideshow": {
     "slide_type": "fragment"
    }
   },
   "source": [
    "Modelos de teoría EFT típicamente toman ~ 1 second en corren. Proveemos herramientas para emulación:\n",
    "\n",
    "- Expansión de Taylor, hasta un orden dado, con `TaylorEmulatorEngine`\n",
    "- Red Neural (perceptron de capas múltiples), con `MLPEmulatorEngine`"
   ]
  },
  {
   "cell_type": "code",
   "execution_count": null,
   "id": "d6d74146",
   "metadata": {
    "slideshow": {
     "slide_type": "skip"
    }
   },
   "outputs": [],
   "source": [
    "template = DirectPowerSpectrumTemplate(z=1.1)\n",
    "template.init.params['omega_b'].update(fixed=True)\n",
    "theory = KaiserTracerPowerSpectrumMultipoles(template=template)\n",
    "observable = TracerPowerSpectrumMultipolesObservable(data={'b1': 1.8}, covariance=None,\n",
    "                                                     klim={0: [0.01, 0.2, 0.005], 2: [0.01, 0.2, 0.005]}, theory=theory)\n",
    "footprint = BoxFootprint(volume=1e9, nbar=1e-3)\n",
    "covariance = ObservablesCovarianceMatrix(observables=observable, footprints=footprint)\n",
    "likelihood = ObservablesGaussianLikelihood(observables=observable, covariance=covariance(b1=1.8))"
   ]
  },
  {
   "cell_type": "markdown",
   "id": "281901dd",
   "metadata": {
    "slideshow": {
     "slide_type": "skip"
    }
   },
   "source": [
    "Emulemor la parte de Teoría de Perturbación (.pt)\n",
    "haciendo una expansión de Taylos de 2do orden (excepto por sn0)\n",
    "Las derivadas de la teoría son evaluadas con auto-diferenciación de jax si es posible,\n",
    "de otra manera, con diferencias finitas."
   ]
  },
  {
   "cell_type": "code",
   "execution_count": null,
   "id": "b23220ff",
   "metadata": {
    "slideshow": {
     "slide_type": "subslide"
    }
   },
   "outputs": [],
   "source": [
    "from desilike.emulators import Emulator, TaylorEmulatorEngine, EmulatedCalculator\n",
    "\n",
    "emulator = Emulator(theory.pt,\n",
    "                    engine=TaylorEmulatorEngine(order={'*': 2, 'sn0': 1}))\n",
    "emulator.set_samples()\n",
    "emulator.fit()  # Definir expansión de Taylor\n",
    "\n",
    "# El emulador puede ser guardado con:\n",
    "emulator.save('_tests/emulator.npy')\n",
    "# Y recargado con:\n",
    "pt = EmulatedCalculator.load('_tests/emulator.npy')\n",
    "\n",
    "theory.init.update(pt=pt)\n",
    "# Ahora la teoría se ejecutará mucho más rápido!\n",
    "theory(logA=3.);"
   ]
  },
  {
   "cell_type": "markdown",
   "id": "bb5c3fe2",
   "metadata": {
    "slideshow": {
     "slide_type": "slide"
    }
   },
   "source": [
    "# Profilers, samplers\n",
    "\n",
    "Ya que queremos probar inferencia cosmológica en tiempo real\n",
    "(sin recurrir a montepython, cosmosis o cobaya),\n",
    "proveemos un wrapper para algunos profilers y samplers."
   ]
  },
  {
   "cell_type": "markdown",
   "id": "c2640a43",
   "metadata": {
    "slideshow": {
     "slide_type": "subslide"
    }
   },
   "source": [
    "Profilers actualmente disponibles:\n",
    "- [minuit](https://github.com/scikit-hep/iminuit), usado por la comunidad de física de altas energías, con `MinuitProfiler`\n",
    "- [bobyqa](https://github.com/numericalalgorithmsgroup/pybobyqa), con `BOBYQAProfiler`\n",
    "- [scipy](https://docs.scipy.org/doc/scipy/reference/generated/scipy.optimize.minimize.html#scipy.optimize.minimize>), con `ScipyProfiler`"
   ]
  },
  {
   "cell_type": "markdown",
   "id": "42873aec",
   "metadata": {
    "slideshow": {
     "slide_type": "subslide"
    }
   },
   "source": [
    "Estos pueden ser utilizados con, por ejemplo;"
   ]
  },
  {
   "cell_type": "code",
   "execution_count": null,
   "id": "a9b4af8c",
   "metadata": {
    "slideshow": {
     "slide_type": "fragment"
    }
   },
   "outputs": [],
   "source": [
    "from desilike.profilers import MinuitProfiler\n",
    "\n",
    "profiler = MinuitProfiler(likelihood)\n",
    "profiles = profiler.maximize(niterations=5)\n",
    "profiles = profiler.interval(params=['h', 'Omega_m', 'logA'])\n",
    "# Para asegurar los parámetros del mejor fit (de entre todas las iteraciones)\n",
    "profiles.bestfit.choice()\n",
    "# Para imprimer la información relevante\n",
    "print(profiles.to_stats(tablefmt='pretty'))"
   ]
  },
  {
   "cell_type": "markdown",
   "id": "4d437843",
   "metadata": {
    "slideshow": {
     "slide_type": "subslide"
    }
   },
   "source": [
    "## Recordatorio: installer"
   ]
  },
  {
   "cell_type": "code",
   "execution_count": null,
   "id": "7a2879de",
   "metadata": {
    "slideshow": {
     "slide_type": "fragment"
    }
   },
   "outputs": [],
   "source": [
    "installer = Installer(user=True)\n",
    "installer(MinuitProfiler)"
   ]
  },
  {
   "cell_type": "markdown",
   "id": "2b36e664",
   "metadata": {
    "slideshow": {
     "slide_type": "subslide"
    }
   },
   "source": [
    "Samplers actualmente disponibles:\n",
    "- [MCMC Sampler de Antony Lewis ](https://github.com/CobayaSampler/cobaya/tree/master/cobaya/samplers/mcmc>) con `MCMCSampler`\n",
    "- [emcee ensemble sampler](https://github.com/dfm/emcee), con `EmceeSampler`\n",
    "- [zeus ensemble slicing sampler](https://github.com/minaskar/zeus), con `ZeusSampler`\n",
    "- [pocomc sampler precondicionado Monte-Carlo](https://github.com/minaskar/pocomc), con `PocoMCSampler`\n",
    "- [dynesty nested sampler](https://github.com/joshspeagle/dynesty), con `DynamicDynestySampler`\n",
    "- [polychord nested sampler](https://github.com/PolyChord/PolyChordLite), con `NestedSampler`"
   ]
  },
  {
   "cell_type": "markdown",
   "id": "f76c4463",
   "metadata": {
    "slideshow": {
     "slide_type": "subslide"
    }
   },
   "source": [
    "Esto puede ser usar con, por ejemplo;"
   ]
  },
  {
   "cell_type": "code",
   "execution_count": null,
   "id": "63c16fb7",
   "metadata": {
    "slideshow": {
     "slide_type": "fragment"
    }
   },
   "outputs": [],
   "source": [
    "from desilike.samplers import EmceeSampler\n",
    "from desilike.samples import Chain\n",
    "\n",
    "sampler = EmceeSampler(likelihood, seed=42, chains=1)\n",
    "chains = sampler.run(check={'max_eigen_gr': 0.05})  # correr hasta alcanzar el criterio Gelman-Rubin < 0.05\n",
    "chain = Chain.concatenate([chain.remove_burnin(0.5) for chain in chains])[::10]  # adelgazamiento"
   ]
  },
  {
   "cell_type": "code",
   "execution_count": null,
   "id": "cdf3dee0",
   "metadata": {},
   "outputs": [],
   "source": [
    "# Para imprimir información relevante\n",
    "print(chain.to_stats(tablefmt='pretty'))"
   ]
  },
  {
   "cell_type": "code",
   "execution_count": null,
   "id": "bfacffb1",
   "metadata": {
    "slideshow": {
     "slide_type": "subslide"
    }
   },
   "outputs": [],
   "source": [
    "from desilike.samples import plotting\n",
    "plotting.plot_triangle(chain, params=['h', 'Omega_m', 'logA'])"
   ]
  },
  {
   "cell_type": "markdown",
   "id": "16b85a17",
   "metadata": {
    "slideshow": {
     "slide_type": "slide"
    }
   },
   "source": [
    "# Fisher\n",
    "\n",
    "Proveemos una rutina para estimación de Fisher"
   ]
  },
  {
   "cell_type": "code",
   "execution_count": null,
   "id": "45b1ce67",
   "metadata": {
    "slideshow": {
     "slide_type": "fragment"
    }
   },
   "outputs": [],
   "source": [
    "from desilike import Fisher\n",
    "\n",
    "fisher = Fisher(likelihood)\n",
    "# Estimar una matriz [precisa] de Fisher con b1=2, usando auto-diferenciación de jax donde sea posible\n",
    "# de otra manera, diferencias finitas (con pasos tamaño :attr:`Parameter.delta`)\n",
    "fish = fisher(b1=2.)"
   ]
  },
  {
   "cell_type": "code",
   "execution_count": null,
   "id": "ef4fb592",
   "metadata": {},
   "outputs": [],
   "source": [
    "# LikelihoodFisher puede ser guardada con:\n",
    "fish.save('_tests/fisher.npy')\n",
    "# Y recargada con:\n",
    "from desilike import LikelihoodFisher\n",
    "fish = LikelihoodFisher.load('_tests/fisher.npy')"
   ]
  },
  {
   "cell_type": "markdown",
   "id": "719afc2e",
   "metadata": {
    "slideshow": {
     "slide_type": "slide"
    }
   },
   "source": [
    "# Interludio: MPI"
   ]
  },
  {
   "cell_type": "markdown",
   "id": "65e60bfb",
   "metadata": {
    "slideshow": {
     "slide_type": "subslide"
    }
   },
   "source": [
    "- profilers (iteraciones, empezar desde distintos puntos, en paralelo)\n",
    "- samplers (chains y paralelización para ensemble samplers)\n",
    "- emuladores (teoría evaluada en paralelo)\n",
    "- fisher (derivadas en paralelo)\n",
    "todos se benefician de MPI. Sólo es necesario correr el script con:\n",
    "\n",
    "```mpiexec -np 64 python yourscript.py```\n",
    "\n",
    "En NERSC:\n",
    "\n",
    "```srun -n 64 python yourscript.py```"
   ]
  },
  {
   "cell_type": "markdown",
   "id": "a9092981",
   "metadata": {
    "slideshow": {
     "slide_type": "slide"
    }
   },
   "source": [
    "Si no se han aburrido, ahí les van unos links a ejemplos reales!\n",
    "\n",
    "[Aplicación al mock challenge](https://github.com/cosmodesi/desi-y1-kp7/tree/main/mock_challenge_y1)\n",
    "\n",
    "[Aplicación a los mocks de Y1 para inferencia cosmológica](https://github.com/cosmodesi/desi-y1-kp7/tree/main/mock_y1): forecasts directos y comprimidos"
   ]
  },
  {
   "cell_type": "markdown",
   "id": "4155d735",
   "metadata": {
    "slideshow": {
     "slide_type": "slide"
    }
   },
   "source": [
    "# Recapitulación\n",
    "\n",
    "desilike es una estructura que (con un poco de suerte) hace fácil definir likelihoods de clustering, y provee wrappers para muchar utilidades útiles a la hora de hacer inferencia: emuladores, profiles, samplers, estimación Fisher.\n",
    "\n",
    "[desilike docs](https://desilike.readthedocs.io/), en particular [getting started](https://desilike.readthedocs.io/en/latest/user/getting_started.html)\n",
    "\n",
    "[desilike notebooks](https://github.com/cosmodesi/desilike/tree/main/nb)\n",
    "\n",
    "Environment en NERSC que incluye desilike, Cobaya, CosmoSIS, Class, camb, y varios samplers instalados:\n",
    "```\n",
    "source /global/common/software/desi/users/adematti/cosmodesi_environment.sh main  # source the environment\n",
    "# Para configurar el kernel correspondiente para uso en jupyter notebooks\n",
    "${COSMODESIMODULES}/install_jupyter_kernel.sh main  # Este paso sólo es necesario hacerlo una vez\n",
    "```"
   ]
  },
  {
   "cell_type": "markdown",
   "id": "103d7e53",
   "metadata": {},
   "source": []
  }
 ],
 "metadata": {
  "celltoolbar": "Diaporama",
  "kernelspec": {
   "display_name": "Python 3",
   "language": "python",
   "name": "python3"
  },
  "language_info": {
   "codemirror_mode": {
    "name": "ipython",
    "version": 3
   },
   "file_extension": ".py",
   "mimetype": "text/x-python",
   "name": "python",
   "nbconvert_exporter": "python",
   "pygments_lexer": "ipython3",
   "version": "3.8.10"
  }
 },
 "nbformat": 4,
 "nbformat_minor": 5
}
