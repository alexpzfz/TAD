{
 "cells": [
  {
   "cell_type": "markdown",
   "id": "eace5322",
   "metadata": {
    "slideshow": {
     "slide_type": "slide"
    }
   },
   "source": [
    "# desilike\n",
    "\n",
    "## Código para especificar likelihoods de DESI\n",
    "\n",
    "### Tutorial #2: bindings con otros códigos de inferencia cosmológica"
   ]
  },
  {
   "cell_type": "markdown",
   "id": "9cb97c0e",
   "metadata": {
    "slideshow": {
     "slide_type": "slide"
    }
   },
   "source": [
    "# Metas\n",
    "Al final de este tutorial, se habrá aprendido:\n",
    "- Cómo escribir likelihoods en términos de parámetros comprimidos (por ejemplo, basándose en forecasts), opcionalmente con covarianza entre distintas mediciones\n",
    "- Cómo escribir likelihoods de full shape, y emular su teoría\n",
    "- Cómo correr inferencia dentro de desilike, o [Cobaya](https://github.com/CobayaSampler/cobaya), [CosmoSIS](https://github.com/joezuntz/cosmosis), y [MontePython](https://github.com/brinckmann/montepython_public).\n",
    "\n",
    "Para ejemplos de la vida real, ver [mock Y1 cosmological inference](https://github.com/cosmodesi/desi-y1-kp7/tree/main/mock_y1)."
   ]
  },
  {
   "cell_type": "markdown",
   "id": "489818cf",
   "metadata": {
    "slideshow": {
     "slide_type": "slide"
    }
   },
   "source": [
    "# Likelihoods comprimidas\n",
    "\n",
    "Primero enfoquémonos en likelihoods comprimidas = que sólo dependen en el modelo cosmológico (nuisance = bias, parámetros estocásticos y contratérminos ya marginalizados).\n",
    "\n",
    "=> El sampleo de este tipo de likelihoods es típicamente sucifientemente rápido que no es necesario emularlo."
   ]
  },
  {
   "cell_type": "markdown",
   "id": "8b77120a",
   "metadata": {
    "slideshow": {
     "slide_type": "subslide"
    }
   },
   "source": [
    "## Likelihood de BAO\n",
    "\n",
    "Las likelihoods de BAO son construidas a partir de un \"observable de BAO\", que compara un data vector con una teoría, típicamente $\\alpha_{\\perp}$ y $\\alpha_{\\parallel}$ o $D_{M}/r_{d}$ y $D_{H}/r_{d}$."
   ]
  },
  {
   "cell_type": "code",
   "execution_count": null,
   "id": "9301b36b",
   "metadata": {
    "slideshow": {
     "slide_type": "skip"
    }
   },
   "outputs": [],
   "source": [
    "import warnings\n",
    "warnings.filterwarnings('ignore')\n",
    "import jax; jax.config.update('jax_platform_name', 'cpu')\n",
    "%matplotlib inline"
   ]
  },
  {
   "cell_type": "code",
   "execution_count": null,
   "id": "e454b42b",
   "metadata": {
    "slideshow": {
     "slide_type": "fragment"
    }
   },
   "outputs": [],
   "source": [
    "import numpy as np\n",
    "\n",
    "from desilike import utils, setup_logging\n",
    "from desilike.likelihoods import ObservablesGaussianLikelihood\n",
    "from desilike.observables.galaxy_clustering import BAOCompressionObservable\n",
    "\n",
    "setup_logging()\n",
    "\n",
    "# Por default elegimos la cosmología fiducial de DESI\n",
    "observable1 = BAOCompressionObservable(data=[1., 1.],\n",
    "                                       covariance=np.diag([0.01, 0.01]),\n",
    "                                       quantities=['qpar', 'qper'],\n",
    "                                       z=1.)\n",
    "# Definimos la likelihood utilizando este observable\n",
    "likelihood = ObservablesGaussianLikelihood(observable1)"
   ]
  },
  {
   "cell_type": "markdown",
   "id": "25c2bbce",
   "metadata": {
    "slideshow": {
     "slide_type": "subslide"
    }
   },
   "source": [
    "### Recordatorio"
   ]
  },
  {
   "cell_type": "code",
   "execution_count": null,
   "id": "1207ab26",
   "metadata": {
    "slideshow": {
     "slide_type": "fragment"
    }
   },
   "outputs": [],
   "source": [
    "# Parámetros de la likelihood\n",
    "print('Los parámetros a varias con esta likelihood son', likelihood.varied_params.names())\n",
    "# Para evaluar la likelihood (obtener la logposterior)\n",
    "print('logposterior es {:.3f}'.format(likelihood(Omega_m=0.29)))"
   ]
  },
  {
   "cell_type": "markdown",
   "id": "1cddc669",
   "metadata": {
    "slideshow": {
     "slide_type": "subslide"
    }
   },
   "source": [
    "¿Y por qué nos importan los \"observables\"?"
   ]
  },
  {
   "cell_type": "markdown",
   "id": "d9d0f2e9",
   "metadata": {
    "slideshow": {
     "slide_type": "fragment"
    }
   },
   "source": [
    "... Porque podemos unirlos en una likelihood!"
   ]
  },
  {
   "cell_type": "code",
   "execution_count": null,
   "id": "220f5f2d",
   "metadata": {
    "slideshow": {
     "slide_type": "fragment"
    }
   },
   "outputs": [],
   "source": [
    "# Queremos compartir el mismo cálculo cosmológico entre todos los observables\n",
    "# Así que hagámoslo explícitamente\n",
    "from desilike.theories import Cosmoprimo\n",
    "cosmo = Cosmoprimo(fiducial='DESI')\n",
    "# Definir los parámetros del calculador de Cosmoprimo\n",
    "cosmo.init.params = {'Omega_m': {'prior': {'limits': [0.1, 0.9]},\n",
    "                                 'ref': {'dist': 'norm', 'loc': 0.3, 'scale': 0.002},\n",
    "                                 'latex': '\\Omega_m'}}\n",
    "# Reutilicemos el primer observable que definimos, sólo actualizando la cosmología\n",
    "observable1.init.update(cosmo=cosmo)\n",
    "# A ponernos fancy y en lugar de definir un observable en términos de DV_over_rd\n",
    "# Proveamos un diccionaro a \"data\": el theory vector que será generado automáticamente\n",
    "observable2 = BAOCompressionObservable(data={}, quantities=['DV_over_rd'], z=1.5, cosmo=cosmo)\n",
    "# Unamos las dos observables, y proveamos la covarianza conjunta\n",
    "likelihood = ObservablesGaussianLikelihood([observable1, observable2],\n",
    "                                           covariance=np.diag([0.01, 0.01, 1.]))\n",
    "print('likelihood is {:.4f}'.format(likelihood()))"
   ]
  },
  {
   "cell_type": "markdown",
   "id": "f84b4418",
   "metadata": {
    "slideshow": {
     "slide_type": "subslide"
    }
   },
   "source": [
    "También podemos sumar (log-) likelihoods!"
   ]
  },
  {
   "cell_type": "code",
   "execution_count": null,
   "id": "874e53e4",
   "metadata": {
    "slideshow": {
     "slide_type": "fragment"
    }
   },
   "outputs": [],
   "source": [
    "likelihood2 = likelihood + likelihood\n",
    "likelihood(Omega_m=0.29)\n",
    "likelihood2(Omega_m=0.29)\n",
    "assert np.allclose(likelihood2.loglikelihood, 2. * likelihood.loglikelihood)"
   ]
  },
  {
   "cell_type": "markdown",
   "id": "309567df",
   "metadata": {
    "slideshow": {
     "slide_type": "subslide"
    }
   },
   "source": [
    "## Bindings\n",
    "Para generar bindings a desilike, debemos empezar por escribir un llamable (~\"función\") que regrese la likelihood de desilike"
   ]
  },
  {
   "cell_type": "code",
   "execution_count": null,
   "id": "30aaac28",
   "metadata": {
    "slideshow": {
     "slide_type": "fragment"
    }
   },
   "outputs": [],
   "source": [
    "def BAOLikelihood(cosmo='external'):\n",
    "    # cosmo = 'external' para decirle a desilike que la cosmología será porporcionada por\n",
    "    # el código de inferencia externo\n",
    "    observable1 = BAOCompressionObservable(data=[1., 1.], quantities=['qpar', 'qper'], z=0.5,\n",
    "                                           cosmo=cosmo)\n",
    "    observable2 = BAOCompressionObservable(data=[1.], quantities=['qiso'], z=1., cosmo=cosmo)\n",
    "    likelihood = ObservablesGaussianLikelihood([observable1, observable2],\n",
    "                                               covariance=np.diag([0.002, 0.002, 0.005]))\n",
    "    return likelihood"
   ]
  },
  {
   "cell_type": "markdown",
   "id": "10429178",
   "metadata": {
    "slideshow": {
     "slide_type": "subslide"
    }
   },
   "source": [
    "### Cobaya\n",
    "### Bindings 'Dinámicos'\n",
    "\n",
    "Cobaya  está diseñado de manera que podemos proveer likelihoods definidos en la marcha (no necesariamente en un script), y llevar a cabo la inferencia directamente en Python."
   ]
  },
  {
   "cell_type": "code",
   "execution_count": null,
   "id": "e2e5acef",
   "metadata": {
    "slideshow": {
     "slide_type": "fragment"
    }
   },
   "outputs": [],
   "source": [
    "from desilike.bindings.cobaya import CobayaLikelihoodFactory\n",
    "\n",
    "# CobayaBAOLikelihood es un objeto de Likelihood en Cobaya\n",
    "CobayaBAOLikelihood = CobayaLikelihoodFactory(BAOLikelihood, params=True)"
   ]
  },
  {
   "cell_type": "code",
   "execution_count": null,
   "id": "3abf5ec4",
   "metadata": {
    "slideshow": {
     "slide_type": "subslide"
    }
   },
   "outputs": [],
   "source": [
    "from cosmoprimo.fiducial import DESI\n",
    "cosmo = DESI()\n",
    "\n",
    "# Nada mágico aquí, esto son puras cosas de Cobaya\n",
    "params = {'Omega_m': {'prior': {'min': 0.1, 'max': 1.},\n",
    "                      'ref': {'dist': 'norm', 'loc': 0.3, 'scale': 0.01},\n",
    "                      'latex': '\\Omega_{m}'},\n",
    "          'omega_b': cosmo['omega_b'],\n",
    "          'H0': cosmo['H0'],\n",
    "          'A_s': cosmo['A_s'],\n",
    "          'n_s': cosmo['n_s'],\n",
    "          'tau_reio': cosmo['tau_reio']}\n",
    "\n",
    "info = {'params': params,\n",
    "        'likelihood': {'bao_likelihood': CobayaBAOLikelihood},\n",
    "        'theory': {'classy': {'extra_args': {'N_ncdm': cosmo['N_ncdm'], 'N_ur': cosmo['N_ur']}}}}\n",
    "\n",
    "from cobaya.model import get_model\n",
    "model = get_model(info)\n",
    "model.logposterior({'Omega_m': cosmo['Omega_m']})"
   ]
  },
  {
   "cell_type": "code",
   "execution_count": null,
   "id": "69961437",
   "metadata": {
    "slideshow": {
     "slide_type": "subslide"
    }
   },
   "outputs": [],
   "source": [
    "# Hora de correr MCMC!\n",
    "info_sampler = {'mcmc': {'Rminus1_stop': 0.02}}\n",
    "from cobaya.sampler import get_sampler\n",
    "mcmc = get_sampler(info_sampler, model=model)\n",
    "mcmc.run()"
   ]
  },
  {
   "cell_type": "code",
   "execution_count": null,
   "id": "5bdadfe0",
   "metadata": {},
   "outputs": [],
   "source": [
    "from cobaya.sampler import get_sampler_name_and_class\n",
    "get_sampler(info_sampler, model=model)"
   ]
  },
  {
   "cell_type": "code",
   "execution_count": null,
   "id": "6c4d7c5b",
   "metadata": {
    "slideshow": {
     "slide_type": "subslide"
    }
   },
   "outputs": [],
   "source": [
    "from getdist.mcsamples import MCSamplesFromCobaya\n",
    "samples_bao_cobaya = mcmc.samples(combined=True, skip_samples=0.5, to_getdist=True).copy(label='cobaya')\n",
    "from getdist import plots\n",
    "g = plots.get_subplot_plotter()\n",
    "g.triangle_plot(samples_bao_cobaya, params=['Omega_m'], markers={'Omega_m': cosmo['Omega_m']})"
   ]
  },
  {
   "cell_type": "markdown",
   "id": "f3021287",
   "metadata": {
    "slideshow": {
     "slide_type": "subslide"
    }
   },
   "source": [
    "### Interludio: Hagamos lo mismo desde desilike"
   ]
  },
  {
   "cell_type": "code",
   "execution_count": null,
   "id": "0543702b",
   "metadata": {
    "slideshow": {
     "slide_type": "fragment"
    }
   },
   "outputs": [],
   "source": [
    "from desilike.samplers import MCMCSampler\n",
    "\n",
    "from desilike.theories import Cosmoprimo\n",
    "cosmo = Cosmoprimo(fiducial='DESI')\n",
    "# Definir los parámetros del calculador de Cosmoprimo\n",
    "cosmo.init.params = {'Omega_m': {'prior': {'limits': [0.1, 1.]},\n",
    "                                 'ref': {'dist': 'norm', 'loc': 0.3, 'scale': 0.01},\n",
    "                                 'latex': '\\Omega_m'}}\n",
    "sampler = MCMCSampler(BAOLikelihood(cosmo=cosmo), seed=42)\n",
    "chains = sampler.run(check={'max_eigen_gr': 0.03, 'stable_over': 2}, check_every=40)\n",
    "# usar help(chains[0]) para obtener información sobre todos los métodos disponibles!\n",
    "samples_bao_desilike = chains[0].remove_burnin(0.5).to_getdist(label='desilike')"
   ]
  },
  {
   "cell_type": "code",
   "execution_count": null,
   "id": "ae4ec368",
   "metadata": {
    "slideshow": {
     "slide_type": "subslide"
    }
   },
   "outputs": [],
   "source": [
    "from getdist import plots\n",
    "\n",
    "g = plots.get_subplot_plotter()\n",
    "g.triangle_plot([samples_bao_cobaya, samples_bao_desilike],\n",
    "                 params=['Omega_m'], markers={'Omega_m': cosmo['Omega_m']})"
   ]
  },
  {
   "cell_type": "markdown",
   "id": "60dadc4f",
   "metadata": {
    "slideshow": {
     "slide_type": "subslide"
    }
   },
   "source": [
    "### Bindings 'Estáticos' \n",
    "\n",
    "Otros códigos de inferencia (CosmoSIS, MontePython) típicamente requieren que la likelihood esté guardada en un archivo, de manera que puede ser importada por el código.\n",
    "Para ilustrar esto, aún con Cobaya..."
   ]
  },
  {
   "cell_type": "code",
   "execution_count": null,
   "id": "37103006",
   "metadata": {
    "slideshow": {
     "slide_type": "skip"
    }
   },
   "outputs": [],
   "source": [
    "!rm -rf _tests"
   ]
  },
  {
   "cell_type": "code",
   "execution_count": null,
   "id": "f653234f",
   "metadata": {
    "slideshow": {
     "slide_type": "skip"
    }
   },
   "outputs": [],
   "source": [
    "utils.mkdir('_tests')"
   ]
  },
  {
   "cell_type": "code",
   "execution_count": null,
   "id": "b2996945",
   "metadata": {
    "slideshow": {
     "slide_type": "fragment"
    }
   },
   "outputs": [],
   "source": [
    "%%file _tests/bao_likelihood.py\n",
    "\n",
    "dirname = '.'\n",
    "\n",
    "def BAOLikelihood(cosmo='external'):\n",
    "    import numpy as np\n",
    "    from desilike.observables.galaxy_clustering import BAOCompressionObservable\n",
    "    from desilike.likelihoods import ObservablesGaussianLikelihood\n",
    "    # cosmo = 'external' para decirle a desilike que la cosmología será porporcionada externamente\n",
    "    observable1 = BAOCompressionObservable(data=[1., 1.], quantities=['qpar', 'qper'], z=0.5, cosmo=cosmo)\n",
    "    observable2 = BAOCompressionObservable(data=[1.], quantities=['qiso'], z=1., cosmo=cosmo)\n",
    "    likelihood = ObservablesGaussianLikelihood([observable1, observable2],\n",
    "                                               covariance=np.diag([0.002, 0.002, 0.005]))\n",
    "    return likelihood\n",
    "\n",
    "if __name__ == '__main__':\n",
    "    from desilike.bindings import CobayaLikelihoodGenerator\n",
    "    # Pudimos haber proporcionado una lista de Likelihoods, las cuales serán escritas todas a la vez\n",
    "    CobayaLikelihoodGenerator(dirname=dirname)([BAOLikelihood], kw_like={'cosmo': 'external'})"
   ]
  },
  {
   "cell_type": "markdown",
   "id": "5c9c61a7",
   "metadata": {
    "slideshow": {
     "slide_type": "subslide"
    }
   },
   "source": [
    "Generemos los bindings estáticos llamando al script anterior de Python"
   ]
  },
  {
   "cell_type": "code",
   "execution_count": null,
   "id": "b437d771",
   "metadata": {
    "slideshow": {
     "slide_type": "fragment"
    }
   },
   "outputs": [],
   "source": [
    "%%bash\n",
    "cd _tests/\n",
    "python bao_likelihood.py"
   ]
  },
  {
   "cell_type": "markdown",
   "id": "868dbe08",
   "metadata": {
    "slideshow": {
     "slide_type": "subslide"
    }
   },
   "source": [
    "Echemos un vistazo a los archivos generados:\n",
    "- el módulo de Python que contiene la likelihood de Cobaya: ``bao_likelihood.py``\n",
    "- importado en el archivo ``__init__.py``\n",
    "- el archivo de configuración ``.yaml`` que contiene los parámetros nuisance (ninguno en este caso)"
   ]
  },
  {
   "cell_type": "code",
   "execution_count": null,
   "id": "22ec737e",
   "metadata": {
    "slideshow": {
     "slide_type": "fragment"
    }
   },
   "outputs": [],
   "source": [
    "!ls -la _tests/cobaya"
   ]
  },
  {
   "cell_type": "code",
   "execution_count": null,
   "id": "0907f95e",
   "metadata": {
    "slideshow": {
     "slide_type": "skip"
    }
   },
   "outputs": [],
   "source": [
    "!cat _tests/cobaya/BAOLikelihood.yaml"
   ]
  },
  {
   "cell_type": "code",
   "execution_count": null,
   "id": "6e910de5",
   "metadata": {
    "slideshow": {
     "slide_type": "fragment"
    }
   },
   "outputs": [],
   "source": [
    "# %load _tests/cobaya/bao_likelihood.py\n",
    "# NOTA: Este código ha sido automáticamente generado por desilike.bindings.cobaya.factory.CobayaLikelihoodGenerator\n",
    "from desilike.bindings.cobaya.factory import CobayaLikelihoodFactory\n",
    "from desilike.bindings.base import load_from_file\n",
    "import os\n",
    "current_directory = os.getcwd()\n",
    "\n",
    "BAOLikelihood = load_from_file(f'{current_directory}/_tests/bao_likelihood.py', 'BAOLikelihood')\n",
    "BAOLikelihood = CobayaLikelihoodFactory(BAOLikelihood, 'BAOLikelihood', {'cosmo': 'external'}, __name__)\n",
    "\n"
   ]
  },
  {
   "cell_type": "markdown",
   "id": "016ee10f",
   "metadata": {
    "slideshow": {
     "slide_type": "subslide"
    }
   },
   "source": [
    "Ahora escribamos el archivo de configuración para correr inferencia. Esto es Cobaya puro."
   ]
  },
  {
   "cell_type": "code",
   "execution_count": null,
   "id": "bdb09241",
   "metadata": {
    "slideshow": {
     "slide_type": "fragment"
    }
   },
   "outputs": [],
   "source": [
    "%%file _tests/config_bao.yaml\n",
    "\n",
    "theory:\n",
    "  classy:\n",
    "    extra_args:\n",
    "      N_ncdm: 1\n",
    "      N_ur: 2.0328\n",
    "\n",
    "likelihood:\n",
    "  bao_likelihood.BAOLikelihood:\n",
    "      python_path: _tests/cobaya\n",
    "\n",
    "params:\n",
    "  Omega_m:\n",
    "    prior:\n",
    "      min: 0.1\n",
    "      max: 1.\n",
    "    ref:\n",
    "      dist: norm\n",
    "      loc: 0.3\n",
    "      scale: 0.01\n",
    "    latex: \\Omega_{m}\n",
    "  omega_b: 0.02237\n",
    "  H0: 67.36\n",
    "  As: 2.083e-09\n",
    "  n_s: 0.9649\n",
    "  tau_reio: 0.0544\n",
    "\n",
    "sampler:\n",
    "  mcmc:\n",
    "    Rminus1_stop: 0.02\n",
    "\n",
    "debug: False\n",
    "\n",
    "output: _tests/chains_bao_cobaya/chain\n"
   ]
  },
  {
   "cell_type": "markdown",
   "id": "aeb33bd1",
   "metadata": {
    "slideshow": {
     "slide_type": "subslide"
    }
   },
   "source": [
    "A hacer sampling!"
   ]
  },
  {
   "cell_type": "code",
   "execution_count": null,
   "id": "85b2db7d",
   "metadata": {
    "slideshow": {
     "slide_type": "fragment"
    }
   },
   "outputs": [],
   "source": [
    "!cobaya-run _tests/config_bao.yaml"
   ]
  },
  {
   "cell_type": "code",
   "execution_count": null,
   "id": "d55a15f9",
   "metadata": {
    "slideshow": {
     "slide_type": "subslide"
    }
   },
   "outputs": [],
   "source": [
    "# Para cargar samples de Cobaya desde el disco\n",
    "from getdist.mcsamples import loadMCSamples\n",
    "samples_bao_cobaya = loadMCSamples('_tests/chains_bao_cobaya/chain', settings={'ignore_rows': 0.5}).copy(label='cobaya')\n",
    "\n",
    "g = plots.get_subplot_plotter()\n",
    "g.triangle_plot([samples_bao_cobaya, samples_bao_desilike],\n",
    "                 params=['Omega_m'], markers={'Omega_m': cosmo['Omega_m']})"
   ]
  },
  {
   "cell_type": "markdown",
   "id": "a9d91d22",
   "metadata": {
    "slideshow": {
     "slide_type": "subslide"
    }
   },
   "source": [
    "### CosmoSIS\n",
    "Apliquemos los bindings estáticos a CosmoSIS.\n",
    "La definición de BAOLikelihood es exactamente la misma, sólo necesitamos generar nuevos archivos con una simple llamada a CosmoSISLikelihoodGenerator."
   ]
  },
  {
   "cell_type": "code",
   "execution_count": null,
   "id": "2adfb0ae",
   "metadata": {
    "scrolled": true,
    "slideshow": {
     "slide_type": "fragment"
    }
   },
   "outputs": [],
   "source": [
    "%%file _tests/bao_likelihood.py\n",
    "\n",
    "dirname = '.'\n",
    "\n",
    "# Igual que con Cobaya!\n",
    "def BAOLikelihood(cosmo='external'):\n",
    "    import numpy as np\n",
    "    from desilike.observables.galaxy_clustering import BAOCompressionObservable\n",
    "    from desilike.likelihoods import ObservablesGaussianLikelihood\n",
    "    # cosmo = 'external' para decirle a desilike que la cosmología será porporcionada externamente\n",
    "    observable1 = BAOCompressionObservable(data=[1., 1.], quantities=['qpar', 'qper'], z=0.5, cosmo=cosmo)\n",
    "    observable2 = BAOCompressionObservable(data=[1.], quantities=['qiso'], z=1., cosmo=cosmo)\n",
    "    likelihood = ObservablesGaussianLikelihood([observable1, observable2],\n",
    "                                               covariance=np.diag([0.002, 0.002, 0.005]))\n",
    "    return likelihood\n",
    "\n",
    "if __name__ == '__main__':\n",
    "    from desilike.bindings import CobayaLikelihoodGenerator, CosmoSISLikelihoodGenerator, MontePythonLikelihoodGenerator\n",
    "    CobayaLikelihoodGenerator(dirname=dirname)([BAOLikelihood], kw_like={'cosmo': 'external'})\n",
    "    # El único cambio!\n",
    "    CosmoSISLikelihoodGenerator(dirname=dirname)([BAOLikelihood], kw_like={'cosmo': 'external'})\n",
    "    # Generemos directamente los bindings para MontePython\n",
    "    MontePythonLikelihoodGenerator(dirname=dirname)([BAOLikelihood], kw_like={'cosmo': 'external'})"
   ]
  },
  {
   "cell_type": "markdown",
   "id": "90540dd8",
   "metadata": {
    "slideshow": {
     "slide_type": "subslide"
    }
   },
   "source": [
    "Generemos los bindings estáticos llamando al script anterior de Python"
   ]
  },
  {
   "cell_type": "code",
   "execution_count": null,
   "id": "25964490",
   "metadata": {
    "slideshow": {
     "slide_type": "fragment"
    }
   },
   "outputs": [],
   "source": [
    "%%bash\n",
    "cd _tests\n",
    "python bao_likelihood.py"
   ]
  },
  {
   "cell_type": "markdown",
   "id": "eb31c98a",
   "metadata": {
    "slideshow": {
     "slide_type": "subslide"
    }
   },
   "source": [
    "Echemos un vistazo a los archivos generados:\n",
    "- El módulo de Python que contiene la likelihood de Cobaya: ``BAOLikelihood.py``\n",
    "- El archivo ``*values.ini`` que contiene los valores / rangos de los parámetros nuisance (ninguno en este caso), a ser copiado-pegado en el archivo input ``*values.ini`` (ver más adelante)\n",
    "- El archivo ``*priors.ini`` que contiene las priors opcionales de los parámetros nuisance, a ser copiado-pegado en el archivo input ``*priors.ini``"
   ]
  },
  {
   "cell_type": "code",
   "execution_count": null,
   "id": "c8096324",
   "metadata": {
    "slideshow": {
     "slide_type": "fragment"
    }
   },
   "outputs": [],
   "source": [
    "ls -la _tests/cosmosis"
   ]
  },
  {
   "cell_type": "markdown",
   "id": "52f5b10b",
   "metadata": {
    "slideshow": {
     "slide_type": "subslide"
    }
   },
   "source": [
    "Ahora escribamos el archivo de configuración para correr inferencia. Esto es CosmoSIS puro."
   ]
  },
  {
   "cell_type": "code",
   "execution_count": null,
   "id": "506f438f",
   "metadata": {
    "slideshow": {
     "slide_type": "fragment"
    }
   },
   "outputs": [],
   "source": [
    "%%file _tests/config_bao.ini\n",
    "\n",
    "[DEFAULT]\n",
    "fatal_errors = T\n",
    "\n",
    "[runtime]\n",
    "sampler = emcee\n",
    "\n",
    "[output]\n",
    "filename = _tests/chains_bao_cosmosis/chain.txt\n",
    "format = text\n",
    "verbosity = 0\n",
    "\n",
    "[pipeline]\n",
    "modules = consistency camb bao\n",
    "values = _tests/values_bao.ini\n",
    "likelihoods = BAOLikelihood  ; Nótese el nombre de la likelihood: el mismo que el archivo *.py\n",
    "quiet = T\n",
    "debug = F\n",
    "timing = F\n",
    "\n",
    "[consistency]\n",
    "file = ${COSMOSIS_STD_DIR}/utility/consistency/consistency_interface.py\n",
    "\n",
    "[camb]\n",
    "file = ${COSMOSIS_STD_DIR}/boltzmann/camb/camb_interface.py\n",
    "mode = background\n",
    "feedback = 0\n",
    "nz = 901\n",
    "\n",
    "[bao]\n",
    "file = _tests/cosmosis/BAOLikelihood.py\n",
    "\n",
    "[emcee]\n",
    "walkers = 6\n",
    "samples = 600\n",
    "nsteps = 20"
   ]
  },
  {
   "cell_type": "markdown",
   "id": "6357ebd2",
   "metadata": {
    "slideshow": {
     "slide_type": "subslide"
    }
   },
   "source": [
    "El archivo ``*values.ini`` que contiene los valores y rangos de los parámetros"
   ]
  },
  {
   "cell_type": "code",
   "execution_count": null,
   "id": "e3e879f9",
   "metadata": {
    "slideshow": {
     "slide_type": "subslide"
    }
   },
   "outputs": [],
   "source": [
    "%%file _tests/values_bao.ini\n",
    "\n",
    "[cosmological_parameters]\n",
    "\n",
    "; Este es el único parámetro siendo variado.\n",
    "omega_m = 0.1 0.3 0.9\n",
    "ombh2 = 0.02237\n",
    "h0 = 0.6736\n",
    "A_s = 2.083e-09\n",
    "n_s = 0.9649\n",
    "tau = 0.0544\n",
    "\n",
    "mnu = 0.06\n",
    "nnu = 3.046\n",
    "num_massive_neutrinos = 1\n",
    "omega_k = 0.0\n",
    "w = -1.0\n",
    "wa = 0.0"
   ]
  },
  {
   "cell_type": "markdown",
   "id": "921a022c",
   "metadata": {
    "slideshow": {
     "slide_type": "subslide"
    }
   },
   "source": [
    "Hagamos el sampleo!"
   ]
  },
  {
   "cell_type": "code",
   "execution_count": null,
   "id": "be20671b",
   "metadata": {
    "slideshow": {
     "slide_type": "fragment"
    }
   },
   "outputs": [],
   "source": [
    "!cosmosis _tests/config_bao.ini"
   ]
  },
  {
   "cell_type": "code",
   "execution_count": null,
   "id": "2ac437bd",
   "metadata": {
    "slideshow": {
     "slide_type": "subslide"
    }
   },
   "outputs": [],
   "source": [
    "# Para cargar samples de CosmoSIS desde el disco\n",
    "from cosmosis import Inifile\n",
    "from cosmosis.output import input_from_options\n",
    "from getdist import MCSamples\n",
    "\n",
    "ini = Inifile('_tests/config_bao.ini')\n",
    "options = dict(ini.items('output'))\n",
    "options['filename'] = '_tests/chains_bao_cosmosis/chain.txt'\n",
    "column_names, data = input_from_options(options)[:2]\n",
    "#print(column_names)\n",
    "data = data[0].T\n",
    "data = data[..., data.shape[-1] // 2:]  # removiendo el burnin\n",
    "samples_bao_cosmosis = MCSamples(samples=[data[0]], weights=None, loglikes=-data[-1],\n",
    "                                 names=['Omega_m'], label='cosmosis')\n",
    "\n",
    "g = plots.get_subplot_plotter()\n",
    "g.triangle_plot([samples_bao_cobaya, samples_bao_desilike, samples_bao_cosmosis],\n",
    "                 params=['Omega_m'], markers={'Omega_m': cosmo['Omega_m']})"
   ]
  },
  {
   "cell_type": "markdown",
   "id": "4b18cb4d",
   "metadata": {
    "slideshow": {
     "slide_type": "subslide"
    }
   },
   "source": [
    "### MontePython\n",
    "\n",
    "MontePython no es un paquete de Python, así que no está instalado en el ambiente de cosmodesi.\n",
    "\n",
    "Instalémoslo localmente! (Puede tomar algo de tiempo en descargar, debido al tamaño de los sets de datos)."
   ]
  },
  {
   "cell_type": "code",
   "execution_count": null,
   "id": "ae041cdc",
   "metadata": {
    "slideshow": {
     "slide_type": "fragment"
    }
   },
   "outputs": [],
   "source": [
    "%%bash\n",
    "cd _tests/\n",
    "git clone https://github.com/brinckmann/montepython_public.git"
   ]
  },
  {
   "cell_type": "markdown",
   "id": "00e966a7",
   "metadata": {
    "slideshow": {
     "slide_type": "fragment"
    }
   },
   "source": [
    "Escribimos el archivo ``.conf`` que especifica el path al código de Boltzman 'Class' y a las likelihoods de Planck."
   ]
  },
  {
   "cell_type": "code",
   "execution_count": null,
   "id": "a394a51f",
   "metadata": {
    "slideshow": {
     "slide_type": "fragment"
    }
   },
   "outputs": [],
   "source": [
    "%%file _tests/montepython_public/default.conf\n",
    "\n",
    "import os\n",
    "path['cosmo'] = os.getenv('CLASS_STD_DIR')\n",
    "path['clik'] = os.path.join(os.getenv('PLANCK_SRC_DIR'), 'code', 'plc_3.0', 'plc-3.1')"
   ]
  },
  {
   "cell_type": "markdown",
   "id": "8a557e17",
   "metadata": {
    "slideshow": {
     "slide_type": "subslide"
    }
   },
   "source": [
    "Echemos un vistazo a los archivos previamente generados por los bindings estáticos:\n",
    "\n",
    "- El paquete: ``BAOLikelihood``\n",
    "- Con un archivo (obligatorio) ``*.data`` que especifica el nombre de la likelihood y los priors de los parámetros nuisance\n",
    "- Junto al archivo ``*.param`` especificando rangos de parámetros, a ser copiado-pegado en el archivo input ``.param`` (ver más adelante)\n",
    "- Con el arvhivo ``__init__.py`` que contiene la definición de la likelihood\n",
    "\n",
    "Como MontePython lo requiere, copiamos todo esto a la carpeta ``montepython/likelihoods``."
   ]
  },
  {
   "cell_type": "code",
   "execution_count": null,
   "id": "6b49681d",
   "metadata": {
    "slideshow": {
     "slide_type": "fragment"
    }
   },
   "outputs": [],
   "source": [
    "!ls -la _tests/montepython/BAOLikelihood\n",
    "!cp -r _tests/montepython/BAOLikelihood _tests/montepython_public/montepython/likelihoods/"
   ]
  },
  {
   "cell_type": "markdown",
   "id": "f737d52b",
   "metadata": {
    "slideshow": {
     "slide_type": "subslide"
    }
   },
   "source": [
    "Ahora escribamos el archivo de configuración para correr inferencia. Esto es MontePython puro."
   ]
  },
  {
   "cell_type": "code",
   "execution_count": null,
   "id": "3d0a8abe",
   "metadata": {
    "slideshow": {
     "slide_type": "fragment"
    }
   },
   "outputs": [],
   "source": [
    "%%file _tests/conf_bao.param\n",
    "\n",
    "data.experiments = ['BAOLikelihood']\n",
    "\n",
    "#------ Lista de parámetros-------\n",
    "# data.parameters[nombre] = [media, min, max, 1-sigma, escala, rol]\n",
    "\n",
    "# Lista de parámetros cosmológicos\n",
    "data.parameters['Omega_m'] = [0.3, 0.1, 0.9, 0.1, 1., 'cosmo']\n",
    "# Parámetros fijos\n",
    "data.parameters['omega_b'] = [0.02237, 0.001, 0.1, 0., 1., 'cosmo']\n",
    "data.parameters['H0'] = [67.36, 0.1, 0.9, 0., 1., 'cosmo']\n",
    "data.parameters['A_s'] = [2.083e-09, 1e-09, 3e-09, 0., 1., 'cosmo']\n",
    "data.parameters['n_s'] = [0.9649, 0.9, 1.0, 0., 1., 'cosmo']\n",
    "data.parameters['tau_reio'] = [0.0544, 0.02, 0.1, 0., 1., 'cosmo']\n",
    "\n",
    "# Argumentos cosmo\n",
    "data.cosmo_arguments['k_pivot'] = 0.05\n",
    "data.cosmo_arguments['N_ur'] = 2.0328\n",
    "data.cosmo_arguments['N_ncdm'] = 1\n",
    "data.cosmo_arguments['m_ncdm'] = 0.06\n",
    "data.cosmo_arguments['T_ncdm'] = 0.71611\n",
    "\n",
    "#------ Parámetros MCMC ----\n",
    "data.N = 3000\n",
    "data.write_step = 5"
   ]
  },
  {
   "cell_type": "markdown",
   "id": "87d76749",
   "metadata": {
    "slideshow": {
     "slide_type": "subslide"
    }
   },
   "source": [
    "Hagamos el sampleo!"
   ]
  },
  {
   "cell_type": "code",
   "execution_count": null,
   "id": "21727ca7",
   "metadata": {
    "slideshow": {
     "slide_type": "fragment"
    }
   },
   "outputs": [],
   "source": [
    "!python _tests/montepython_public/montepython/MontePython.py run --conf _tests/montepython_public/default.conf -p _tests/conf_bao.param -o _tests/chains_bao_montepython"
   ]
  },
  {
   "cell_type": "code",
   "execution_count": null,
   "id": "bc00cdde",
   "metadata": {
    "slideshow": {
     "slide_type": "subslide"
    }
   },
   "outputs": [],
   "source": [
    "# Para cargar samples de MontePython desde el disco\n",
    "from datetime import date\n",
    "from getdist.mcsamples import loadMCSamples\n",
    "samples_bao_montepython = loadMCSamples('_tests/chains_bao_montepython/{}_3000_'.format(date.today()),\n",
    "                                    settings={'ignore_rows': 0.5}).copy(label='montepython')\n",
    "\n",
    "g = plots.get_subplot_plotter()\n",
    "g.triangle_plot([samples_bao_cobaya, samples_bao_desilike, samples_bao_cosmosis, samples_bao_montepython],\n",
    "                 params=['Omega_m'], markers={'Omega_m': cosmo['Omega_m']})"
   ]
  },
  {
   "cell_type": "markdown",
   "id": "c125294e",
   "metadata": {
    "slideshow": {
     "slide_type": "subslide"
    }
   },
   "source": [
    "## Interludio: forecasts\n",
    "Hasta ahora hemos usado como input matrices de covarianza completamente ad-hoc.\n",
    "A pesar de esto, es posible utilizar desilike para producir forecasts."
   ]
  },
  {
   "cell_type": "code",
   "execution_count": null,
   "id": "8e71638f",
   "metadata": {
    "slideshow": {
     "slide_type": "subslide"
    }
   },
   "outputs": [],
   "source": [
    "from desilike.observables.galaxy_clustering import CutskyFootprint\n",
    "from desilike.theories.galaxy_clustering import BAOPowerSpectrumTemplate, SimpleBAOWigglesTracerPowerSpectrumMultipoles\n",
    "from desilike.likelihoods.galaxy_clustering import SNWeightedPowerSpectrumLikelihood\n",
    "from desilike import Fisher\n",
    "\n",
    "cosmo = DESI()\n",
    "\n",
    "# Objeto que contiene el área y n(z) en unidades de (Mpc/h)^(-3)\n",
    "footprint = CutskyFootprint(area=14000., zrange=np.linspace(0.8, 1.2, 10), nbar=np.full(10, 1e-4), cosmo=cosmo)\n",
    "z = footprint.zavg\n",
    "\n",
    "fo = cosmo.get_fourier()\n",
    "s, s0 = fo.sigma8_z(z, of='delta_cb'), fo.sigma8_z(0., of='delta_cb')\n",
    "b1 = 0.8 / (s / s0)  # Prescripción para el bias lineal\n",
    "r = 0.5  # Factor de reconstrucción\n",
    "sigmaper = 9.4 * (s / 0.9)\n",
    "f = fo.sigma8_z(z, of='theta_cb') / s\n",
    "params = {'b1': b1, 'sigmapar': r * (1. + f) * sigmaper, 'sigmaper': r * sigmaper}  # Parámetros del modelo fiducial\n",
    "covariance_params = {'b1': b1, 'sigmapar': 0., 'sigmaper': 0.}  # Parámetros de la covarianza fiducial (modelo Kaiser simple)\n",
    "template = BAOPowerSpectrumTemplate(z=z, fiducial='DESI', apmode='qparqper')\n",
    "theory = SimpleBAOWigglesTracerPowerSpectrumMultipoles(template=template) # Este modelo de BAO sólo traslada los wiggles\n",
    "for param in theory.init.params.select(basename='al*'):\n",
    "    param.update(value=0., fixed=True)  # Fijamos los parámetros broadband (sólo los wiggles se trasladan)\n",
    "\n",
    "# Para klim=(0.01, 0.5), solo usamos la información del pico de BAO en el espectro de potencias\n",
    "likelihood = SNWeightedPowerSpectrumLikelihood(theories=theory, data=params, covariance=covariance_params,\n",
    "                                               footprints=footprint, klim=(0.01, 0.5))\n",
    "fisher = Fisher(likelihood)  # Inicializamos Fisher\n",
    "fisher_bao = fisher(**params).view(params=['qpar', 'qper'])  # Calculamos la predicción Fisher con los parámetros fiduciales"
   ]
  },
  {
   "cell_type": "code",
   "execution_count": null,
   "id": "fd70de4d",
   "metadata": {
    "slideshow": {
     "slide_type": "subslide"
    }
   },
   "outputs": [],
   "source": [
    "print(fisher_bao.to_stats(tablefmt='pretty'))"
   ]
  },
  {
   "cell_type": "code",
   "execution_count": null,
   "id": "f9d3f2b8",
   "metadata": {
    "slideshow": {
     "slide_type": "fragment"
    }
   },
   "outputs": [],
   "source": [
    "quantities = ['qpar', 'qper']\n",
    "# Se puede pasar directamente Fisher a BAOCompressionObservable\n",
    "observable = BAOCompressionObservable(data=fisher_bao, covariance=fisher_bao,\n",
    "                                      quantities=quantities, z=z)\n",
    "# O...\n",
    "observable = BAOCompressionObservable(data=fisher_bao.mean(quantities),\n",
    "                                      covariance=fisher_bao.covariance(quantities),\n",
    "                                      quantities=quantities, z=z)"
   ]
  },
  {
   "cell_type": "markdown",
   "id": "6fdacc24",
   "metadata": {
    "slideshow": {
     "slide_type": "fragment"
    }
   },
   "source": [
    "Este observable puede ser pasado a una likelihood, justo como previamente, para realizar inferencia cosmológica."
   ]
  },
  {
   "cell_type": "markdown",
   "id": "d2d4106b",
   "metadata": {
    "slideshow": {
     "slide_type": "subslide"
    }
   },
   "source": [
    "## Likelihood de ShapeFit\n",
    "Las likelihoods comprimidas de ShapeFit son similares a las likelihoods comprimidas de BAO."
   ]
  },
  {
   "cell_type": "code",
   "execution_count": null,
   "id": "4714d7c6",
   "metadata": {
    "slideshow": {
     "slide_type": "fragment"
    }
   },
   "outputs": [],
   "source": [
    "from desilike.observables.galaxy_clustering import ShapeFitCompressionObservable\n",
    "\n",
    "observable = ShapeFitCompressionObservable(data=[1., 1., 1., 0.], covariance=np.diag([0.01, 0.01, 0.01, 0.01]),\n",
    "                                           quantities=['qpar', 'qper', 'df', 'dm'], z=1.)\n",
    "# Definamos la likelihood a partir de este observable\n",
    "likelihood = ObservablesGaussianLikelihood(observable)"
   ]
  },
  {
   "cell_type": "markdown",
   "id": "4c266012",
   "metadata": {
    "slideshow": {
     "slide_type": "fragment"
    }
   },
   "source": [
    "Este observable puede ser pasado a una likelihood, justo como previamente, para realizar inferencia cosmológica."
   ]
  },
  {
   "cell_type": "markdown",
   "id": "dc4a4da4",
   "metadata": {
    "slideshow": {
     "slide_type": "slide"
    }
   },
   "source": [
    "# Likelihoods completas\n",
    "\n",
    "Escribamos likelihoods completas, con parámetros nuisance (bias, estocásticos y contratérminos que no han sido marginalizados)."
   ]
  },
  {
   "cell_type": "code",
   "execution_count": null,
   "id": "bfb8373b",
   "metadata": {
    "slideshow": {
     "slide_type": "subslide"
    }
   },
   "outputs": [],
   "source": [
    "%%file _tests/fs_likelihood.py\n",
    "dirname = '_tests'\n",
    "\n",
    "def FSLikelihood(cosmo='external'):\n",
    "    from desilike.theories.galaxy_clustering import DirectPowerSpectrumTemplate, KaiserTracerPowerSpectrumMultipoles, LPTVelocileptorsTracerPowerSpectrumMultipoles\n",
    "    from desilike.observables.galaxy_clustering import BoxFootprint, ObservablesCovarianceMatrix, TracerPowerSpectrumMultipolesObservable\n",
    "    from desilike.likelihoods import ObservablesGaussianLikelihood\n",
    "    # Definamos el template = espectro de potencias lineal\n",
    "    template = DirectPowerSpectrumTemplate(z=1.)\n",
    "    # Con el propósito de ahorrar tiempo computacional,\n",
    "    # consideremos un modelo lineal Kaiser simple\n",
    "    theory = KaiserTracerPowerSpectrumMultipoles(template=template)\n",
    "    b1 = 0.5\n",
    "    footprint = BoxFootprint(volume=5e9, nbar=1e-4)  # caja con volumen de 5 (Gpc/h)^3 y densidad de 1e-4 (h/Mpc)^3\n",
    "    observable = TracerPowerSpectrumMultipolesObservable(\\\n",
    "                 data={'b1': b1},  # path de los datos, archivo *pypower*, arreglo, o diccionario de parámetros\n",
    "                 covariance=None,  # path de los mocks, arreglo (matriz de covarianzas), o None\n",
    "                 klim={0: [0.01, 0.2, 0.01], 2: [0.01, 0.2, 0.01]},  # k-limits, entre 0.01 y 0.2 h/Mpc con pasos de 0.005 h/Mpc\n",
    "                 theory=theory)  # teoría definida previamente\n",
    "    covariance = ObservablesCovarianceMatrix(observables=[observable], footprints=[footprint])\n",
    "    cov = covariance(b1=b1)  # evaluar matriz de covarianzas en este parámetro\n",
    "    likelihood = ObservablesGaussianLikelihood(observables=observable, covariance=cov)\n",
    "    observable.init.update(data=observable.flatdata)  # fijar el data vector\n",
    "    template.init.update(cosmo=cosmo)  # pasemos la cosmología\n",
    "    return likelihood\n",
    "\n",
    "if __name__ == '__main__':\n",
    "    from desilike.bindings import CobayaLikelihoodGenerator, CosmoSISLikelihoodGenerator, MontePythonLikelihoodGenerator\n",
    "    CobayaLikelihoodGenerator(dirname=dirname)([FSLikelihood], kw_like={'cosmo': 'external'})\n",
    "    CosmoSISLikelihoodGenerator(dirname=dirname)([FSLikelihood], kw_like={'cosmo': 'external'})\n",
    "    MontePythonLikelihoodGenerator(dirname=dirname)([FSLikelihood], kw_like={'cosmo': 'external'})"
   ]
  },
  {
   "cell_type": "markdown",
   "id": "2b7fd946",
   "metadata": {
    "slideshow": {
     "slide_type": "subslide"
    }
   },
   "source": [
    "Generemos los bindings estáticos llamando al script anterior en Python"
   ]
  },
  {
   "cell_type": "code",
   "execution_count": null,
   "id": "844ff6c3",
   "metadata": {},
   "outputs": [],
   "source": [
    "!python _tests/fs_likelihood.py"
   ]
  },
  {
   "cell_type": "code",
   "execution_count": null,
   "id": "91f73a4d",
   "metadata": {
    "slideshow": {
     "slide_type": "subslide"
    }
   },
   "outputs": [],
   "source": [
    "!ls -la _tests/cobaya"
   ]
  },
  {
   "cell_type": "code",
   "execution_count": null,
   "id": "137898b1",
   "metadata": {
    "slideshow": {
     "slide_type": "subslide"
    }
   },
   "outputs": [],
   "source": [
    "!ls -la _tests/cosmosis"
   ]
  },
  {
   "cell_type": "code",
   "execution_count": null,
   "id": "dfe66ead",
   "metadata": {
    "slideshow": {
     "slide_type": "subslide"
    }
   },
   "outputs": [],
   "source": [
    "!ls -la _tests/montepython"
   ]
  },
  {
   "cell_type": "markdown",
   "id": "2291b9e7",
   "metadata": {
    "slideshow": {
     "slide_type": "subslide"
    }
   },
   "source": [
    "Y a pesar de todo, la likelihood anterior tomará un tiempo apreciable en evaluarse, especialmente para un modelo EFT con 1-loop.\n",
    "Emulemos la teoría."
   ]
  },
  {
   "cell_type": "code",
   "execution_count": null,
   "id": "11bcdf60",
   "metadata": {
    "slideshow": {
     "slide_type": "skip"
    }
   },
   "outputs": [],
   "source": [
    "# %load _tests/fs_likelihood.py\n",
    "dirname = '_tests'\n",
    "\n",
    "def FSLikelihood(cosmo='external'):\n",
    "    from desilike.theories.galaxy_clustering import DirectPowerSpectrumTemplate, KaiserTracerPowerSpectrumMultipoles, LPTVelocileptorsTracerPowerSpectrumMultipoles\n",
    "    from desilike.observables.galaxy_clustering import BoxFootprint, ObservablesCovarianceMatrix, TracerPowerSpectrumMultipolesObservable\n",
    "    from desilike.likelihoods import ObservablesGaussianLikelihood\n",
    "    # Definamos el template = espectro de potencias lineal\n",
    "    template = DirectPowerSpectrumTemplate(z=1.)\n",
    "    # Con el propósito de ahorrar tiempo computacional,\n",
    "    # consideremos un modelo lineal Kaiser simple\n",
    "    theory = KaiserTracerPowerSpectrumMultipoles(template=template)\n",
    "    b1 = 1.5\n",
    "    footprint = BoxFootprint(volume=5e9, nbar=1e-4)  # caja con un volumen de 5 (Gpc/h)^3 y densidad de 1e-4 (h/Mpc)^3\n",
    "    observable = TracerPowerSpectrumMultipolesObservable(\\\n",
    "                 data={'b1': b1},  # path de los datos, archivo *pypower*, arreglo, o diccionario de parámetros\n",
    "                 covariance=None,  # path de los mocks, arreglo (matriz de covarianzas), o None\n",
    "                 klim={0: [0.01, 0.2, 0.01], 2: [0.01, 0.2, 0.01]},  # k-limits, entre 0.01 y 0.2 h/Mpc con pasos de 0.005 h/Mpc\n",
    "                 theory=theory)  # teoría definida previamente\n",
    "    covariance = ObservablesCovarianceMatrix(observables=[observable], footprints=[footprint])\n",
    "    cov = covariance(b1=b1)  # evaluar matriz de covarianzas en este parámetro\n",
    "    likelihood = ObservablesGaussianLikelihood(observables=observable, covariance=cov)\n",
    "    observable.init.update(data=observable.flatdata)  # fijar el data vector\n",
    "    template.init.update(cosmo=cosmo)  # pasemos la cosmología\n",
    "    return likelihood"
   ]
  },
  {
   "cell_type": "code",
   "execution_count": null,
   "id": "21404757",
   "metadata": {
    "slideshow": {
     "slide_type": "fragment"
    }
   },
   "outputs": [],
   "source": [
    "likelihood = FSLikelihood(cosmo=None)\n",
    "theory = likelihood.observables[0].wmatrix.theory\n",
    "\n",
    "from desilike.emulators import Emulator, TaylorEmulatorEngine, EmulatedCalculator\n",
    "\n",
    "emulator = Emulator(theory.pt,\n",
    "                    engine=TaylorEmulatorEngine(order={'*': 1}))\n",
    "emulator.set_samples()\n",
    "emulator.fit()  # definir expansión de Taylor\n",
    "\n",
    "# El emulador se puede guardar con:\n",
    "emulator.save('_tests/emulator.npy')\n",
    "np.save('_tests/data.npy', likelihood.flatdata)\n",
    "np.save('_tests/covariance.npy', likelihood.covariance)\n",
    "\n",
    "theory.init.update(pt=emulator)"
   ]
  },
  {
   "cell_type": "markdown",
   "id": "643237c4",
   "metadata": {
    "slideshow": {
     "slide_type": "subslide"
    }
   },
   "source": [
    "Ahora podemos escribir nuestra likelihood, usando teoría de perturbación emulada!"
   ]
  },
  {
   "cell_type": "code",
   "execution_count": null,
   "id": "775696c8",
   "metadata": {
    "slideshow": {
     "slide_type": "fragment"
    }
   },
   "outputs": [],
   "source": [
    "%%file _tests/fs_likelihood.py\n",
    "dirname = '_tests'\n",
    "\n",
    "def FSLikelihood():\n",
    "    import os\n",
    "    import numpy as np\n",
    "    from desilike.theories.galaxy_clustering import DirectPowerSpectrumTemplate, KaiserTracerPowerSpectrumMultipoles\n",
    "    from desilike.observables.galaxy_clustering import TracerPowerSpectrumMultipolesObservable\n",
    "    from desilike.likelihoods import ObservablesGaussianLikelihood\n",
    "    from desilike.emulators import EmulatedCalculator\n",
    "    # Definamos el template\n",
    "    template = DirectPowerSpectrumTemplate(z=1.)\n",
    "    # Con el propósito de ahorrar tiempo computacional,\n",
    "    # consideremos un modelo lineal Kaiser simple\n",
    "    theory = KaiserTracerPowerSpectrumMultipoles(template=template,\n",
    "                                                 pt=EmulatedCalculator.load(os.path.join(dirname, 'emulator.npy')))\n",
    "    observable = TracerPowerSpectrumMultipolesObservable(\\\n",
    "                 data={'b1': b1},  # path de los datos, archivo *pypower*, arreglo, o diccionario de parámetros\n",
    "                 klim={0: [0.01, 0.2, 0.01], 2: [0.01, 0.2, 0.01]},  # k-limits, entre 0.01 y 0.2 h/Mpc con pasos de 0.005 h/Mpc\n",
    "                 theory=theory,\n",
    "                 covariance=np.load(os.path.join(dirname, 'covariance.npy')))\n",
    "    likelihood = ObservablesGaussianLikelihood(observables=observable)\n",
    "    likelihood.all_params['b1'].update(ref=dict(limits=[1., 2.]))\n",
    "    likelihood.all_params['sn0'].update(derived='.auto')\n",
    "    return likelihood\n",
    "\n",
    "if __name__ == '__main__':\n",
    "    from desilike.bindings import CobayaLikelihoodGenerator, CosmoSISLikelihoodGenerator, MontePythonLikelihoodGenerator\n",
    "    CobayaLikelihoodGenerator(dirname=dirname)(FSLikelihood, kw_like={})\n",
    "    CosmoSISLikelihoodGenerator(dirname=dirname)(FSLikelihood, kw_like={})\n",
    "    MontePythonLikelihoodGenerator(dirname=dirname)(FSLikelihood, kw_like={})"
   ]
  },
  {
   "cell_type": "markdown",
   "id": "33c12e47",
   "metadata": {
    "slideshow": {
     "slide_type": "subslide"
    }
   },
   "source": [
    "Generemos los bindings estáticos llamando al script anterior en Python"
   ]
  },
  {
   "cell_type": "code",
   "execution_count": null,
   "id": "eb6dd908",
   "metadata": {
    "slideshow": {
     "slide_type": "fragment"
    }
   },
   "outputs": [],
   "source": [
    "!python _tests/fs_likelihood.py"
   ]
  },
  {
   "cell_type": "markdown",
   "id": "4e273b15",
   "metadata": {
    "slideshow": {
     "slide_type": "subslide"
    }
   },
   "source": [
    "### Cobaya"
   ]
  },
  {
   "cell_type": "code",
   "execution_count": null,
   "id": "4c9b6896",
   "metadata": {
    "slideshow": {
     "slide_type": "fragment"
    }
   },
   "outputs": [],
   "source": [
    "%%file _tests/config_bao_fs.yaml\n",
    "\n",
    "theory:\n",
    "  classy:\n",
    "    extra_args:\n",
    "      N_ncdm: 1\n",
    "      N_ur: 2.0328\n",
    "\n",
    "likelihood:\n",
    "  bao_likelihood.BAOLikelihood:\n",
    "      python_path: _tests/cobaya\n",
    "  fs_likelihood.FSLikelihood:\n",
    "      python_path: _tests/cobaya\n",
    "\n",
    "params:\n",
    "  Omega_m:\n",
    "    prior:\n",
    "      min: 0.1\n",
    "      max: 1.\n",
    "    ref:\n",
    "      dist: norm\n",
    "      loc: 0.3\n",
    "      scale: 0.01\n",
    "    latex: \\Omega_{m}\n",
    "  omega_b: 0.02237\n",
    "  H0: 67.36\n",
    "  As: 2.083e-09\n",
    "  n_s: 0.9649\n",
    "  tau_reio: 0.0544\n",
    "\n",
    "sampler:\n",
    "  mcmc:\n",
    "    Rminus1_stop: 0.05\n",
    "\n",
    "debug: False\n",
    "\n",
    "output: _tests/chains_bao_fs_cobaya/chain"
   ]
  },
  {
   "cell_type": "markdown",
   "id": "1634bc31",
   "metadata": {
    "slideshow": {
     "slide_type": "subslide"
    }
   },
   "source": [
    "Let's sample!"
   ]
  },
  {
   "cell_type": "code",
   "execution_count": null,
   "id": "8bfd1edb",
   "metadata": {
    "slideshow": {
     "slide_type": "fragment"
    }
   },
   "outputs": [],
   "source": [
    "!cobaya-run _tests/config_bao_fs.yaml"
   ]
  },
  {
   "cell_type": "code",
   "execution_count": null,
   "id": "6b6ec5b7",
   "metadata": {
    "slideshow": {
     "slide_type": "skip"
    }
   },
   "outputs": [],
   "source": [
    "from getdist.mcsamples import loadMCSamples\n",
    "samples_bao_fs_cobaya = loadMCSamples('_tests/chains_bao_fs_cobaya/chain',\n",
    "                                      settings={'ignore_rows': 0.5}).copy(label='cobaya')"
   ]
  },
  {
   "cell_type": "markdown",
   "id": "109b3398",
   "metadata": {
    "slideshow": {
     "slide_type": "subslide"
    }
   },
   "source": [
    "### CosmoSIS"
   ]
  },
  {
   "cell_type": "code",
   "execution_count": null,
   "id": "89b6bc98",
   "metadata": {
    "slideshow": {
     "slide_type": "fragment"
    }
   },
   "outputs": [],
   "source": [
    "%%file _tests/config_bao_fs.ini\n",
    "\n",
    "[DEFAULT]\n",
    "fatal_errors = T\n",
    "\n",
    "[runtime]\n",
    "sampler = emcee\n",
    "\n",
    "[output]\n",
    "filename = _tests/chains_bao_fs_cosmosis/chain.txt\n",
    "format = text\n",
    "verbosity = 0\n",
    "\n",
    "[pipeline]\n",
    "modules = consistency camb bao fs\n",
    "values = _tests/values_bao_fs.ini\n",
    "likelihoods = BAOLikelihood FSLikelihood  ; nótese el nombre de la likelihood: el mismo que el archivo *.py\n",
    "quiet = T\n",
    "debug = F\n",
    "timing = F\n",
    "\n",
    "[consistency]\n",
    "file = ${COSMOSIS_STD_DIR}/utility/consistency/consistency_interface.py\n",
    "\n",
    "[camb]\n",
    "file = ${COSMOSIS_STD_DIR}/boltzmann/camb/camb_interface.py\n",
    "mode = background\n",
    "feedback = 0\n",
    "; Necesitamo espaciado bastante fino en el redshift, ya que estamos usando supernovae\n",
    "; bajamos a z bajo donde las cosas se ponen muy sensibles\n",
    "nz = 901\n",
    "\n",
    "[bao]\n",
    "file = _tests/cosmosis/BAOLikelihood.py\n",
    "\n",
    "[fs]\n",
    "file = _tests/cosmosis/FSLikelihood.py\n",
    "\n",
    "[emcee]\n",
    "walkers = 10\n",
    "samples = 800\n",
    "nsteps = 20"
   ]
  },
  {
   "cell_type": "markdown",
   "id": "351265d4",
   "metadata": {
    "slideshow": {
     "slide_type": "subslide"
    }
   },
   "source": [
    "En este caso la likelihood tiene parámetros nuisance, a ser copiados en el archivo input ``*values.ini``"
   ]
  },
  {
   "cell_type": "code",
   "execution_count": null,
   "id": "7b18049f",
   "metadata": {
    "slideshow": {
     "slide_type": "fragment"
    }
   },
   "outputs": [],
   "source": [
    "!cat _tests/cosmosis/FSLikelihood_values.ini"
   ]
  },
  {
   "cell_type": "code",
   "execution_count": null,
   "id": "24769520",
   "metadata": {
    "slideshow": {
     "slide_type": "fragment"
    }
   },
   "outputs": [],
   "source": [
    "%%file _tests/values_bao_fs.ini\n",
    "\n",
    "[desi]\n",
    "sigmapar = 0.0\n",
    "sigmaper = 0.0\n",
    "b1 = 0.0 1.5 4.0\n",
    "\n",
    "[cosmological_parameters]\n",
    "; Este es el único parámetro a ser variado.\n",
    "omega_m = 0.1 0.3 0.9\n",
    "ombh2 = 0.02237\n",
    "h0 = 0.6736\n",
    "A_s = 2.083e-09\n",
    "n_s = 0.9649\n",
    "tau = 0.0544\n",
    "\n",
    "mnu = 0.06\n",
    "nnu = 3.046\n",
    "num_massive_neutrinos = 1\n",
    "omega_k = 0.0\n",
    "w = -1.0\n",
    "wa = 0.0"
   ]
  },
  {
   "cell_type": "markdown",
   "id": "6fa5dbdd",
   "metadata": {
    "slideshow": {
     "slide_type": "subslide"
    }
   },
   "source": [
    "Hagamos el sampleo!"
   ]
  },
  {
   "cell_type": "code",
   "execution_count": null,
   "id": "423faa5b",
   "metadata": {
    "slideshow": {
     "slide_type": "fragment"
    }
   },
   "outputs": [],
   "source": [
    "!cosmosis _tests/config_bao_fs.ini"
   ]
  },
  {
   "cell_type": "code",
   "execution_count": null,
   "id": "0d0d80da",
   "metadata": {
    "slideshow": {
     "slide_type": "skip"
    }
   },
   "outputs": [],
   "source": [
    "# Para cargar samples de CosmoSIS\n",
    "from cosmosis import Inifile\n",
    "from cosmosis.output import input_from_options\n",
    "from getdist import MCSamples\n",
    "\n",
    "ini = Inifile('_tests/config_bao_fs.ini')\n",
    "options = dict(ini.items('output'))\n",
    "options['filename'] = '_tests/chains_bao_fs_cosmosis/chain.txt'\n",
    "column_names, data = input_from_options(options)[:2]\n",
    "#print(column_names)\n",
    "data = data[0].T\n",
    "data = data[:2, data.shape[-1] // 2::10]  # remover burning\n",
    "samples_bao_fs_cosmosis = MCSamples(samples=np.column_stack(data), weights=None, loglikes=-data[-1],\n",
    "                                    names=['b1', 'Omega_m'], label='cosmosis')"
   ]
  },
  {
   "cell_type": "markdown",
   "id": "8bf0548b",
   "metadata": {
    "slideshow": {
     "slide_type": "subslide"
    }
   },
   "source": [
    "### MontePython"
   ]
  },
  {
   "cell_type": "code",
   "execution_count": null,
   "id": "e707a600",
   "metadata": {
    "slideshow": {
     "slide_type": "fragment"
    }
   },
   "outputs": [],
   "source": [
    "!ls -la _tests/montepython/FSLikelihood\n",
    "!cp -r _tests/montepython/FSLikelihood _tests/montepython_public/montepython/likelihoods/"
   ]
  },
  {
   "cell_type": "markdown",
   "id": "27d91fe6",
   "metadata": {
    "slideshow": {
     "slide_type": "subslide"
    }
   },
   "source": [
    "In this case the likelihood has nuisance parameters, to be copied in the input ``*.param`` file."
   ]
  },
  {
   "cell_type": "code",
   "execution_count": null,
   "id": "921fbe5b",
   "metadata": {
    "slideshow": {
     "slide_type": "fragment"
    }
   },
   "outputs": [],
   "source": [
    "!cat _tests/montepython/FSLikelihood/FSLikelihood.param"
   ]
  },
  {
   "cell_type": "code",
   "execution_count": null,
   "id": "cdbbbc54",
   "metadata": {
    "slideshow": {
     "slide_type": "fragment"
    }
   },
   "outputs": [],
   "source": [
    "%%file _tests/conf_bao_fs.param\n",
    "\n",
    "data.experiments = ['BAOLikelihood', 'FSLikelihood']\n",
    "\n",
    "# Lista de parámetros cosmológicos\n",
    "data.parameters['Omega_m'] = [0.3, 0.1, 0.9, 0.1, 1., 'cosmo']\n",
    "# Parámetros fijos\n",
    "data.parameters['omega_b'] = [0.02237, 0.001, 0.1, 0., 1., 'cosmo']\n",
    "data.parameters['H0'] = [67.36, 0.1, 0.9, 0., 1., 'cosmo']\n",
    "data.parameters['A_s'] = [2.083e-09, 1e-09, 3e-09, 0., 1., 'cosmo']\n",
    "data.parameters['n_s'] = [0.9649, 0.9, 1.0, 0., 1., 'cosmo']\n",
    "data.parameters['tau_reio'] = [0.0544, 0.02, 0.1, 0., 1., 'cosmo']\n",
    "\n",
    "# Lista de parámetros Nuisance\n",
    "data.parameters['sigmapar'] = [0.0, 0.0, 10.0, 0.0, 1.0, 'nuisance']\n",
    "data.parameters['sigmaper'] = [0.0, 0.0, 10.0, 0.0, 1.0, 'nuisance']\n",
    "data.parameters['b1'] = [1.5, 0.0, 4.0, 0.28867513459481287, 1.0, 'nuisance']\n",
    "\n",
    "# Argumentos Cosmo\n",
    "data.cosmo_arguments['k_pivot'] = 0.05\n",
    "# El modelo base incluye dos neutrinos\n",
    "# sin masa y un neutrino masivo con m=0.06eV.\n",
    "# Los ajustes siguientes garantizan que Neff=3.046\n",
    "# y m/omega = 93.14 eV\n",
    "data.cosmo_arguments['N_ur'] = 2.0328\n",
    "data.cosmo_arguments['N_ncdm'] = 1\n",
    "data.cosmo_arguments['m_ncdm'] = 0.06\n",
    "data.cosmo_arguments['T_ncdm'] = 0.71611\n",
    "\n",
    "#------ parámetros MCMC ----\n",
    "# Número de pasos a tomar, por default (sobreescrito por el comando -N)\n",
    "data.N = 9000\n",
    "# Número de pasos aceptados antes de escribir al archivo de las chains. \n",
    "# Mientras más grande el número, se accesa menos al disco,\n",
    "# pero realistamente esto no consume mucho tiempo\n",
    "data.write_step = 5"
   ]
  },
  {
   "cell_type": "markdown",
   "id": "504e6e7f",
   "metadata": {
    "slideshow": {
     "slide_type": "subslide"
    }
   },
   "source": [
    "Hagamos el sampleo!"
   ]
  },
  {
   "cell_type": "code",
   "execution_count": null,
   "id": "9ff6e73e",
   "metadata": {
    "slideshow": {
     "slide_type": "fragment"
    }
   },
   "outputs": [],
   "source": [
    "!python _tests/montepython_public/montepython/MontePython.py run --conf _tests/montepython_public/default.conf -p _tests/conf_bao_fs.param -o _tests/chains_bao_fs_montepython"
   ]
  },
  {
   "cell_type": "code",
   "execution_count": null,
   "id": "22cd16c3",
   "metadata": {
    "slideshow": {
     "slide_type": "skip"
    }
   },
   "outputs": [],
   "source": [
    "# Para cargar samples de MontePython\n",
    "from datetime import date\n",
    "from getdist.mcsamples import loadMCSamples\n",
    "samples_bao_fs_montepython = loadMCSamples('_tests/chains_bao_fs_montepython/{}_9000_'.format(date.today()),\n",
    "                                           settings={'ignore_rows': 0.5}).copy(label='montepython')"
   ]
  },
  {
   "cell_type": "code",
   "execution_count": null,
   "id": "c24e48d1",
   "metadata": {
    "slideshow": {
     "slide_type": "subslide"
    }
   },
   "outputs": [],
   "source": [
    "g = plots.get_subplot_plotter()\n",
    "g.triangle_plot([samples_bao_fs_cobaya, samples_bao_fs_cosmosis, samples_bao_fs_montepython],\n",
    "                 params=['Omega_m', 'b1'], markers={'Omega_m': cosmo['Omega_m'], 'b1': 1.5})"
   ]
  },
  {
   "cell_type": "markdown",
   "id": "359a6ef6",
   "metadata": {
    "slideshow": {
     "slide_type": "slide"
    }
   },
   "source": [
    "# Recapitulación\n",
    "\n",
    "- likelihoods comprimidas o full-shape son definidas solamente una vez, dentro de desilike\n",
    "- bindings para Cobaya, CosmoSIS y MontePython son generados con un simple llamado de función\n",
    "- para Cobaya, la likelihood generada se puede importar directamente\n",
    "- para CosmoSIS y MontePython, la descripción de los parámetros nuisance debe ser copiada en el archivo de configuración usado como input"
   ]
  },
  {
   "cell_type": "markdown",
   "id": "cc3614b2",
   "metadata": {},
   "source": []
  }
 ],
 "metadata": {
  "celltoolbar": "Diaporama",
  "kernelspec": {
   "display_name": "Python 3",
   "language": "python",
   "name": "python3"
  },
  "language_info": {
   "codemirror_mode": {
    "name": "ipython",
    "version": 3
   },
   "file_extension": ".py",
   "mimetype": "text/x-python",
   "name": "python",
   "nbconvert_exporter": "python",
   "pygments_lexer": "ipython3",
   "version": "3.8.10"
  }
 },
 "nbformat": 4,
 "nbformat_minor": 5
}
