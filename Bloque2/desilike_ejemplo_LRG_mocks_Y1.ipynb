{
 "cells": [
  {
   "cell_type": "markdown",
   "metadata": {},
   "source": [
    "## Ejemplo: fit LRG con mocks de primera generación de caja cúbica\n",
    "\n",
    "Ver [https://github.com/cosmodesi/desi-y1-kp7/tree/main/mock_challenge_y1](https://github.com/cosmodesi/desi-y1-kp7/tree/main/mock_challenge_y1) para un ejemplo ejecutable"
   ]
  },
  {
   "cell_type": "markdown",
   "metadata": {},
   "source": [
    "### Definir la likelihood"
   ]
  },
  {
   "cell_type": "code",
   "execution_count": null,
   "metadata": {},
   "outputs": [],
   "source": [
    "from desilike.theories.galaxy_clustering import ShapeFitPowerSpectrumTemplate,\\\n",
    "                                                FOLPSTracerPowerSpectrumMultipoles\n",
    "from desilike.observables.galaxy_clustering import TracerPowerSpectrumMultipolesObservable\n",
    "from desilike.likelihoods import ObservablesGaussianLikelihood\n",
    "\n",
    "template = ShapeFitPowerSpectrumTemplate(z=0.8)\n",
    "theory = FOLPSTracerPowerSpectrumMultipoles(template=template)\n",
    "observable = TracerPowerSpectrumMultipolesObservable(klim={0: [0.02, 0.18, 0.005], 2: [0.02, 0.18, 0.005]},\n",
    "                                                     data='/global/cfs/cdirs/desi/cosmosim/KP45/MC/Clustering/AbacusSummit/CubicBox/LRG/Pk/Pre/jmena/nmesh_512/pypower_format/Pk_AbacusSummit_base_*.npy',\n",
    "                                                     covariance='/global/cfs/cdirs/desi/cosmosim/KP45/MC/Clustering/EZmock/CubicBox/LRG/Pk/jmena/nmesh_512/pypower_format/Pk_EZmock_B2000G512Z0.8N8015724_b0.385d4r169c0.3_seed*.npy',\n",
    "                                                     wmatrix='/global/cfs/cdirs/desi/users/adematti/desi_mock_challenge/FirstGenMocks/AbacusSummit/CubicBox/ELG/z1.100/window_nmesh512_los-x.npy',\n",
    "                                                     kinlim=(0., 0.25),  # just to restrict input theory k's\n",
    "                                                     theory=theory)\n",
    "# Here we could give a list of several observables + joint covariance matrix\n",
    "likelihood = ObservablesGaussianLikelihood(observables=[observable],\n",
    "                                           scale_covariance=1. / 25.)\n",
    "# We can also sum up independent likelihoods (likelihood1 + likelihood2)\n",
    "# Call likelihood\n",
    "likelihood(qpar=0.99, qper=1.01)"
   ]
  },
  {
   "cell_type": "markdown",
   "metadata": {},
   "source": [
    "### Emular la teoría\n",
    "\n",
    "Tip: Ejecutar con varios procesos MPI!"
   ]
  },
  {
   "cell_type": "code",
   "execution_count": null,
   "metadata": {},
   "outputs": [],
   "source": [
    "from desilike.emulators import Emulator, TaylorEmulatorEngine, EmulatedCalculator\n",
    "\n",
    "# theory.pt = Parte de teoría de perturbación, sólo depende de los parámetros del template (qpar, qper, df, dm)\n",
    "emulator = Emulator(theory.pt, engine=TaylorEmulatorEngine(method='finite', order=4))\n",
    "emulator.set_samples()\n",
    "emulator.fit()\n",
    "pt = emulator.to_calculator()\n",
    "# emulator.save(emulator_fn); pt = EmulatedCalculator.load(emulator_fn)\n",
    "\n",
    "# Reemplazar la parte de teoría de perturbación con la nueva!\n",
    "theory.init.update(pt=pt)"
   ]
  },
  {
   "cell_type": "markdown",
   "metadata": {},
   "source": [
    "### Sample\n",
    "\n",
    "Tip: Ejecutar con varios procesos MPI!"
   ]
  },
  {
   "cell_type": "code",
   "execution_count": null,
   "metadata": {},
   "outputs": [],
   "source": [
    "from desilike.samplers import EmceeSampler\n",
    "\n",
    "sampler = EmceeSampler(likelihood, chains=8, nwalkers=40, seed=42, save_fn='chain_*.npy')\n",
    "chains = sampler.run(min_iterations=2000, check={'max_eigen_gr': 0.03})"
   ]
  },
  {
   "cell_type": "code",
   "execution_count": null,
   "metadata": {},
   "outputs": [],
   "source": [
    "### Re-cargar las chains y concatenarlas\n",
    "from desilike.samples import Chain\n",
    "\n",
    "chain = Chain.concatenate([Chain.load('chain_{:d}.npy'.format(i)).remove_burnin(0.5)[::10]\n",
    "                           for i in range(8)])\n",
    "# Si se desea convertir a formato GetDist:\n",
    "chain.to_getdist()"
   ]
  },
  {
   "cell_type": "markdown",
   "metadata": {},
   "source": [
    "### Usar las mediciones con compresión para hacer inferencia de las posteriors"
   ]
  },
  {
   "cell_type": "code",
   "execution_count": null,
   "metadata": {},
   "outputs": [],
   "source": [
    "from desilike.observables.galaxy_clustering import ShapeFitCompressionObservable\n",
    "\n",
    "observable = ShapeFitCompressionObservable(data=chain, covariance=chain,\n",
    "                                           params=['qpar', 'qper', 'dm', 'df'], z=0.8)\n",
    "likelihood = ObservablesGaussianLikelihood(observables=[observable])\n",
    "\n",
    "sampler = EmceeSampler(likelihood, chains=8, nwalkers=40, seed=42, save_fn='chain_shapefit_*.npy')\n",
    "chains = sampler.run(min_iterations=2000, check={'max_eigen_gr': 0.03})"
   ]
  }
 ],
 "metadata": {
  "kernelspec": {
   "display_name": "Python 3",
   "language": "python",
   "name": "python3"
  },
  "language_info": {
   "codemirror_mode": {
    "name": "ipython",
    "version": 3
   },
   "file_extension": ".py",
   "mimetype": "text/x-python",
   "name": "python",
   "nbconvert_exporter": "python",
   "pygments_lexer": "ipython3",
   "version": "3.8.10"
  },
  "orig_nbformat": 4
 },
 "nbformat": 4,
 "nbformat_minor": 2
}
